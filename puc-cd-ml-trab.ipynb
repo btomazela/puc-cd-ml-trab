{
  "nbformat": 4,
  "nbformat_minor": 0,
  "metadata": {
    "colab": {
      "name": "Cópia de Grupo 3 - Trabalho Final ML - 7. Projeto completo de Classificação Binária - Consolidado 27-07-21 (Até item 5.2 - engloba 5.3 e 6 do template).ipynb",
      "provenance": [],
      "collapsed_sections": [
        "z1PEQEdZ9zm4",
        "2PcB0Efd-MS4",
        "KBSgQt_z_TnV",
        "bqINv-wo_Xfe",
        "R_5Ntt3f_tTv",
        "oMMGbjYbAe-3",
        "mE4-PIaTAfKX",
        "wZxYswFlJjsH",
        "QLHL9deZviZp",
        "rBexD4P2RDOW",
        "FHj8fROagpHh",
        "LoLQBjKl9JVD"
      ],
      "include_colab_link": true
    },
    "kernelspec": {
      "display_name": "Python 3",
      "name": "python3"
    }
  },
  "cells": [
    {
      "cell_type": "markdown",
      "metadata": {
        "id": "view-in-github",
        "colab_type": "text"
      },
      "source": [
        "<a href=\"https://colab.research.google.com/github/btomazela/puc-cd-ml-trab/blob/master/puc-cd-ml-trab.ipynb\" target=\"_parent\"><img src=\"https://colab.research.google.com/assets/colab-badge.svg\" alt=\"Open In Colab\"/></a>"
      ]
    },
    {
      "cell_type": "markdown",
      "metadata": {
        "id": "otEdveLq8Hn0"
      },
      "source": [
        "# Especialização em Ciência de Dados - PUC-Rio\n",
        "# Machine Learning - Prof. Tatiana Escovedo\n",
        "# Projeto completo de Classificação Binária\n"
      ]
    },
    {
      "cell_type": "markdown",
      "metadata": {
        "id": "z1PEQEdZ9zm4"
      },
      "source": [
        "## 1. Definição do Problema"
      ]
    },
    {
      "cell_type": "markdown",
      "metadata": {
        "id": "HDcdO4yx9db6"
      },
      "source": [
        "O dataset usado neste projeto será o **Adult Data Set**, proveniente originalmente do banco de dados do censo norte americano de 1994. Seu objetivo é prever se uma pessoa ganha mais de `$50k` ao ano, com base em um conjunto de características sócio-econômicas. Este dataset é um subconjunto do dataset original e aqui, todos as pessoas são maiores de 16 anos (`age > 16`), trabalham pelo menos 1 hora por semana (`hours-per-week > 0`), representam mais de uma 1 pessoa da população (`fnlwgt > 1`) e um quarto filtro que deduzimos ser o sálário bruto maior que $100 (`agi > 100`, referência: https://www.census.gov/programs-surveys/saipe/guidance/model-input-data/income-tax.html).\n",
        "\n",
        "O dataset apresenta diversos atributos relacionados a dados sócio-econômicos e uma variável de classe binária (`>50K` ou `<=50K`). As variáveis ​​preditoras incluem a idade, o grau de escolaridade, o estado civil, raça, sexo, dentre outros. Para mais detalhes sobre este dataset, consulte: https://archive.ics.uci.edu/ml/datasets/Adult\n",
        "\n",
        "\n",
        "**Informações sobre os atributos:**\n",
        "1. '>50K', '<=50K' (Class/Income)\n",
        "2. age: continuous.\n",
        "3. workclass: Private, Self-emp-not-inc, Self-emp-inc, Federal-gov, Local-gov, State-gov, Without-pay, Never-worked.\n",
        "4. fnlwgt: continuous.\n",
        "5. education: Bachelors, Some-college, 11th, HS-grad, Prof-school, Assoc-acdm, Assoc-voc, 9th, 7th-8th, 12th, Masters, 1st-4th, 10th, Doctorate, 5th-6th, Preschool.\n",
        "6. education-num: continuous.\n",
        "7. marital-status: Married-civ-spouse, Divorced, Never-married, Separated, Widowed, Married-spouse-absent, Married-AF-spouse.\n",
        "8. occupation: Tech-support, Craft-repair, Other-service, Sales, Exec-managerial, Prof-specialty, Handlers-cleaners, Machine-op-inspct, Adm-clerical, Farming-fishing, Transport-moving, Priv-house-serv, Protective-serv, Armed-Forces.\n",
        "9. relationship: Wife, Own-child, Husband, Not-in-family, Other-relative, Unmarried.\n",
        "10. race: White, Asian-Pac-Islander, Amer-Indian-Eskimo, Other, Black.\n",
        "11. sex: Female, Male.\n",
        "12. capital-gain: continuous.\n",
        "13. capital-loss: continuous.\n",
        "14. hours-per-week: continuous.\n",
        "15. native-country: United-States, Cambodia, England, Puerto-Rico, Canada, Germany, Outlying-US(Guam-USVI-etc), India, Japan, Greece, South, China, Cuba, Iran, Honduras, Philippines, Italy, Poland, Jamaica, Vietnam, Mexico, Portugal, Ireland, France, Dominican-Republic, Laos, Ecuador, Taiwan, Haiti, Columbia, Hungary, Guatemala, Nicaragua, Scotland, Thailand, Yugoslavia, El-Salvador, Trinadad&Tobago, Peru, Hong, Holand-Netherlands. "
      ]
    },
    {
      "cell_type": "code",
      "metadata": {
        "id": "4H03JxXtUZmI"
      },
      "source": [
        "#teste github"
      ],
      "execution_count": null,
      "outputs": []
    },
    {
      "cell_type": "code",
      "metadata": {
        "id": "RCn8CH4M7wF-"
      },
      "source": [
        "# Imports\n",
        "import pandas as pd\n",
        "import numpy as np\n",
        "import matplotlib\n",
        "import matplotlib.pyplot as plt\n",
        "\n",
        "import seaborn as sns\n",
        "import missingno as ms # para tratamento de missings\n",
        "\n",
        "from sklearn.impute import SimpleImputer\n",
        "from sklearn.compose import ColumnTransformer\n",
        "\n",
        "# from matplotlib import cm\n",
        "# from pandas import set_option\n",
        "# from pandas.plotting import scatter_matrix\n",
        "from sklearn.preprocessing import StandardScaler # para padronização\n",
        "from sklearn.preprocessing import MinMaxScaler # para normalização\n",
        "from sklearn.preprocessing import OneHotEncoder # para one-hot encoding e dummies\n",
        "from sklearn.model_selection import train_test_split\n",
        "from sklearn.model_selection import KFold\n",
        "from sklearn.model_selection import cross_val_score\n",
        "from sklearn.model_selection import GridSearchCV\n",
        "# from sklearn.metrics import classification_report\n",
        "# from sklearn.metrics import confusion_matrix\n",
        "# from sklearn.metrics import accuracy_score\n",
        "from sklearn.pipeline import Pipeline\n",
        "from sklearn.linear_model import LogisticRegression\n",
        "from sklearn.tree import DecisionTreeClassifier\n",
        "from sklearn.neighbors import KNeighborsClassifier\n",
        "from sklearn.naive_bayes import GaussianNB\n",
        "from sklearn.svm import SVC\n",
        "from sklearn.ensemble import BaggingClassifier\n",
        "from sklearn.ensemble import RandomForestClassifier\n",
        "from sklearn.ensemble import ExtraTreesClassifier\n",
        "from sklearn.ensemble import VotingClassifier\n",
        "from sklearn.ensemble import AdaBoostClassifier\n",
        "from sklearn.ensemble import GradientBoostingClassifier\n",
        "\n",
        "import time\n",
        "from datetime import datetime, timezone, timedelta\n",
        "\n",
        "# seed para o gerador de números aleatórios\n",
        "seed = 13\n",
        "np.random.seed(seed)\n",
        "\n",
        "from warnings import simplefilter\n",
        "simplefilter(action='ignore', category=FutureWarning)\n",
        "simplefilter(action='ignore', category=UserWarning)"
      ],
      "execution_count": null,
      "outputs": []
    },
    {
      "cell_type": "markdown",
      "metadata": {
        "id": "2PcB0Efd-MS4"
      },
      "source": [
        "## 2. Carga de Dados"
      ]
    },
    {
      "cell_type": "markdown",
      "metadata": {
        "id": "rmHBahfF-cJL"
      },
      "source": [
        "Iremos usar o pacote Pandas ( Python Data Analysis Library) para carregar de um arquivo .csv sem cabeçalho disponível online.\n",
        "\n",
        "Com o dataset carregado, iremos explorá-lo um pouco."
      ]
    },
    {
      "cell_type": "code",
      "metadata": {
        "id": "dJpWLh52-aPE"
      },
      "source": [
        "# configuração para não exibir os warnings\n",
        "import warnings\n",
        "warnings.filterwarnings(\"ignore\")"
      ],
      "execution_count": null,
      "outputs": []
    },
    {
      "cell_type": "code",
      "metadata": {
        "id": "29AFuCPtvG_i"
      },
      "source": [
        "# Carrega arquivo csv usando Pandas usando uma URL\n",
        "\n",
        "# Informa a URL de importação do dataset\n",
        "url_train = 'https://archive.ics.uci.edu/ml/machine-learning-databases/adult/adult.data'\n",
        "url_test = 'https://archive.ics.uci.edu/ml/machine-learning-databases/adult/adult.test'\n",
        "\n",
        "# Informa o cabeçalho das colunas\n",
        "attributes = ['age', \n",
        "              'workclass', \n",
        "              'fnlwgt', \n",
        "              'education', \n",
        "              'education-num', \n",
        "              'marital-status', \n",
        "              'occupation', \n",
        "              'relationship', \n",
        "              'race', \n",
        "              'sex', \n",
        "              'capital-gain', \n",
        "              'capital-loss', \n",
        "              'hours-per-week', \n",
        "              'native-country', \n",
        "              'income']\n",
        "\n",
        "# Lê o arquivo utilizando as colunas informadas\n",
        "dataset = pd.read_csv(url_train, names=attributes,  index_col=False)"
      ],
      "execution_count": null,
      "outputs": []
    },
    {
      "cell_type": "markdown",
      "metadata": {
        "id": "K63hMajrj8DK"
      },
      "source": [
        "Exibindo as primeiras 5 linhas do dataset para verificar se foi carregado corretamente."
      ]
    },
    {
      "cell_type": "code",
      "metadata": {
        "colab": {
          "base_uri": "https://localhost:8080/"
        },
        "id": "pxWtav9TyS1R",
        "outputId": "4efb5e46-32e1-4a47-bc8e-6d84b0c1829d"
      },
      "source": [
        "dataset.head()"
      ],
      "execution_count": null,
      "outputs": [
        {
          "output_type": "execute_result",
          "data": {
            "text/html": [
              "<div>\n",
              "<style scoped>\n",
              "    .dataframe tbody tr th:only-of-type {\n",
              "        vertical-align: middle;\n",
              "    }\n",
              "\n",
              "    .dataframe tbody tr th {\n",
              "        vertical-align: top;\n",
              "    }\n",
              "\n",
              "    .dataframe thead th {\n",
              "        text-align: right;\n",
              "    }\n",
              "</style>\n",
              "<table border=\"1\" class=\"dataframe\">\n",
              "  <thead>\n",
              "    <tr style=\"text-align: right;\">\n",
              "      <th></th>\n",
              "      <th>age</th>\n",
              "      <th>workclass</th>\n",
              "      <th>fnlwgt</th>\n",
              "      <th>education</th>\n",
              "      <th>education-num</th>\n",
              "      <th>marital-status</th>\n",
              "      <th>occupation</th>\n",
              "      <th>relationship</th>\n",
              "      <th>race</th>\n",
              "      <th>sex</th>\n",
              "      <th>capital-gain</th>\n",
              "      <th>capital-loss</th>\n",
              "      <th>hours-per-week</th>\n",
              "      <th>native-country</th>\n",
              "      <th>income</th>\n",
              "    </tr>\n",
              "  </thead>\n",
              "  <tbody>\n",
              "    <tr>\n",
              "      <th>0</th>\n",
              "      <td>39</td>\n",
              "      <td>State-gov</td>\n",
              "      <td>77516</td>\n",
              "      <td>Bachelors</td>\n",
              "      <td>13</td>\n",
              "      <td>Never-married</td>\n",
              "      <td>Adm-clerical</td>\n",
              "      <td>Not-in-family</td>\n",
              "      <td>White</td>\n",
              "      <td>Male</td>\n",
              "      <td>2174</td>\n",
              "      <td>0</td>\n",
              "      <td>40</td>\n",
              "      <td>United-States</td>\n",
              "      <td>&lt;=50K</td>\n",
              "    </tr>\n",
              "    <tr>\n",
              "      <th>1</th>\n",
              "      <td>50</td>\n",
              "      <td>Self-emp-not-inc</td>\n",
              "      <td>83311</td>\n",
              "      <td>Bachelors</td>\n",
              "      <td>13</td>\n",
              "      <td>Married-civ-spouse</td>\n",
              "      <td>Exec-managerial</td>\n",
              "      <td>Husband</td>\n",
              "      <td>White</td>\n",
              "      <td>Male</td>\n",
              "      <td>0</td>\n",
              "      <td>0</td>\n",
              "      <td>13</td>\n",
              "      <td>United-States</td>\n",
              "      <td>&lt;=50K</td>\n",
              "    </tr>\n",
              "    <tr>\n",
              "      <th>2</th>\n",
              "      <td>38</td>\n",
              "      <td>Private</td>\n",
              "      <td>215646</td>\n",
              "      <td>HS-grad</td>\n",
              "      <td>9</td>\n",
              "      <td>Divorced</td>\n",
              "      <td>Handlers-cleaners</td>\n",
              "      <td>Not-in-family</td>\n",
              "      <td>White</td>\n",
              "      <td>Male</td>\n",
              "      <td>0</td>\n",
              "      <td>0</td>\n",
              "      <td>40</td>\n",
              "      <td>United-States</td>\n",
              "      <td>&lt;=50K</td>\n",
              "    </tr>\n",
              "    <tr>\n",
              "      <th>3</th>\n",
              "      <td>53</td>\n",
              "      <td>Private</td>\n",
              "      <td>234721</td>\n",
              "      <td>11th</td>\n",
              "      <td>7</td>\n",
              "      <td>Married-civ-spouse</td>\n",
              "      <td>Handlers-cleaners</td>\n",
              "      <td>Husband</td>\n",
              "      <td>Black</td>\n",
              "      <td>Male</td>\n",
              "      <td>0</td>\n",
              "      <td>0</td>\n",
              "      <td>40</td>\n",
              "      <td>United-States</td>\n",
              "      <td>&lt;=50K</td>\n",
              "    </tr>\n",
              "    <tr>\n",
              "      <th>4</th>\n",
              "      <td>28</td>\n",
              "      <td>Private</td>\n",
              "      <td>338409</td>\n",
              "      <td>Bachelors</td>\n",
              "      <td>13</td>\n",
              "      <td>Married-civ-spouse</td>\n",
              "      <td>Prof-specialty</td>\n",
              "      <td>Wife</td>\n",
              "      <td>Black</td>\n",
              "      <td>Female</td>\n",
              "      <td>0</td>\n",
              "      <td>0</td>\n",
              "      <td>40</td>\n",
              "      <td>Cuba</td>\n",
              "      <td>&lt;=50K</td>\n",
              "    </tr>\n",
              "  </tbody>\n",
              "</table>\n",
              "</div>"
            ],
            "text/plain": [
              "   age          workclass  fnlwgt  ... hours-per-week  native-country  income\n",
              "0   39          State-gov   77516  ...             40   United-States   <=50K\n",
              "1   50   Self-emp-not-inc   83311  ...             13   United-States   <=50K\n",
              "2   38            Private  215646  ...             40   United-States   <=50K\n",
              "3   53            Private  234721  ...             40   United-States   <=50K\n",
              "4   28            Private  338409  ...             40            Cuba   <=50K\n",
              "\n",
              "[5 rows x 15 columns]"
            ]
          },
          "metadata": {
            "tags": []
          },
          "execution_count": 5
        }
      ]
    },
    {
      "cell_type": "markdown",
      "metadata": {
        "id": "Q7hz9D7wkKqm"
      },
      "source": [
        "Exibindo as últimas 5 linhas do dataset para verificar se foi carregado corretamente."
      ]
    },
    {
      "cell_type": "code",
      "metadata": {
        "colab": {
          "base_uri": "https://localhost:8080/"
        },
        "id": "n7M50Ov8kGEa",
        "outputId": "93372e19-2250-4549-e408-c34cdfda4884"
      },
      "source": [
        "dataset.tail()"
      ],
      "execution_count": null,
      "outputs": [
        {
          "output_type": "execute_result",
          "data": {
            "text/html": [
              "<div>\n",
              "<style scoped>\n",
              "    .dataframe tbody tr th:only-of-type {\n",
              "        vertical-align: middle;\n",
              "    }\n",
              "\n",
              "    .dataframe tbody tr th {\n",
              "        vertical-align: top;\n",
              "    }\n",
              "\n",
              "    .dataframe thead th {\n",
              "        text-align: right;\n",
              "    }\n",
              "</style>\n",
              "<table border=\"1\" class=\"dataframe\">\n",
              "  <thead>\n",
              "    <tr style=\"text-align: right;\">\n",
              "      <th></th>\n",
              "      <th>age</th>\n",
              "      <th>workclass</th>\n",
              "      <th>fnlwgt</th>\n",
              "      <th>education</th>\n",
              "      <th>education-num</th>\n",
              "      <th>marital-status</th>\n",
              "      <th>occupation</th>\n",
              "      <th>relationship</th>\n",
              "      <th>race</th>\n",
              "      <th>sex</th>\n",
              "      <th>capital-gain</th>\n",
              "      <th>capital-loss</th>\n",
              "      <th>hours-per-week</th>\n",
              "      <th>native-country</th>\n",
              "      <th>income</th>\n",
              "    </tr>\n",
              "  </thead>\n",
              "  <tbody>\n",
              "    <tr>\n",
              "      <th>32556</th>\n",
              "      <td>27</td>\n",
              "      <td>Private</td>\n",
              "      <td>257302</td>\n",
              "      <td>Assoc-acdm</td>\n",
              "      <td>12</td>\n",
              "      <td>Married-civ-spouse</td>\n",
              "      <td>Tech-support</td>\n",
              "      <td>Wife</td>\n",
              "      <td>White</td>\n",
              "      <td>Female</td>\n",
              "      <td>0</td>\n",
              "      <td>0</td>\n",
              "      <td>38</td>\n",
              "      <td>United-States</td>\n",
              "      <td>&lt;=50K</td>\n",
              "    </tr>\n",
              "    <tr>\n",
              "      <th>32557</th>\n",
              "      <td>40</td>\n",
              "      <td>Private</td>\n",
              "      <td>154374</td>\n",
              "      <td>HS-grad</td>\n",
              "      <td>9</td>\n",
              "      <td>Married-civ-spouse</td>\n",
              "      <td>Machine-op-inspct</td>\n",
              "      <td>Husband</td>\n",
              "      <td>White</td>\n",
              "      <td>Male</td>\n",
              "      <td>0</td>\n",
              "      <td>0</td>\n",
              "      <td>40</td>\n",
              "      <td>United-States</td>\n",
              "      <td>&gt;50K</td>\n",
              "    </tr>\n",
              "    <tr>\n",
              "      <th>32558</th>\n",
              "      <td>58</td>\n",
              "      <td>Private</td>\n",
              "      <td>151910</td>\n",
              "      <td>HS-grad</td>\n",
              "      <td>9</td>\n",
              "      <td>Widowed</td>\n",
              "      <td>Adm-clerical</td>\n",
              "      <td>Unmarried</td>\n",
              "      <td>White</td>\n",
              "      <td>Female</td>\n",
              "      <td>0</td>\n",
              "      <td>0</td>\n",
              "      <td>40</td>\n",
              "      <td>United-States</td>\n",
              "      <td>&lt;=50K</td>\n",
              "    </tr>\n",
              "    <tr>\n",
              "      <th>32559</th>\n",
              "      <td>22</td>\n",
              "      <td>Private</td>\n",
              "      <td>201490</td>\n",
              "      <td>HS-grad</td>\n",
              "      <td>9</td>\n",
              "      <td>Never-married</td>\n",
              "      <td>Adm-clerical</td>\n",
              "      <td>Own-child</td>\n",
              "      <td>White</td>\n",
              "      <td>Male</td>\n",
              "      <td>0</td>\n",
              "      <td>0</td>\n",
              "      <td>20</td>\n",
              "      <td>United-States</td>\n",
              "      <td>&lt;=50K</td>\n",
              "    </tr>\n",
              "    <tr>\n",
              "      <th>32560</th>\n",
              "      <td>52</td>\n",
              "      <td>Self-emp-inc</td>\n",
              "      <td>287927</td>\n",
              "      <td>HS-grad</td>\n",
              "      <td>9</td>\n",
              "      <td>Married-civ-spouse</td>\n",
              "      <td>Exec-managerial</td>\n",
              "      <td>Wife</td>\n",
              "      <td>White</td>\n",
              "      <td>Female</td>\n",
              "      <td>15024</td>\n",
              "      <td>0</td>\n",
              "      <td>40</td>\n",
              "      <td>United-States</td>\n",
              "      <td>&gt;50K</td>\n",
              "    </tr>\n",
              "  </tbody>\n",
              "</table>\n",
              "</div>"
            ],
            "text/plain": [
              "       age      workclass  fnlwgt  ... hours-per-week  native-country  income\n",
              "32556   27        Private  257302  ...             38   United-States   <=50K\n",
              "32557   40        Private  154374  ...             40   United-States    >50K\n",
              "32558   58        Private  151910  ...             40   United-States   <=50K\n",
              "32559   22        Private  201490  ...             20   United-States   <=50K\n",
              "32560   52   Self-emp-inc  287927  ...             40   United-States    >50K\n",
              "\n",
              "[5 rows x 15 columns]"
            ]
          },
          "metadata": {
            "tags": []
          },
          "execution_count": 6
        }
      ]
    },
    {
      "cell_type": "markdown",
      "metadata": {
        "id": "KBSgQt_z_TnV"
      },
      "source": [
        "## 3. Análise de Dados"
      ]
    },
    {
      "cell_type": "markdown",
      "metadata": {
        "id": "bqINv-wo_Xfe"
      },
      "source": [
        "### 3.1. Estatísticas Descritivas\n",
        "\n",
        "Vamos iniciar examinando as dimensões do dataset, suas informações e alguns exemplos de linhas."
      ]
    },
    {
      "cell_type": "code",
      "metadata": {
        "colab": {
          "base_uri": "https://localhost:8080/"
        },
        "id": "zF3f00Zl_g7j",
        "outputId": "c46fe995-53e9-4481-8601-6c5ab48a78e0"
      },
      "source": [
        "# Mostra as dimensões do dataset\n",
        "print(dataset.shape)"
      ],
      "execution_count": null,
      "outputs": [
        {
          "output_type": "stream",
          "text": [
            "(32561, 15)\n"
          ],
          "name": "stdout"
        }
      ]
    },
    {
      "cell_type": "code",
      "metadata": {
        "colab": {
          "base_uri": "https://localhost:8080/"
        },
        "id": "UUjmUTEOwQZt",
        "outputId": "1d70dd5f-f65f-4a5b-cbc2-6f110e8062f6"
      },
      "source": [
        "# Mostra as informações do dataset\n",
        "print(dataset.info())"
      ],
      "execution_count": null,
      "outputs": [
        {
          "output_type": "stream",
          "text": [
            "<class 'pandas.core.frame.DataFrame'>\n",
            "RangeIndex: 32561 entries, 0 to 32560\n",
            "Data columns (total 15 columns):\n",
            " #   Column          Non-Null Count  Dtype \n",
            "---  ------          --------------  ----- \n",
            " 0   age             32561 non-null  int64 \n",
            " 1   workclass       32561 non-null  object\n",
            " 2   fnlwgt          32561 non-null  int64 \n",
            " 3   education       32561 non-null  object\n",
            " 4   education-num   32561 non-null  int64 \n",
            " 5   marital-status  32561 non-null  object\n",
            " 6   occupation      32561 non-null  object\n",
            " 7   relationship    32561 non-null  object\n",
            " 8   race            32561 non-null  object\n",
            " 9   sex             32561 non-null  object\n",
            " 10  capital-gain    32561 non-null  int64 \n",
            " 11  capital-loss    32561 non-null  int64 \n",
            " 12  hours-per-week  32561 non-null  int64 \n",
            " 13  native-country  32561 non-null  object\n",
            " 14  income          32561 non-null  object\n",
            "dtypes: int64(6), object(9)\n",
            "memory usage: 3.7+ MB\n",
            "None\n"
          ],
          "name": "stdout"
        }
      ]
    },
    {
      "cell_type": "markdown",
      "metadata": {
        "id": "QPsqeBFGliVg"
      },
      "source": [
        "Pelo resultado do comando `dataset.info` não identificamos valores faltantes. Entretanto, executando o comando `dataset.workclass.value_counts()` verificamos que os atributos `workclass`, `occupation` e `native-country` possuem o valor `?`, que trataremos como valores faltantes."
      ]
    },
    {
      "cell_type": "code",
      "metadata": {
        "colab": {
          "base_uri": "https://localhost:8080/"
        },
        "id": "vWo7VXHEl7xi",
        "outputId": "e2277e5b-4a83-4ee5-ebff-3286f17f2fb8"
      },
      "source": [
        "for col in dataset.columns:\n",
        "  print(dataset[col].value_counts())\n",
        "  print('\\n------\\n')"
      ],
      "execution_count": null,
      "outputs": [
        {
          "output_type": "stream",
          "text": [
            "36    898\n",
            "31    888\n",
            "34    886\n",
            "23    877\n",
            "35    876\n",
            "     ... \n",
            "83      6\n",
            "85      3\n",
            "88      3\n",
            "87      1\n",
            "86      1\n",
            "Name: age, Length: 73, dtype: int64\n",
            "\n",
            "------\n",
            "\n",
            " Private             22696\n",
            " Self-emp-not-inc     2541\n",
            " Local-gov            2093\n",
            " ?                    1836\n",
            " State-gov            1298\n",
            " Self-emp-inc         1116\n",
            " Federal-gov           960\n",
            " Without-pay            14\n",
            " Never-worked            7\n",
            "Name: workclass, dtype: int64\n",
            "\n",
            "------\n",
            "\n",
            "164190    13\n",
            "203488    13\n",
            "123011    13\n",
            "113364    12\n",
            "121124    12\n",
            "          ..\n",
            "284211     1\n",
            "312881     1\n",
            "177711     1\n",
            "179758     1\n",
            "229376     1\n",
            "Name: fnlwgt, Length: 21648, dtype: int64\n",
            "\n",
            "------\n",
            "\n",
            " HS-grad         10501\n",
            " Some-college     7291\n",
            " Bachelors        5355\n",
            " Masters          1723\n",
            " Assoc-voc        1382\n",
            " 11th             1175\n",
            " Assoc-acdm       1067\n",
            " 10th              933\n",
            " 7th-8th           646\n",
            " Prof-school       576\n",
            " 9th               514\n",
            " 12th              433\n",
            " Doctorate         413\n",
            " 5th-6th           333\n",
            " 1st-4th           168\n",
            " Preschool          51\n",
            "Name: education, dtype: int64\n",
            "\n",
            "------\n",
            "\n",
            "9     10501\n",
            "10     7291\n",
            "13     5355\n",
            "14     1723\n",
            "11     1382\n",
            "7      1175\n",
            "12     1067\n",
            "6       933\n",
            "4       646\n",
            "15      576\n",
            "5       514\n",
            "8       433\n",
            "16      413\n",
            "3       333\n",
            "2       168\n",
            "1        51\n",
            "Name: education-num, dtype: int64\n",
            "\n",
            "------\n",
            "\n",
            " Married-civ-spouse       14976\n",
            " Never-married            10683\n",
            " Divorced                  4443\n",
            " Separated                 1025\n",
            " Widowed                    993\n",
            " Married-spouse-absent      418\n",
            " Married-AF-spouse           23\n",
            "Name: marital-status, dtype: int64\n",
            "\n",
            "------\n",
            "\n",
            " Prof-specialty       4140\n",
            " Craft-repair         4099\n",
            " Exec-managerial      4066\n",
            " Adm-clerical         3770\n",
            " Sales                3650\n",
            " Other-service        3295\n",
            " Machine-op-inspct    2002\n",
            " ?                    1843\n",
            " Transport-moving     1597\n",
            " Handlers-cleaners    1370\n",
            " Farming-fishing       994\n",
            " Tech-support          928\n",
            " Protective-serv       649\n",
            " Priv-house-serv       149\n",
            " Armed-Forces            9\n",
            "Name: occupation, dtype: int64\n",
            "\n",
            "------\n",
            "\n",
            " Husband           13193\n",
            " Not-in-family      8305\n",
            " Own-child          5068\n",
            " Unmarried          3446\n",
            " Wife               1568\n",
            " Other-relative      981\n",
            "Name: relationship, dtype: int64\n",
            "\n",
            "------\n",
            "\n",
            " White                 27816\n",
            " Black                  3124\n",
            " Asian-Pac-Islander     1039\n",
            " Amer-Indian-Eskimo      311\n",
            " Other                   271\n",
            "Name: race, dtype: int64\n",
            "\n",
            "------\n",
            "\n",
            " Male      21790\n",
            " Female    10771\n",
            "Name: sex, dtype: int64\n",
            "\n",
            "------\n",
            "\n",
            "0        29849\n",
            "15024      347\n",
            "7688       284\n",
            "7298       246\n",
            "99999      159\n",
            "         ...  \n",
            "4931         1\n",
            "1455         1\n",
            "6097         1\n",
            "22040        1\n",
            "1111         1\n",
            "Name: capital-gain, Length: 119, dtype: int64\n",
            "\n",
            "------\n",
            "\n",
            "0       31042\n",
            "1902      202\n",
            "1977      168\n",
            "1887      159\n",
            "1848       51\n",
            "        ...  \n",
            "1411        1\n",
            "1539        1\n",
            "2472        1\n",
            "1944        1\n",
            "2201        1\n",
            "Name: capital-loss, Length: 92, dtype: int64\n",
            "\n",
            "------\n",
            "\n",
            "40    15217\n",
            "50     2819\n",
            "45     1824\n",
            "60     1475\n",
            "35     1297\n",
            "      ...  \n",
            "92        1\n",
            "94        1\n",
            "87        1\n",
            "74        1\n",
            "82        1\n",
            "Name: hours-per-week, Length: 94, dtype: int64\n",
            "\n",
            "------\n",
            "\n",
            " United-States                 29170\n",
            " Mexico                          643\n",
            " ?                               583\n",
            " Philippines                     198\n",
            " Germany                         137\n",
            " Canada                          121\n",
            " Puerto-Rico                     114\n",
            " El-Salvador                     106\n",
            " India                           100\n",
            " Cuba                             95\n",
            " England                          90\n",
            " Jamaica                          81\n",
            " South                            80\n",
            " China                            75\n",
            " Italy                            73\n",
            " Dominican-Republic               70\n",
            " Vietnam                          67\n",
            " Guatemala                        64\n",
            " Japan                            62\n",
            " Poland                           60\n",
            " Columbia                         59\n",
            " Taiwan                           51\n",
            " Haiti                            44\n",
            " Iran                             43\n",
            " Portugal                         37\n",
            " Nicaragua                        34\n",
            " Peru                             31\n",
            " France                           29\n",
            " Greece                           29\n",
            " Ecuador                          28\n",
            " Ireland                          24\n",
            " Hong                             20\n",
            " Cambodia                         19\n",
            " Trinadad&Tobago                  19\n",
            " Thailand                         18\n",
            " Laos                             18\n",
            " Yugoslavia                       16\n",
            " Outlying-US(Guam-USVI-etc)       14\n",
            " Honduras                         13\n",
            " Hungary                          13\n",
            " Scotland                         12\n",
            " Holand-Netherlands                1\n",
            "Name: native-country, dtype: int64\n",
            "\n",
            "------\n",
            "\n",
            " <=50K    24720\n",
            " >50K      7841\n",
            "Name: income, dtype: int64\n",
            "\n",
            "------\n",
            "\n"
          ],
          "name": "stdout"
        }
      ]
    },
    {
      "cell_type": "markdown",
      "metadata": {
        "id": "zY7gaBfqwdy5"
      },
      "source": [
        "Verificando o tipo de cada atributo para identificar qual a técnica de pré-processamento adequada para cada um. Verificamos que alguns atributos são categóricos. Dessa forma, teremos que aplicar a técnica de one-hot-encoding ou dummy-encoding antes de passar esse dataset como entrada para alguns algoritmos de machine learning."
      ]
    },
    {
      "cell_type": "code",
      "metadata": {
        "colab": {
          "base_uri": "https://localhost:8080/"
        },
        "id": "0dRVheWE_mJQ",
        "outputId": "b7189213-037a-402c-a709-3c99bcb263ed"
      },
      "source": [
        "# Verifica o tipo de dataset de cada atributo\n",
        "dataset.dtypes"
      ],
      "execution_count": null,
      "outputs": [
        {
          "output_type": "execute_result",
          "data": {
            "text/plain": [
              "age                int64\n",
              "workclass         object\n",
              "fnlwgt             int64\n",
              "education         object\n",
              "education-num      int64\n",
              "marital-status    object\n",
              "occupation        object\n",
              "relationship      object\n",
              "race              object\n",
              "sex               object\n",
              "capital-gain       int64\n",
              "capital-loss       int64\n",
              "hours-per-week     int64\n",
              "native-country    object\n",
              "income            object\n",
              "dtype: object"
            ]
          },
          "metadata": {
            "tags": []
          },
          "execution_count": 10
        }
      ]
    },
    {
      "cell_type": "markdown",
      "metadata": {
        "id": "bIs7luZz2nx7"
      },
      "source": [
        "Pelo resumo estatístico do dataset, vemos que os atributos `capital-gain` e `capital-loss` possuem muitos valores zerados, pois tanto os valores mínimo e primeiro, segundo e terceiro quartis possuem valor `0`. Essa análise sugere que esses atributos podem ser removidos do dataset."
      ]
    },
    {
      "cell_type": "code",
      "metadata": {
        "colab": {
          "base_uri": "https://localhost:8080/"
        },
        "id": "7NKdYewownzG",
        "outputId": "dfb97bf3-f64a-4536-a985-0660db0e877b"
      },
      "source": [
        "# Faz um resumo estatístico do dataset (média, desvio padrão, mínimo, máximo e os quartis)\n",
        "dataset.describe()"
      ],
      "execution_count": null,
      "outputs": [
        {
          "output_type": "execute_result",
          "data": {
            "text/html": [
              "<div>\n",
              "<style scoped>\n",
              "    .dataframe tbody tr th:only-of-type {\n",
              "        vertical-align: middle;\n",
              "    }\n",
              "\n",
              "    .dataframe tbody tr th {\n",
              "        vertical-align: top;\n",
              "    }\n",
              "\n",
              "    .dataframe thead th {\n",
              "        text-align: right;\n",
              "    }\n",
              "</style>\n",
              "<table border=\"1\" class=\"dataframe\">\n",
              "  <thead>\n",
              "    <tr style=\"text-align: right;\">\n",
              "      <th></th>\n",
              "      <th>age</th>\n",
              "      <th>fnlwgt</th>\n",
              "      <th>education-num</th>\n",
              "      <th>capital-gain</th>\n",
              "      <th>capital-loss</th>\n",
              "      <th>hours-per-week</th>\n",
              "    </tr>\n",
              "  </thead>\n",
              "  <tbody>\n",
              "    <tr>\n",
              "      <th>count</th>\n",
              "      <td>32561.000000</td>\n",
              "      <td>3.256100e+04</td>\n",
              "      <td>32561.000000</td>\n",
              "      <td>32561.000000</td>\n",
              "      <td>32561.000000</td>\n",
              "      <td>32561.000000</td>\n",
              "    </tr>\n",
              "    <tr>\n",
              "      <th>mean</th>\n",
              "      <td>38.581647</td>\n",
              "      <td>1.897784e+05</td>\n",
              "      <td>10.080679</td>\n",
              "      <td>1077.648844</td>\n",
              "      <td>87.303830</td>\n",
              "      <td>40.437456</td>\n",
              "    </tr>\n",
              "    <tr>\n",
              "      <th>std</th>\n",
              "      <td>13.640433</td>\n",
              "      <td>1.055500e+05</td>\n",
              "      <td>2.572720</td>\n",
              "      <td>7385.292085</td>\n",
              "      <td>402.960219</td>\n",
              "      <td>12.347429</td>\n",
              "    </tr>\n",
              "    <tr>\n",
              "      <th>min</th>\n",
              "      <td>17.000000</td>\n",
              "      <td>1.228500e+04</td>\n",
              "      <td>1.000000</td>\n",
              "      <td>0.000000</td>\n",
              "      <td>0.000000</td>\n",
              "      <td>1.000000</td>\n",
              "    </tr>\n",
              "    <tr>\n",
              "      <th>25%</th>\n",
              "      <td>28.000000</td>\n",
              "      <td>1.178270e+05</td>\n",
              "      <td>9.000000</td>\n",
              "      <td>0.000000</td>\n",
              "      <td>0.000000</td>\n",
              "      <td>40.000000</td>\n",
              "    </tr>\n",
              "    <tr>\n",
              "      <th>50%</th>\n",
              "      <td>37.000000</td>\n",
              "      <td>1.783560e+05</td>\n",
              "      <td>10.000000</td>\n",
              "      <td>0.000000</td>\n",
              "      <td>0.000000</td>\n",
              "      <td>40.000000</td>\n",
              "    </tr>\n",
              "    <tr>\n",
              "      <th>75%</th>\n",
              "      <td>48.000000</td>\n",
              "      <td>2.370510e+05</td>\n",
              "      <td>12.000000</td>\n",
              "      <td>0.000000</td>\n",
              "      <td>0.000000</td>\n",
              "      <td>45.000000</td>\n",
              "    </tr>\n",
              "    <tr>\n",
              "      <th>max</th>\n",
              "      <td>90.000000</td>\n",
              "      <td>1.484705e+06</td>\n",
              "      <td>16.000000</td>\n",
              "      <td>99999.000000</td>\n",
              "      <td>4356.000000</td>\n",
              "      <td>99.000000</td>\n",
              "    </tr>\n",
              "  </tbody>\n",
              "</table>\n",
              "</div>"
            ],
            "text/plain": [
              "                age        fnlwgt  ...  capital-loss  hours-per-week\n",
              "count  32561.000000  3.256100e+04  ...  32561.000000    32561.000000\n",
              "mean      38.581647  1.897784e+05  ...     87.303830       40.437456\n",
              "std       13.640433  1.055500e+05  ...    402.960219       12.347429\n",
              "min       17.000000  1.228500e+04  ...      0.000000        1.000000\n",
              "25%       28.000000  1.178270e+05  ...      0.000000       40.000000\n",
              "50%       37.000000  1.783560e+05  ...      0.000000       40.000000\n",
              "75%       48.000000  2.370510e+05  ...      0.000000       45.000000\n",
              "max       90.000000  1.484705e+06  ...   4356.000000       99.000000\n",
              "\n",
              "[8 rows x 6 columns]"
            ]
          },
          "metadata": {
            "tags": []
          },
          "execution_count": 11
        }
      ]
    },
    {
      "cell_type": "markdown",
      "metadata": {
        "id": "fabLTz9c_tJE"
      },
      "source": [
        "Vamos agora verificar se o dataset tem as classes balanceadas para que possamos tratar o desbalanceamento posteriormente, se necessário. Vemos que as classes `<=50K` e `>50K` estão desbalanceadas. Isso sugere que possivelmente precisaremos realizar algum tipo de tratamento/pré-processamento."
      ]
    },
    {
      "cell_type": "code",
      "metadata": {
        "colab": {
          "base_uri": "https://localhost:8080/"
        },
        "id": "-j0Pa0W__tOW",
        "outputId": "9090d0bc-6675-4568-9d3a-2cf76750c3da"
      },
      "source": [
        "# distribuição das classes\n",
        "print(dataset.groupby('income').size())"
      ],
      "execution_count": null,
      "outputs": [
        {
          "output_type": "stream",
          "text": [
            "income\n",
            " <=50K    24720\n",
            " >50K      7841\n",
            "dtype: int64\n"
          ],
          "name": "stdout"
        }
      ]
    },
    {
      "cell_type": "markdown",
      "metadata": {
        "id": "R_5Ntt3f_tTv"
      },
      "source": [
        "### 3.2. Visualizações Unimodais\n",
        "\n",
        "Vamos criar agora um histograma para cada atributo numérico do dataset. Mais uma vez, vemos que os atributos `capital-gain` e `capital-loss` possuem muitos número próximos de zero, reforçando a possibilidade de remover o atributo do dataset. A idade, representada pelo atributo `age`, se concentra entre 15 e 45 anos. E a maioria das pessoas trabalha por volta de 40 horas por semana, o que acreditamos que seja o \"normal\". Entretanto, algumas poucas chegam a trabalhar até próximo de 100 horas por semana, sugerindo a ocorrência de outliers ou mesmo de dados incorretos."
      ]
    },
    {
      "cell_type": "code",
      "metadata": {
        "colab": {
          "base_uri": "https://localhost:8080/"
        },
        "id": "dK3mK65T_tYx",
        "outputId": "942ddd32-90b3-4829-99ef-6fc12cbbc44e"
      },
      "source": [
        "# Histograma\n",
        "dataset.hist(figsize = (15,10), column=['age','fnlwgt','capital-gain','capital-loss','hours-per-week'], bins=10)\n",
        "plt.show()"
      ],
      "execution_count": null,
      "outputs": [
        {
          "output_type": "display_data",
          "data": {
            "image/png": "[encoded data removed]",
            "text/plain": [
              "<Figure size 1080x720 with 6 Axes>"
            ]
          },
          "metadata": {
            "tags": [],
            "needs_background": "light"
          }
        }
      ]
    },
    {
      "cell_type": "markdown",
      "metadata": {
        "id": "fl5M0hsE2s5y"
      },
      "source": [
        "O atributo `education-num` é a versão numérica do atributo `education`, que é uma variável categórica ordinal e possui 16 valores possíveis, conforme mencionado na descrição do dataset. Por isso, fizemos o histograma desse atributo separado dos demais para conseguir configurar a quantidade de bins de forma adequada. Entendemos que o histograma desse atributo fica mais semântica com 8 bins ao invés de 10.\n",
        "\n",
        "Por esse gráfico, vemos que há uma concentração de pessoas com os níveis de escolaridade 9 e 10, que representam 'formados no ensino médio' e com 'ensino superior incompleto', respectivamente. Vemos também um 'pico' de bacharéis e mestres - 13 e 14, respectivamente.\n",
        "\n",
        "Pela análise dos histogramas, não identificamos atributos que possam ser considerados/aproximados como tendo distribuição normal."
      ]
    },
    {
      "cell_type": "code",
      "metadata": {
        "colab": {
          "base_uri": "https://localhost:8080/"
        },
        "id": "NW_T7kS72ufx",
        "outputId": "bb8d2006-a7a7-4974-db9b-b0586e25985c"
      },
      "source": [
        "dataset.hist(figsize = (15,10), column=['education-num'], bins=8)\n",
        "plt.show()"
      ],
      "execution_count": null,
      "outputs": [
        {
          "output_type": "display_data",
          "data": {
            "image/png": "[encoded data removed]",
            "text/plain": [
              "<Figure size 1080x720 with 1 Axes>"
            ]
          },
          "metadata": {
            "tags": [],
            "needs_background": "light"
          }
        }
      ]
    },
    {
      "cell_type": "markdown",
      "metadata": {
        "id": "1Mw8fgf23_D8"
      },
      "source": [
        "Vamos criar agora um gráfico de densidade para cada atributo numérico do dataset, para avaliarmos melhor a distribuição dos dados.\n",
        "\n",
        "Os gráficos de densidade corroboram para nosso entendimento inicial de que nenhum atributo numérico pode ser considerado/aproximado como tendo distribuição normal.\n",
        "\n",
        "O gráfico do atributo education-num também evidencia que ele possui uma distribuição bimodal."
      ]
    },
    {
      "cell_type": "code",
      "metadata": {
        "colab": {
          "base_uri": "https://localhost:8080/"
        },
        "id": "KHUaJJNK_tji",
        "outputId": "c8e6bc2c-ea99-4491-b0c9-eac8bed4e1f1"
      },
      "source": [
        "# Density Plot\n",
        "dataset.plot(kind = 'density', subplots = True, layout = (3,3), sharex = False, figsize = (15,10))\n",
        "plt.show()"
      ],
      "execution_count": null,
      "outputs": [
        {
          "output_type": "display_data",
          "data": {
            "image/png": "[encoded data removed]",
            "text/plain": [
              "<Figure size 1080x720 with 9 Axes>"
            ]
          },
          "metadata": {
            "tags": [],
            "needs_background": "light"
          }
        }
      ]
    },
    {
      "cell_type": "markdown",
      "metadata": {
        "id": "p_9Gi_On78o7"
      },
      "source": [
        "Criaremos gráficos do tipo boxplot para os atributos numéricos para analisarmos a dispersão dos dados e para tentarmos identificar possíveis outliers."
      ]
    },
    {
      "cell_type": "markdown",
      "metadata": {
        "id": "08IaXUcCxuj6"
      },
      "source": [
        "Nos gráficos bloxplot vemos que as dispersões dos atributos do dataset são bem diferentes. \n",
        "\n",
        "Tirando os atributos capital-gain e capital-loss, que já identificamos que devem ser excluídos por terem muitos dados zerados, todos os outros atributos possuem outliers, porém acreditamos que estes não sejam dados incorretos ou inconsistentes. \n",
        "\n",
        "O atributo hours-per-week chama atenção por estar extremamente concentrado próximo de 40h, e com isso são sugeridos muitos outliers. Após discussão interna pelo grupo, acreditamos que estes outliers não representam dados incorretos.\n",
        "\n",
        "*OBS: Se um ponto do dataset é muito distante da média (acima de 3 desvios padrão da média), pode ser considerado outlier.*"
      ]
    },
    {
      "cell_type": "code",
      "metadata": {
        "colab": {
          "base_uri": "https://localhost:8080/"
        },
        "id": "Ctc5ftKgxurF",
        "outputId": "6a90e75f-4a68-4ded-80b1-82bed52bc6a2"
      },
      "source": [
        "# Boxplot\n",
        "dataset.plot(kind = 'box', subplots = True, layout = (3,3), sharex = False, sharey = False, figsize = (15,10))\n",
        "plt.show()"
      ],
      "execution_count": null,
      "outputs": [
        {
          "output_type": "display_data",
          "data": {
            "image/png": "[encoded data removed]",
            "text/plain": [
              "<Figure size 1080x720 with 9 Axes>"
            ]
          },
          "metadata": {
            "tags": [],
            "needs_background": "light"
          }
        }
      ]
    },
    {
      "cell_type": "markdown",
      "metadata": {
        "id": "e40mp-6DJVcc"
      },
      "source": [
        "Neste ponto faremos algumas análises dos atributos categóricos.\n",
        "\n",
        "Para isso precisaremos retirar os valores \" ?\" de todos os atributos do dataset. Criaremos um dataset só com os atributos categóricos e substituiremos os valres \" ?\" por nan.\n",
        "\n",
        "\n",
        "\n"
      ]
    },
    {
      "cell_type": "code",
      "metadata": {
        "colab": {
          "base_uri": "https://localhost:8080/"
        },
        "id": "rBCUJ-YeKODp",
        "outputId": "837edb77-a4d5-4607-bb53-9c1e9934f439"
      },
      "source": [
        "# Definindo um novo dataset, considerando apenas os atributos categóricos.\n",
        "dataset_cat = dataset.select_dtypes(include = 'object').copy()\n",
        "\n",
        "# substituindo os \" ?\" por NaN\n",
        "dataset_cat.replace(' ?', np.nan, inplace=True)\n",
        "\n",
        "dataset_cat.head(5)"
      ],
      "execution_count": null,
      "outputs": [
        {
          "output_type": "execute_result",
          "data": {
            "text/html": [
              "<div>\n",
              "<style scoped>\n",
              "    .dataframe tbody tr th:only-of-type {\n",
              "        vertical-align: middle;\n",
              "    }\n",
              "\n",
              "    .dataframe tbody tr th {\n",
              "        vertical-align: top;\n",
              "    }\n",
              "\n",
              "    .dataframe thead th {\n",
              "        text-align: right;\n",
              "    }\n",
              "</style>\n",
              "<table border=\"1\" class=\"dataframe\">\n",
              "  <thead>\n",
              "    <tr style=\"text-align: right;\">\n",
              "      <th></th>\n",
              "      <th>workclass</th>\n",
              "      <th>education</th>\n",
              "      <th>marital-status</th>\n",
              "      <th>occupation</th>\n",
              "      <th>relationship</th>\n",
              "      <th>race</th>\n",
              "      <th>sex</th>\n",
              "      <th>native-country</th>\n",
              "      <th>income</th>\n",
              "    </tr>\n",
              "  </thead>\n",
              "  <tbody>\n",
              "    <tr>\n",
              "      <th>0</th>\n",
              "      <td>State-gov</td>\n",
              "      <td>Bachelors</td>\n",
              "      <td>Never-married</td>\n",
              "      <td>Adm-clerical</td>\n",
              "      <td>Not-in-family</td>\n",
              "      <td>White</td>\n",
              "      <td>Male</td>\n",
              "      <td>United-States</td>\n",
              "      <td>&lt;=50K</td>\n",
              "    </tr>\n",
              "    <tr>\n",
              "      <th>1</th>\n",
              "      <td>Self-emp-not-inc</td>\n",
              "      <td>Bachelors</td>\n",
              "      <td>Married-civ-spouse</td>\n",
              "      <td>Exec-managerial</td>\n",
              "      <td>Husband</td>\n",
              "      <td>White</td>\n",
              "      <td>Male</td>\n",
              "      <td>United-States</td>\n",
              "      <td>&lt;=50K</td>\n",
              "    </tr>\n",
              "    <tr>\n",
              "      <th>2</th>\n",
              "      <td>Private</td>\n",
              "      <td>HS-grad</td>\n",
              "      <td>Divorced</td>\n",
              "      <td>Handlers-cleaners</td>\n",
              "      <td>Not-in-family</td>\n",
              "      <td>White</td>\n",
              "      <td>Male</td>\n",
              "      <td>United-States</td>\n",
              "      <td>&lt;=50K</td>\n",
              "    </tr>\n",
              "    <tr>\n",
              "      <th>3</th>\n",
              "      <td>Private</td>\n",
              "      <td>11th</td>\n",
              "      <td>Married-civ-spouse</td>\n",
              "      <td>Handlers-cleaners</td>\n",
              "      <td>Husband</td>\n",
              "      <td>Black</td>\n",
              "      <td>Male</td>\n",
              "      <td>United-States</td>\n",
              "      <td>&lt;=50K</td>\n",
              "    </tr>\n",
              "    <tr>\n",
              "      <th>4</th>\n",
              "      <td>Private</td>\n",
              "      <td>Bachelors</td>\n",
              "      <td>Married-civ-spouse</td>\n",
              "      <td>Prof-specialty</td>\n",
              "      <td>Wife</td>\n",
              "      <td>Black</td>\n",
              "      <td>Female</td>\n",
              "      <td>Cuba</td>\n",
              "      <td>&lt;=50K</td>\n",
              "    </tr>\n",
              "  </tbody>\n",
              "</table>\n",
              "</div>"
            ],
            "text/plain": [
              "           workclass   education  ...  native-country  income\n",
              "0          State-gov   Bachelors  ...   United-States   <=50K\n",
              "1   Self-emp-not-inc   Bachelors  ...   United-States   <=50K\n",
              "2            Private     HS-grad  ...   United-States   <=50K\n",
              "3            Private        11th  ...   United-States   <=50K\n",
              "4            Private   Bachelors  ...            Cuba   <=50K\n",
              "\n",
              "[5 rows x 9 columns]"
            ]
          },
          "metadata": {
            "tags": []
          },
          "execution_count": 17
        }
      ]
    },
    {
      "cell_type": "markdown",
      "metadata": {
        "id": "GvkE70FAK_IZ"
      },
      "source": [
        "Antes de analisarmos graficamente estes atributos, vamos aproveitar este momento para reforçar alguns pontos já citados nas análises descritivas. Podemos constatar que education, marital-status e native-country possuem domínios relativamente grandes (acima de 10), o que pode gerar um número excessivo de colunas durante o pre-processamento dos dados, e também que workclass, occupation e native-country possuem valores missing que deverão ser tratados."
      ]
    },
    {
      "cell_type": "code",
      "metadata": {
        "colab": {
          "base_uri": "https://localhost:8080/"
        },
        "id": "v3gt824_K984",
        "outputId": "5a1b0f5b-2f68-4708-bbef-e40a79451b45"
      },
      "source": [
        "# Características dos atributos categóricos\n",
        "# Contagem dos valores únicos por atributo categórico\n",
        "# Verificação de dados faltantes\n",
        "dataset_cat_stats = pd.DataFrame(columns = ['coluna', 'valores', 'contador_com_na', 'contador_sem_na', \n",
        "                                       'numero_missing', 'percentual_missing'])\n",
        "tmp = pd.DataFrame()\n",
        "\n",
        "for c in dataset_cat.columns:\n",
        "    tmp['coluna'] = [c]\n",
        "    tmp['valores'] = [dataset_cat[c].unique()]\n",
        "    tmp['contador_com_na'] = len(list(dataset_cat[c].unique()))\n",
        "    tmp['contador_sem_na'] = int(dataset_cat[c].nunique())\n",
        "    tmp['numero_missing'] = dataset_cat[c].isnull().sum()\n",
        "    tmp['percentual_missing'] = (dataset_cat[c].isnull().sum()/ len(dataset_cat)).round(3)*100\n",
        "    dataset_cat_stats = dataset_cat_stats.append(tmp)\n",
        "\n",
        "dataset_cat_stats"
      ],
      "execution_count": null,
      "outputs": [
        {
          "output_type": "execute_result",
          "data": {
            "text/html": [
              "<div>\n",
              "<style scoped>\n",
              "    .dataframe tbody tr th:only-of-type {\n",
              "        vertical-align: middle;\n",
              "    }\n",
              "\n",
              "    .dataframe tbody tr th {\n",
              "        vertical-align: top;\n",
              "    }\n",
              "\n",
              "    .dataframe thead th {\n",
              "        text-align: right;\n",
              "    }\n",
              "</style>\n",
              "<table border=\"1\" class=\"dataframe\">\n",
              "  <thead>\n",
              "    <tr style=\"text-align: right;\">\n",
              "      <th></th>\n",
              "      <th>coluna</th>\n",
              "      <th>valores</th>\n",
              "      <th>contador_com_na</th>\n",
              "      <th>contador_sem_na</th>\n",
              "      <th>numero_missing</th>\n",
              "      <th>percentual_missing</th>\n",
              "    </tr>\n",
              "  </thead>\n",
              "  <tbody>\n",
              "    <tr>\n",
              "      <th>0</th>\n",
              "      <td>workclass</td>\n",
              "      <td>[ State-gov,  Self-emp-not-inc,  Private,  Fed...</td>\n",
              "      <td>9</td>\n",
              "      <td>8</td>\n",
              "      <td>1836</td>\n",
              "      <td>5.6</td>\n",
              "    </tr>\n",
              "    <tr>\n",
              "      <th>0</th>\n",
              "      <td>education</td>\n",
              "      <td>[ Bachelors,  HS-grad,  11th,  Masters,  9th, ...</td>\n",
              "      <td>16</td>\n",
              "      <td>16</td>\n",
              "      <td>0</td>\n",
              "      <td>0.0</td>\n",
              "    </tr>\n",
              "    <tr>\n",
              "      <th>0</th>\n",
              "      <td>marital-status</td>\n",
              "      <td>[ Never-married,  Married-civ-spouse,  Divorce...</td>\n",
              "      <td>7</td>\n",
              "      <td>7</td>\n",
              "      <td>0</td>\n",
              "      <td>0.0</td>\n",
              "    </tr>\n",
              "    <tr>\n",
              "      <th>0</th>\n",
              "      <td>occupation</td>\n",
              "      <td>[ Adm-clerical,  Exec-managerial,  Handlers-cl...</td>\n",
              "      <td>15</td>\n",
              "      <td>14</td>\n",
              "      <td>1843</td>\n",
              "      <td>5.7</td>\n",
              "    </tr>\n",
              "    <tr>\n",
              "      <th>0</th>\n",
              "      <td>relationship</td>\n",
              "      <td>[ Not-in-family,  Husband,  Wife,  Own-child, ...</td>\n",
              "      <td>6</td>\n",
              "      <td>6</td>\n",
              "      <td>0</td>\n",
              "      <td>0.0</td>\n",
              "    </tr>\n",
              "    <tr>\n",
              "      <th>0</th>\n",
              "      <td>race</td>\n",
              "      <td>[ White,  Black,  Asian-Pac-Islander,  Amer-In...</td>\n",
              "      <td>5</td>\n",
              "      <td>5</td>\n",
              "      <td>0</td>\n",
              "      <td>0.0</td>\n",
              "    </tr>\n",
              "    <tr>\n",
              "      <th>0</th>\n",
              "      <td>sex</td>\n",
              "      <td>[ Male,  Female]</td>\n",
              "      <td>2</td>\n",
              "      <td>2</td>\n",
              "      <td>0</td>\n",
              "      <td>0.0</td>\n",
              "    </tr>\n",
              "    <tr>\n",
              "      <th>0</th>\n",
              "      <td>native-country</td>\n",
              "      <td>[ United-States,  Cuba,  Jamaica,  India, nan,...</td>\n",
              "      <td>42</td>\n",
              "      <td>41</td>\n",
              "      <td>583</td>\n",
              "      <td>1.8</td>\n",
              "    </tr>\n",
              "    <tr>\n",
              "      <th>0</th>\n",
              "      <td>income</td>\n",
              "      <td>[ &lt;=50K,  &gt;50K]</td>\n",
              "      <td>2</td>\n",
              "      <td>2</td>\n",
              "      <td>0</td>\n",
              "      <td>0.0</td>\n",
              "    </tr>\n",
              "  </tbody>\n",
              "</table>\n",
              "</div>"
            ],
            "text/plain": [
              "           coluna  ... percentual_missing\n",
              "0       workclass  ...                5.6\n",
              "0       education  ...                0.0\n",
              "0  marital-status  ...                0.0\n",
              "0      occupation  ...                5.7\n",
              "0    relationship  ...                0.0\n",
              "0            race  ...                0.0\n",
              "0             sex  ...                0.0\n",
              "0  native-country  ...                1.8\n",
              "0          income  ...                0.0\n",
              "\n",
              "[9 rows x 6 columns]"
            ]
          },
          "metadata": {
            "tags": []
          },
          "execution_count": 18
        }
      ]
    },
    {
      "cell_type": "markdown",
      "metadata": {
        "id": "Gq5lPoCuPAy-"
      },
      "source": [
        "Analisando os atributos categóricos, verificamos que alguns estão bastante desbalanceados, como workclass, race e native-country. Estamos pensando em criar um dataset retirando estes atributos que talvez possam não ser relevantes na criação do modelo."
      ]
    },
    {
      "cell_type": "code",
      "metadata": {
        "colab": {
          "base_uri": "https://localhost:8080/"
        },
        "id": "nkCGZa6BPBs1",
        "outputId": "88ce9121-23d3-4643-a5b7-722be4051917"
      },
      "source": [
        "# Geração de gráficos com a distribuição dos atributos categóricos por valores únicos\n",
        "\n",
        "ix = 1\n",
        "fig = plt.figure(figsize = (30,10))\n",
        "for c in list(dataset_cat.columns):\n",
        "  if ix <= 3:\n",
        "    ax1 = fig.add_subplot(1,3,ix)\n",
        "    sns.countplot(data = dataset_cat, x=c, ax = ax1)\n",
        "    plt.xticks(rotation=90)\n",
        "            \n",
        "    ix = ix +1\n",
        "    if ix == 4: \n",
        "        fig = plt.figure(figsize = (30,10))\n",
        "        ix =1"
      ],
      "execution_count": null,
      "outputs": [
        {
          "output_type": "display_data",
          "data": {
            "image/png": "[encoded data removed]",
            "text/plain": [
              "<Figure size 2160x720 with 3 Axes>"
            ]
          },
          "metadata": {
            "tags": [],
            "needs_background": "light"
          }
        },
        {
          "output_type": "display_data",
          "data": {
            "image/png": "[encoded data removed]",
            "text/plain": [
              "<Figure size 2160x720 with 3 Axes>"
            ]
          },
          "metadata": {
            "tags": [],
            "needs_background": "light"
          }
        },
        {
          "output_type": "display_data",
          "data": {
            "image/png": "[encoded data removed]",
            "text/plain": [
              "<Figure size 2160x720 with 3 Axes>"
            ]
          },
          "metadata": {
            "tags": [],
            "needs_background": "light"
          }
        },
        {
          "output_type": "display_data",
          "data": {
            "text/plain": [
              "<Figure size 2160x720 with 0 Axes>"
            ]
          },
          "metadata": {
            "tags": []
          }
        }
      ]
    },
    {
      "cell_type": "markdown",
      "metadata": {
        "id": "oMMGbjYbAe-3"
      },
      "source": [
        "### 3.3. Visualizações Multimodais\n",
        "\n",
        "Vamos agora verificar a covariância entre as variáveis numéricas do dataset e para isso usaremos o coeficiente de correlação de Pearson.\n",
        "\n",
        "Acreditamos que a forma mais intuitiva de analisar a covariância é através do gráfico de matriz de correlação. \n",
        "\n",
        "Analisando o gráfico fica claro que os atributos numéricos possuem pouco ou nenhum grau de correlação entre eles."
      ]
    },
    {
      "cell_type": "code",
      "metadata": {
        "colab": {
          "base_uri": "https://localhost:8080/"
        },
        "id": "xB612g0aAfE6",
        "outputId": "6a615a55-7c88-4d92-aecc-d33cb15a845b"
      },
      "source": [
        "# Matriz de Correlação com Matplotlib Seaborn\n",
        "sns.heatmap(dataset.corr(), annot=True, cmap='RdBu', vmin=-1);"
      ],
      "execution_count": null,
      "outputs": [
        {
          "output_type": "display_data",
          "data": {
            "image/png": "[encoded data removed]",
            "text/plain": [
              "<Figure size 432x288 with 2 Axes>"
            ]
          },
          "metadata": {
            "tags": [],
            "needs_background": "light"
          }
        }
      ]
    },
    {
      "cell_type": "markdown",
      "metadata": {
        "id": "IXCUyGj3y-1F"
      },
      "source": [
        "Utilizaremos neste ponto gráficos de dispersão para cada par de atributos do dataset, para que possamos analisar os relacionamentos entre eles. Como podemos observar claramente, estes gráficos nos mostram que os atributos não possuem correlação entre eles."
      ]
    },
    {
      "cell_type": "code",
      "metadata": {
        "colab": {
          "base_uri": "https://localhost:8080/"
        },
        "id": "4ViE2aGbGdu-",
        "outputId": "7f924aec-a6e1-42de-9075-3c1fd1ccbfdf"
      },
      "source": [
        "sns.pairplot(dataset, height = 2.5, hue='income');"
      ],
      "execution_count": null,
      "outputs": [
        {
          "output_type": "stream",
          "text": [
            "Error in callback <function install_repl_displayhook.<locals>.post_execute at 0x7fbfad26e560> (for post_execute):\n"
          ],
          "name": "stdout"
        },
        {
          "output_type": "error",
          "ename": "KeyboardInterrupt",
          "evalue": "ignored",
          "traceback": [
            "\u001b[0;31m---------------------------------------------------------------------------\u001b[0m",
            "\u001b[0;31mKeyboardInterrupt\u001b[0m                         Traceback (most recent call last)",
            "\u001b[0;32m/usr/local/lib/python3.7/dist-packages/matplotlib/pyplot.py\u001b[0m in \u001b[0;36mpost_execute\u001b[0;34m()\u001b[0m\n\u001b[1;32m    107\u001b[0m             \u001b[0;32mdef\u001b[0m \u001b[0mpost_execute\u001b[0m\u001b[0;34m(\u001b[0m\u001b[0;34m)\u001b[0m\u001b[0;34m:\u001b[0m\u001b[0;34m\u001b[0m\u001b[0;34m\u001b[0m\u001b[0m\n\u001b[1;32m    108\u001b[0m                 \u001b[0;32mif\u001b[0m \u001b[0mmatplotlib\u001b[0m\u001b[0;34m.\u001b[0m\u001b[0mis_interactive\u001b[0m\u001b[0;34m(\u001b[0m\u001b[0;34m)\u001b[0m\u001b[0;34m:\u001b[0m\u001b[0;34m\u001b[0m\u001b[0;34m\u001b[0m\u001b[0m\n\u001b[0;32m--> 109\u001b[0;31m                     \u001b[0mdraw_all\u001b[0m\u001b[0;34m(\u001b[0m\u001b[0;34m)\u001b[0m\u001b[0;34m\u001b[0m\u001b[0;34m\u001b[0m\u001b[0m\n\u001b[0m\u001b[1;32m    110\u001b[0m \u001b[0;34m\u001b[0m\u001b[0m\n\u001b[1;32m    111\u001b[0m             \u001b[0;31m# IPython >= 2\u001b[0m\u001b[0;34m\u001b[0m\u001b[0;34m\u001b[0m\u001b[0;34m\u001b[0m\u001b[0m\n",
            "\u001b[0;32m/usr/local/lib/python3.7/dist-packages/matplotlib/_pylab_helpers.py\u001b[0m in \u001b[0;36mdraw_all\u001b[0;34m(cls, force)\u001b[0m\n\u001b[1;32m    125\u001b[0m         \u001b[0;32mfor\u001b[0m \u001b[0mf_mgr\u001b[0m \u001b[0;32min\u001b[0m \u001b[0mcls\u001b[0m\u001b[0;34m.\u001b[0m\u001b[0mget_all_fig_managers\u001b[0m\u001b[0;34m(\u001b[0m\u001b[0;34m)\u001b[0m\u001b[0;34m:\u001b[0m\u001b[0;34m\u001b[0m\u001b[0;34m\u001b[0m\u001b[0m\n\u001b[1;32m    126\u001b[0m             \u001b[0;32mif\u001b[0m \u001b[0mforce\u001b[0m \u001b[0;32mor\u001b[0m \u001b[0mf_mgr\u001b[0m\u001b[0;34m.\u001b[0m\u001b[0mcanvas\u001b[0m\u001b[0;34m.\u001b[0m\u001b[0mfigure\u001b[0m\u001b[0;34m.\u001b[0m\u001b[0mstale\u001b[0m\u001b[0;34m:\u001b[0m\u001b[0;34m\u001b[0m\u001b[0;34m\u001b[0m\u001b[0m\n\u001b[0;32m--> 127\u001b[0;31m                 \u001b[0mf_mgr\u001b[0m\u001b[0;34m.\u001b[0m\u001b[0mcanvas\u001b[0m\u001b[0;34m.\u001b[0m\u001b[0mdraw_idle\u001b[0m\u001b[0;34m(\u001b[0m\u001b[0;34m)\u001b[0m\u001b[0;34m\u001b[0m\u001b[0;34m\u001b[0m\u001b[0m\n\u001b[0m\u001b[1;32m    128\u001b[0m \u001b[0;34m\u001b[0m\u001b[0m\n\u001b[1;32m    129\u001b[0m \u001b[0matexit\u001b[0m\u001b[0;34m.\u001b[0m\u001b[0mregister\u001b[0m\u001b[0;34m(\u001b[0m\u001b[0mGcf\u001b[0m\u001b[0;34m.\u001b[0m\u001b[0mdestroy_all\u001b[0m\u001b[0;34m)\u001b[0m\u001b[0;34m\u001b[0m\u001b[0;34m\u001b[0m\u001b[0m\n",
            "\u001b[0;32m/usr/local/lib/python3.7/dist-packages/matplotlib/backend_bases.py\u001b[0m in \u001b[0;36mdraw_idle\u001b[0;34m(self, *args, **kwargs)\u001b[0m\n\u001b[1;32m   1945\u001b[0m         \u001b[0;32mif\u001b[0m \u001b[0;32mnot\u001b[0m \u001b[0mself\u001b[0m\u001b[0;34m.\u001b[0m\u001b[0m_is_idle_drawing\u001b[0m\u001b[0;34m:\u001b[0m\u001b[0;34m\u001b[0m\u001b[0;34m\u001b[0m\u001b[0m\n\u001b[1;32m   1946\u001b[0m             \u001b[0;32mwith\u001b[0m \u001b[0mself\u001b[0m\u001b[0;34m.\u001b[0m\u001b[0m_idle_draw_cntx\u001b[0m\u001b[0;34m(\u001b[0m\u001b[0;34m)\u001b[0m\u001b[0;34m:\u001b[0m\u001b[0;34m\u001b[0m\u001b[0;34m\u001b[0m\u001b[0m\n\u001b[0;32m-> 1947\u001b[0;31m                 \u001b[0mself\u001b[0m\u001b[0;34m.\u001b[0m\u001b[0mdraw\u001b[0m\u001b[0;34m(\u001b[0m\u001b[0;34m*\u001b[0m\u001b[0margs\u001b[0m\u001b[0;34m,\u001b[0m \u001b[0;34m**\u001b[0m\u001b[0mkwargs\u001b[0m\u001b[0;34m)\u001b[0m\u001b[0;34m\u001b[0m\u001b[0;34m\u001b[0m\u001b[0m\n\u001b[0m\u001b[1;32m   1948\u001b[0m \u001b[0;34m\u001b[0m\u001b[0m\n\u001b[1;32m   1949\u001b[0m     \u001b[0;34m@\u001b[0m\u001b[0mcbook\u001b[0m\u001b[0;34m.\u001b[0m\u001b[0mdeprecated\u001b[0m\u001b[0;34m(\u001b[0m\u001b[0;34m\"3.2\"\u001b[0m\u001b[0;34m)\u001b[0m\u001b[0;34m\u001b[0m\u001b[0;34m\u001b[0m\u001b[0m\n",
            "\u001b[0;32m/usr/local/lib/python3.7/dist-packages/matplotlib/backends/backend_agg.py\u001b[0m in \u001b[0;36mdraw\u001b[0;34m(self)\u001b[0m\n\u001b[1;32m    391\u001b[0m              (self.toolbar._wait_cursor_for_draw_cm() if self.toolbar\n\u001b[1;32m    392\u001b[0m               else nullcontext()):\n\u001b[0;32m--> 393\u001b[0;31m             \u001b[0mself\u001b[0m\u001b[0;34m.\u001b[0m\u001b[0mfigure\u001b[0m\u001b[0;34m.\u001b[0m\u001b[0mdraw\u001b[0m\u001b[0;34m(\u001b[0m\u001b[0mself\u001b[0m\u001b[0;34m.\u001b[0m\u001b[0mrenderer\u001b[0m\u001b[0;34m)\u001b[0m\u001b[0;34m\u001b[0m\u001b[0;34m\u001b[0m\u001b[0m\n\u001b[0m\u001b[1;32m    394\u001b[0m             \u001b[0;31m# A GUI class may be need to update a window using this draw, so\u001b[0m\u001b[0;34m\u001b[0m\u001b[0;34m\u001b[0m\u001b[0;34m\u001b[0m\u001b[0m\n\u001b[1;32m    395\u001b[0m             \u001b[0;31m# don't forget to call the superclass.\u001b[0m\u001b[0;34m\u001b[0m\u001b[0;34m\u001b[0m\u001b[0;34m\u001b[0m\u001b[0m\n",
            "\u001b[0;32m/usr/local/lib/python3.7/dist-packages/matplotlib/artist.py\u001b[0m in \u001b[0;36mdraw_wrapper\u001b[0;34m(artist, renderer, *args, **kwargs)\u001b[0m\n\u001b[1;32m     36\u001b[0m                 \u001b[0mrenderer\u001b[0m\u001b[0;34m.\u001b[0m\u001b[0mstart_filter\u001b[0m\u001b[0;34m(\u001b[0m\u001b[0;34m)\u001b[0m\u001b[0;34m\u001b[0m\u001b[0;34m\u001b[0m\u001b[0m\n\u001b[1;32m     37\u001b[0m \u001b[0;34m\u001b[0m\u001b[0m\n\u001b[0;32m---> 38\u001b[0;31m             \u001b[0;32mreturn\u001b[0m \u001b[0mdraw\u001b[0m\u001b[0;34m(\u001b[0m\u001b[0martist\u001b[0m\u001b[0;34m,\u001b[0m \u001b[0mrenderer\u001b[0m\u001b[0;34m,\u001b[0m \u001b[0;34m*\u001b[0m\u001b[0margs\u001b[0m\u001b[0;34m,\u001b[0m \u001b[0;34m**\u001b[0m\u001b[0mkwargs\u001b[0m\u001b[0;34m)\u001b[0m\u001b[0;34m\u001b[0m\u001b[0;34m\u001b[0m\u001b[0m\n\u001b[0m\u001b[1;32m     39\u001b[0m         \u001b[0;32mfinally\u001b[0m\u001b[0;34m:\u001b[0m\u001b[0;34m\u001b[0m\u001b[0;34m\u001b[0m\u001b[0m\n\u001b[1;32m     40\u001b[0m             \u001b[0;32mif\u001b[0m \u001b[0martist\u001b[0m\u001b[0;34m.\u001b[0m\u001b[0mget_agg_filter\u001b[0m\u001b[0;34m(\u001b[0m\u001b[0;34m)\u001b[0m \u001b[0;32mis\u001b[0m \u001b[0;32mnot\u001b[0m \u001b[0;32mNone\u001b[0m\u001b[0;34m:\u001b[0m\u001b[0;34m\u001b[0m\u001b[0;34m\u001b[0m\u001b[0m\n",
            "\u001b[0;32m/usr/local/lib/python3.7/dist-packages/matplotlib/figure.py\u001b[0m in \u001b[0;36mdraw\u001b[0;34m(self, renderer)\u001b[0m\n\u001b[1;32m   1734\u001b[0m             \u001b[0mself\u001b[0m\u001b[0;34m.\u001b[0m\u001b[0mpatch\u001b[0m\u001b[0;34m.\u001b[0m\u001b[0mdraw\u001b[0m\u001b[0;34m(\u001b[0m\u001b[0mrenderer\u001b[0m\u001b[0;34m)\u001b[0m\u001b[0;34m\u001b[0m\u001b[0;34m\u001b[0m\u001b[0m\n\u001b[1;32m   1735\u001b[0m             mimage._draw_list_compositing_images(\n\u001b[0;32m-> 1736\u001b[0;31m                 renderer, self, artists, self.suppressComposite)\n\u001b[0m\u001b[1;32m   1737\u001b[0m \u001b[0;34m\u001b[0m\u001b[0m\n\u001b[1;32m   1738\u001b[0m             \u001b[0mrenderer\u001b[0m\u001b[0;34m.\u001b[0m\u001b[0mclose_group\u001b[0m\u001b[0;34m(\u001b[0m\u001b[0;34m'figure'\u001b[0m\u001b[0;34m)\u001b[0m\u001b[0;34m\u001b[0m\u001b[0;34m\u001b[0m\u001b[0m\n",
            "\u001b[0;32m/usr/local/lib/python3.7/dist-packages/matplotlib/image.py\u001b[0m in \u001b[0;36m_draw_list_compositing_images\u001b[0;34m(renderer, parent, artists, suppress_composite)\u001b[0m\n\u001b[1;32m    135\u001b[0m     \u001b[0;32mif\u001b[0m \u001b[0mnot_composite\u001b[0m \u001b[0;32mor\u001b[0m \u001b[0;32mnot\u001b[0m \u001b[0mhas_images\u001b[0m\u001b[0;34m:\u001b[0m\u001b[0;34m\u001b[0m\u001b[0;34m\u001b[0m\u001b[0m\n\u001b[1;32m    136\u001b[0m         \u001b[0;32mfor\u001b[0m \u001b[0ma\u001b[0m \u001b[0;32min\u001b[0m \u001b[0martists\u001b[0m\u001b[0;34m:\u001b[0m\u001b[0;34m\u001b[0m\u001b[0;34m\u001b[0m\u001b[0m\n\u001b[0;32m--> 137\u001b[0;31m             \u001b[0ma\u001b[0m\u001b[0;34m.\u001b[0m\u001b[0mdraw\u001b[0m\u001b[0;34m(\u001b[0m\u001b[0mrenderer\u001b[0m\u001b[0;34m)\u001b[0m\u001b[0;34m\u001b[0m\u001b[0;34m\u001b[0m\u001b[0m\n\u001b[0m\u001b[1;32m    138\u001b[0m     \u001b[0;32melse\u001b[0m\u001b[0;34m:\u001b[0m\u001b[0;34m\u001b[0m\u001b[0;34m\u001b[0m\u001b[0m\n\u001b[1;32m    139\u001b[0m         \u001b[0;31m# Composite any adjacent images together\u001b[0m\u001b[0;34m\u001b[0m\u001b[0;34m\u001b[0m\u001b[0;34m\u001b[0m\u001b[0m\n",
            "\u001b[0;32m/usr/local/lib/python3.7/dist-packages/matplotlib/artist.py\u001b[0m in \u001b[0;36mdraw_wrapper\u001b[0;34m(artist, renderer, *args, **kwargs)\u001b[0m\n\u001b[1;32m     36\u001b[0m                 \u001b[0mrenderer\u001b[0m\u001b[0;34m.\u001b[0m\u001b[0mstart_filter\u001b[0m\u001b[0;34m(\u001b[0m\u001b[0;34m)\u001b[0m\u001b[0;34m\u001b[0m\u001b[0;34m\u001b[0m\u001b[0m\n\u001b[1;32m     37\u001b[0m \u001b[0;34m\u001b[0m\u001b[0m\n\u001b[0;32m---> 38\u001b[0;31m             \u001b[0;32mreturn\u001b[0m \u001b[0mdraw\u001b[0m\u001b[0;34m(\u001b[0m\u001b[0martist\u001b[0m\u001b[0;34m,\u001b[0m \u001b[0mrenderer\u001b[0m\u001b[0;34m,\u001b[0m \u001b[0;34m*\u001b[0m\u001b[0margs\u001b[0m\u001b[0;34m,\u001b[0m \u001b[0;34m**\u001b[0m\u001b[0mkwargs\u001b[0m\u001b[0;34m)\u001b[0m\u001b[0;34m\u001b[0m\u001b[0;34m\u001b[0m\u001b[0m\n\u001b[0m\u001b[1;32m     39\u001b[0m         \u001b[0;32mfinally\u001b[0m\u001b[0;34m:\u001b[0m\u001b[0;34m\u001b[0m\u001b[0;34m\u001b[0m\u001b[0m\n\u001b[1;32m     40\u001b[0m             \u001b[0;32mif\u001b[0m \u001b[0martist\u001b[0m\u001b[0;34m.\u001b[0m\u001b[0mget_agg_filter\u001b[0m\u001b[0;34m(\u001b[0m\u001b[0;34m)\u001b[0m \u001b[0;32mis\u001b[0m \u001b[0;32mnot\u001b[0m \u001b[0;32mNone\u001b[0m\u001b[0;34m:\u001b[0m\u001b[0;34m\u001b[0m\u001b[0;34m\u001b[0m\u001b[0m\n",
            "\u001b[0;32m/usr/local/lib/python3.7/dist-packages/matplotlib/axes/_base.py\u001b[0m in \u001b[0;36mdraw\u001b[0;34m(self, renderer, inframe)\u001b[0m\n\u001b[1;32m   2628\u001b[0m             \u001b[0mrenderer\u001b[0m\u001b[0;34m.\u001b[0m\u001b[0mstop_rasterizing\u001b[0m\u001b[0;34m(\u001b[0m\u001b[0;34m)\u001b[0m\u001b[0;34m\u001b[0m\u001b[0;34m\u001b[0m\u001b[0m\n\u001b[1;32m   2629\u001b[0m \u001b[0;34m\u001b[0m\u001b[0m\n\u001b[0;32m-> 2630\u001b[0;31m         \u001b[0mmimage\u001b[0m\u001b[0;34m.\u001b[0m\u001b[0m_draw_list_compositing_images\u001b[0m\u001b[0;34m(\u001b[0m\u001b[0mrenderer\u001b[0m\u001b[0;34m,\u001b[0m \u001b[0mself\u001b[0m\u001b[0;34m,\u001b[0m \u001b[0martists\u001b[0m\u001b[0;34m)\u001b[0m\u001b[0;34m\u001b[0m\u001b[0;34m\u001b[0m\u001b[0m\n\u001b[0m\u001b[1;32m   2631\u001b[0m \u001b[0;34m\u001b[0m\u001b[0m\n\u001b[1;32m   2632\u001b[0m         \u001b[0mrenderer\u001b[0m\u001b[0;34m.\u001b[0m\u001b[0mclose_group\u001b[0m\u001b[0;34m(\u001b[0m\u001b[0;34m'axes'\u001b[0m\u001b[0;34m)\u001b[0m\u001b[0;34m\u001b[0m\u001b[0;34m\u001b[0m\u001b[0m\n",
            "\u001b[0;32m/usr/local/lib/python3.7/dist-packages/matplotlib/image.py\u001b[0m in \u001b[0;36m_draw_list_compositing_images\u001b[0;34m(renderer, parent, artists, suppress_composite)\u001b[0m\n\u001b[1;32m    135\u001b[0m     \u001b[0;32mif\u001b[0m \u001b[0mnot_composite\u001b[0m \u001b[0;32mor\u001b[0m \u001b[0;32mnot\u001b[0m \u001b[0mhas_images\u001b[0m\u001b[0;34m:\u001b[0m\u001b[0;34m\u001b[0m\u001b[0;34m\u001b[0m\u001b[0m\n\u001b[1;32m    136\u001b[0m         \u001b[0;32mfor\u001b[0m \u001b[0ma\u001b[0m \u001b[0;32min\u001b[0m \u001b[0martists\u001b[0m\u001b[0;34m:\u001b[0m\u001b[0;34m\u001b[0m\u001b[0;34m\u001b[0m\u001b[0m\n\u001b[0;32m--> 137\u001b[0;31m             \u001b[0ma\u001b[0m\u001b[0;34m.\u001b[0m\u001b[0mdraw\u001b[0m\u001b[0;34m(\u001b[0m\u001b[0mrenderer\u001b[0m\u001b[0;34m)\u001b[0m\u001b[0;34m\u001b[0m\u001b[0;34m\u001b[0m\u001b[0m\n\u001b[0m\u001b[1;32m    138\u001b[0m     \u001b[0;32melse\u001b[0m\u001b[0;34m:\u001b[0m\u001b[0;34m\u001b[0m\u001b[0;34m\u001b[0m\u001b[0m\n\u001b[1;32m    139\u001b[0m         \u001b[0;31m# Composite any adjacent images together\u001b[0m\u001b[0;34m\u001b[0m\u001b[0;34m\u001b[0m\u001b[0;34m\u001b[0m\u001b[0m\n",
            "\u001b[0;32m/usr/local/lib/python3.7/dist-packages/matplotlib/artist.py\u001b[0m in \u001b[0;36mdraw_wrapper\u001b[0;34m(artist, renderer, *args, **kwargs)\u001b[0m\n\u001b[1;32m     36\u001b[0m                 \u001b[0mrenderer\u001b[0m\u001b[0;34m.\u001b[0m\u001b[0mstart_filter\u001b[0m\u001b[0;34m(\u001b[0m\u001b[0;34m)\u001b[0m\u001b[0;34m\u001b[0m\u001b[0;34m\u001b[0m\u001b[0m\n\u001b[1;32m     37\u001b[0m \u001b[0;34m\u001b[0m\u001b[0m\n\u001b[0;32m---> 38\u001b[0;31m             \u001b[0;32mreturn\u001b[0m \u001b[0mdraw\u001b[0m\u001b[0;34m(\u001b[0m\u001b[0martist\u001b[0m\u001b[0;34m,\u001b[0m \u001b[0mrenderer\u001b[0m\u001b[0;34m,\u001b[0m \u001b[0;34m*\u001b[0m\u001b[0margs\u001b[0m\u001b[0;34m,\u001b[0m \u001b[0;34m**\u001b[0m\u001b[0mkwargs\u001b[0m\u001b[0;34m)\u001b[0m\u001b[0;34m\u001b[0m\u001b[0;34m\u001b[0m\u001b[0m\n\u001b[0m\u001b[1;32m     39\u001b[0m         \u001b[0;32mfinally\u001b[0m\u001b[0;34m:\u001b[0m\u001b[0;34m\u001b[0m\u001b[0;34m\u001b[0m\u001b[0m\n\u001b[1;32m     40\u001b[0m             \u001b[0;32mif\u001b[0m \u001b[0martist\u001b[0m\u001b[0;34m.\u001b[0m\u001b[0mget_agg_filter\u001b[0m\u001b[0;34m(\u001b[0m\u001b[0;34m)\u001b[0m \u001b[0;32mis\u001b[0m \u001b[0;32mnot\u001b[0m \u001b[0;32mNone\u001b[0m\u001b[0;34m:\u001b[0m\u001b[0;34m\u001b[0m\u001b[0;34m\u001b[0m\u001b[0m\n",
            "\u001b[0;32m/usr/local/lib/python3.7/dist-packages/matplotlib/collections.py\u001b[0m in \u001b[0;36mdraw\u001b[0;34m(self, renderer)\u001b[0m\n\u001b[1;32m    892\u001b[0m     \u001b[0;32mdef\u001b[0m \u001b[0mdraw\u001b[0m\u001b[0;34m(\u001b[0m\u001b[0mself\u001b[0m\u001b[0;34m,\u001b[0m \u001b[0mrenderer\u001b[0m\u001b[0;34m)\u001b[0m\u001b[0;34m:\u001b[0m\u001b[0;34m\u001b[0m\u001b[0;34m\u001b[0m\u001b[0m\n\u001b[1;32m    893\u001b[0m         \u001b[0mself\u001b[0m\u001b[0;34m.\u001b[0m\u001b[0mset_sizes\u001b[0m\u001b[0;34m(\u001b[0m\u001b[0mself\u001b[0m\u001b[0;34m.\u001b[0m\u001b[0m_sizes\u001b[0m\u001b[0;34m,\u001b[0m \u001b[0mself\u001b[0m\u001b[0;34m.\u001b[0m\u001b[0mfigure\u001b[0m\u001b[0;34m.\u001b[0m\u001b[0mdpi\u001b[0m\u001b[0;34m)\u001b[0m\u001b[0;34m\u001b[0m\u001b[0;34m\u001b[0m\u001b[0m\n\u001b[0;32m--> 894\u001b[0;31m         \u001b[0mCollection\u001b[0m\u001b[0;34m.\u001b[0m\u001b[0mdraw\u001b[0m\u001b[0;34m(\u001b[0m\u001b[0mself\u001b[0m\u001b[0;34m,\u001b[0m \u001b[0mrenderer\u001b[0m\u001b[0;34m)\u001b[0m\u001b[0;34m\u001b[0m\u001b[0;34m\u001b[0m\u001b[0m\n\u001b[0m\u001b[1;32m    895\u001b[0m \u001b[0;34m\u001b[0m\u001b[0m\n\u001b[1;32m    896\u001b[0m \u001b[0;34m\u001b[0m\u001b[0m\n",
            "\u001b[0;32m/usr/local/lib/python3.7/dist-packages/matplotlib/artist.py\u001b[0m in \u001b[0;36mdraw_wrapper\u001b[0;34m(artist, renderer, *args, **kwargs)\u001b[0m\n\u001b[1;32m     36\u001b[0m                 \u001b[0mrenderer\u001b[0m\u001b[0;34m.\u001b[0m\u001b[0mstart_filter\u001b[0m\u001b[0;34m(\u001b[0m\u001b[0;34m)\u001b[0m\u001b[0;34m\u001b[0m\u001b[0;34m\u001b[0m\u001b[0m\n\u001b[1;32m     37\u001b[0m \u001b[0;34m\u001b[0m\u001b[0m\n\u001b[0;32m---> 38\u001b[0;31m             \u001b[0;32mreturn\u001b[0m \u001b[0mdraw\u001b[0m\u001b[0;34m(\u001b[0m\u001b[0martist\u001b[0m\u001b[0;34m,\u001b[0m \u001b[0mrenderer\u001b[0m\u001b[0;34m,\u001b[0m \u001b[0;34m*\u001b[0m\u001b[0margs\u001b[0m\u001b[0;34m,\u001b[0m \u001b[0;34m**\u001b[0m\u001b[0mkwargs\u001b[0m\u001b[0;34m)\u001b[0m\u001b[0;34m\u001b[0m\u001b[0;34m\u001b[0m\u001b[0m\n\u001b[0m\u001b[1;32m     39\u001b[0m         \u001b[0;32mfinally\u001b[0m\u001b[0;34m:\u001b[0m\u001b[0;34m\u001b[0m\u001b[0;34m\u001b[0m\u001b[0m\n\u001b[1;32m     40\u001b[0m             \u001b[0;32mif\u001b[0m \u001b[0martist\u001b[0m\u001b[0;34m.\u001b[0m\u001b[0mget_agg_filter\u001b[0m\u001b[0;34m(\u001b[0m\u001b[0;34m)\u001b[0m \u001b[0;32mis\u001b[0m \u001b[0;32mnot\u001b[0m \u001b[0;32mNone\u001b[0m\u001b[0;34m:\u001b[0m\u001b[0;34m\u001b[0m\u001b[0;34m\u001b[0m\u001b[0m\n",
            "\u001b[0;32m/usr/local/lib/python3.7/dist-packages/matplotlib/collections.py\u001b[0m in \u001b[0;36mdraw\u001b[0;34m(self, renderer)\u001b[0m\n\u001b[1;32m    367\u001b[0m                 \u001b[0mself\u001b[0m\u001b[0;34m.\u001b[0m\u001b[0m_linewidths\u001b[0m\u001b[0;34m,\u001b[0m \u001b[0mself\u001b[0m\u001b[0;34m.\u001b[0m\u001b[0m_linestyles\u001b[0m\u001b[0;34m,\u001b[0m\u001b[0;34m\u001b[0m\u001b[0;34m\u001b[0m\u001b[0m\n\u001b[1;32m    368\u001b[0m                 \u001b[0mself\u001b[0m\u001b[0;34m.\u001b[0m\u001b[0m_antialiaseds\u001b[0m\u001b[0;34m,\u001b[0m \u001b[0mself\u001b[0m\u001b[0;34m.\u001b[0m\u001b[0m_urls\u001b[0m\u001b[0;34m,\u001b[0m\u001b[0;34m\u001b[0m\u001b[0;34m\u001b[0m\u001b[0m\n\u001b[0;32m--> 369\u001b[0;31m                 self._offset_position)\n\u001b[0m\u001b[1;32m    370\u001b[0m \u001b[0;34m\u001b[0m\u001b[0m\n\u001b[1;32m    371\u001b[0m         \u001b[0mgc\u001b[0m\u001b[0;34m.\u001b[0m\u001b[0mrestore\u001b[0m\u001b[0;34m(\u001b[0m\u001b[0;34m)\u001b[0m\u001b[0;34m\u001b[0m\u001b[0;34m\u001b[0m\u001b[0m\n",
            "\u001b[0;32m/usr/local/lib/python3.7/dist-packages/matplotlib/path.py\u001b[0m in \u001b[0;36mvertices\u001b[0;34m(self)\u001b[0m\n\u001b[1;32m    195\u001b[0m         )\n\u001b[1;32m    196\u001b[0m \u001b[0;34m\u001b[0m\u001b[0m\n\u001b[0;32m--> 197\u001b[0;31m     \u001b[0;34m@\u001b[0m\u001b[0mproperty\u001b[0m\u001b[0;34m\u001b[0m\u001b[0;34m\u001b[0m\u001b[0m\n\u001b[0m\u001b[1;32m    198\u001b[0m     \u001b[0;32mdef\u001b[0m \u001b[0mvertices\u001b[0m\u001b[0;34m(\u001b[0m\u001b[0mself\u001b[0m\u001b[0;34m)\u001b[0m\u001b[0;34m:\u001b[0m\u001b[0;34m\u001b[0m\u001b[0;34m\u001b[0m\u001b[0m\n\u001b[1;32m    199\u001b[0m         \"\"\"\n",
            "\u001b[0;31mKeyboardInterrupt\u001b[0m: "
          ]
        }
      ]
    },
    {
      "cell_type": "markdown",
      "metadata": {
        "id": "mE4-PIaTAfKX"
      },
      "source": [
        "## 4. Pré-Processamento de dados"
      ]
    },
    {
      "cell_type": "markdown",
      "metadata": {
        "id": "wZxYswFlJjsH"
      },
      "source": [
        "### 4.1. Cópia do Dataset Original\n",
        "\n",
        "Inicialmente, criaremos uma cópia do dataset para fazermos os tratamentos necessários, preservando o dataset original.\n"
      ]
    },
    {
      "cell_type": "code",
      "metadata": {
        "colab": {
          "base_uri": "https://localhost:8080/"
        },
        "id": "eu8er0L5QVxj",
        "outputId": "d59eda1a-dce0-4653-f215-fdd470f7e40d"
      },
      "source": [
        "# mantendo uma cópia do dataset original\n",
        "datasetOK = dataset.copy()\n",
        "\n",
        "datasetOK.info()"
      ],
      "execution_count": null,
      "outputs": [
        {
          "output_type": "stream",
          "text": [
            "<class 'pandas.core.frame.DataFrame'>\n",
            "RangeIndex: 32561 entries, 0 to 32560\n",
            "Data columns (total 15 columns):\n",
            " #   Column          Non-Null Count  Dtype \n",
            "---  ------          --------------  ----- \n",
            " 0   age             32561 non-null  int64 \n",
            " 1   workclass       32561 non-null  object\n",
            " 2   fnlwgt          32561 non-null  int64 \n",
            " 3   education       32561 non-null  object\n",
            " 4   education-num   32561 non-null  int64 \n",
            " 5   marital-status  32561 non-null  object\n",
            " 6   occupation      32561 non-null  object\n",
            " 7   relationship    32561 non-null  object\n",
            " 8   race            32561 non-null  object\n",
            " 9   sex             32561 non-null  object\n",
            " 10  capital-gain    32561 non-null  int64 \n",
            " 11  capital-loss    32561 non-null  int64 \n",
            " 12  hours-per-week  32561 non-null  int64 \n",
            " 13  native-country  32561 non-null  object\n",
            " 14  income          32561 non-null  object\n",
            "dtypes: int64(6), object(9)\n",
            "memory usage: 3.7+ MB\n"
          ],
          "name": "stdout"
        }
      ]
    },
    {
      "cell_type": "markdown",
      "metadata": {
        "id": "QLHL9deZviZp"
      },
      "source": [
        "### 4.2. Feature Selection\n",
        "\n",
        "No processo de seleção de variáveis (feature selection) visamos identificar atributos que mais contribuem para a qualidade do modelo, excluindo aqueles fortemente correlacionados entre si ou que não contribuam para a determinação da classe, desta forma, obtendo ganhos de performance na execução dos algoritmos, simplificação e melhor entendimento do modelo gerado.\n",
        "\n",
        "O atributo education-num é a versão numérica do atributo education, ambos representando a mesma informação e, portanto, sendo redundantes. Com isso, podemos excluir um deles. Escolhemos apagar a coluna education que é categórica e manter a coluna education-num, que é numérica.\n",
        "\n",
        "Identificamos que o atributo fnlwgt é um peso dado ao registro na população como um todo, considerando as características sócio-econômicas do registro, no entanto, o dataset é uma coleção de dados dos 51 estados americanos e o atributo fnlwgt só faz sentido no estado de origem, desta forma, assim como outros trabalhos com o mesmo dataset, consultados por nós, optamos por remover este atributo do modelo.\n"
      ]
    },
    {
      "cell_type": "code",
      "metadata": {
        "colab": {
          "base_uri": "https://localhost:8080/"
        },
        "id": "OyfEjwE2P9Ic",
        "outputId": "ad789c7f-3b3a-4b72-cd5c-62c4b5a47ea7"
      },
      "source": [
        "# Exclusão dos atributos education e fnlwgt\n",
        "datasetOK.drop(columns=['education', 'fnlwgt'], inplace=True)\n",
        "\n",
        "datasetOK.info()"
      ],
      "execution_count": null,
      "outputs": [
        {
          "output_type": "stream",
          "text": [
            "<class 'pandas.core.frame.DataFrame'>\n",
            "RangeIndex: 32561 entries, 0 to 32560\n",
            "Data columns (total 13 columns):\n",
            " #   Column          Non-Null Count  Dtype \n",
            "---  ------          --------------  ----- \n",
            " 0   age             32561 non-null  int64 \n",
            " 1   workclass       32561 non-null  object\n",
            " 2   education-num   32561 non-null  int64 \n",
            " 3   marital-status  32561 non-null  object\n",
            " 4   occupation      32561 non-null  object\n",
            " 5   relationship    32561 non-null  object\n",
            " 6   race            32561 non-null  object\n",
            " 7   sex             32561 non-null  object\n",
            " 8   capital-gain    32561 non-null  int64 \n",
            " 9   capital-loss    32561 non-null  int64 \n",
            " 10  hours-per-week  32561 non-null  int64 \n",
            " 11  native-country  32561 non-null  object\n",
            " 12  income          32561 non-null  object\n",
            "dtypes: int64(5), object(8)\n",
            "memory usage: 3.2+ MB\n"
          ],
          "name": "stdout"
        }
      ]
    },
    {
      "cell_type": "markdown",
      "metadata": {
        "id": "rBexD4P2RDOW"
      },
      "source": [
        "### 4.3. Tratamento de Missing Values\n",
        "\n",
        "Conforme observamos na análise exploratória, os atributos `workclass`, `occupation` e `native-country` possuem quantidade expresiva de valores `?`, que trataremos como valores faltantes. Por se tratarem de atributos categóricos, faremos a substituição pela Moda.\n",
        "\n",
        "Também como observado na análise exploratória, os atributos `capital-gain` e `capital-loss` possuem a maior parte de seus valores zerados, pois tanto os valores mínimo, quanto os do primeiro, segundo e terceiro quartis possuem valor `0`. Desta forma, iremos remover esses atributos do modelo."
      ]
    },
    {
      "cell_type": "code",
      "metadata": {
        "colab": {
          "base_uri": "https://localhost:8080/"
        },
        "id": "nUDPInqqTni3",
        "outputId": "25791497-de94-4f79-8406-cf2f25fec5c5"
      },
      "source": [
        "# Substituindo os \" ?\" por NaN no dataset\n",
        "datasetOK.replace(' ?', np.nan, inplace=True)\n",
        "\n",
        "# Substituindo os valores 0 por NaN nos atributos capital-gain e capital-loss\n",
        "datasetOK['capital-gain'].replace(0, np.nan, inplace=True)\n",
        "datasetOK['capital-loss'].replace(0, np.nan, inplace=True)\n",
        "\n",
        "# Exibindo visualização matricial da nulidade do dataset\n",
        "ms.matrix(datasetOK)"
      ],
      "execution_count": null,
      "outputs": [
        {
          "output_type": "execute_result",
          "data": {
            "text/plain": [
              "<matplotlib.axes._subplots.AxesSubplot at 0x7fd3d589a090>"
            ]
          },
          "metadata": {
            "tags": []
          },
          "execution_count": 9
        },
        {
          "output_type": "display_data",
          "data": {
            "image/png": "[encoded data removed]",
            "text/plain": [
              "<Figure size 1800x720 with 2 Axes>"
            ]
          },
          "metadata": {
            "tags": [],
            "needs_background": "light"
          }
        }
      ]
    },
    {
      "cell_type": "code",
      "metadata": {
        "colab": {
          "base_uri": "https://localhost:8080/"
        },
        "id": "GYgb5ziVYrwK",
        "outputId": "9e56ea51-f24f-4e60-9e7a-8b7cfca15898"
      },
      "source": [
        "# Exclusão dos atributos capital-gain e capital-loss\n",
        "datasetOK.drop(columns=['capital-gain','capital-loss'], inplace=True)\n",
        "\n",
        "datasetOK.info()"
      ],
      "execution_count": null,
      "outputs": [
        {
          "output_type": "stream",
          "text": [
            "<class 'pandas.core.frame.DataFrame'>\n",
            "RangeIndex: 32561 entries, 0 to 32560\n",
            "Data columns (total 11 columns):\n",
            " #   Column          Non-Null Count  Dtype \n",
            "---  ------          --------------  ----- \n",
            " 0   age             32561 non-null  int64 \n",
            " 1   workclass       30725 non-null  object\n",
            " 2   education-num   32561 non-null  int64 \n",
            " 3   marital-status  32561 non-null  object\n",
            " 4   occupation      30718 non-null  object\n",
            " 5   relationship    32561 non-null  object\n",
            " 6   race            32561 non-null  object\n",
            " 7   sex             32561 non-null  object\n",
            " 8   hours-per-week  32561 non-null  int64 \n",
            " 9   native-country  31978 non-null  object\n",
            " 10  income          32561 non-null  object\n",
            "dtypes: int64(3), object(8)\n",
            "memory usage: 2.7+ MB\n"
          ],
          "name": "stdout"
        }
      ]
    },
    {
      "cell_type": "code",
      "metadata": {
        "colab": {
          "base_uri": "https://localhost:8080/"
        },
        "id": "ZGtLKNm2aGVH",
        "outputId": "4cfc135d-0568-410c-8311-0fd9b93e4a56"
      },
      "source": [
        "'''\n",
        "# OBSERVAÇÃO: APÓS A EXCLUSÃO DE CAPITAL-GAIN E CAPITAL-LOSS, NÃO HÁ ATRIBUTOS NUMÉRICOS COM NAN. POR QUE AQUI NÃO FOI FEITA A TRANSFORMAÇÃO APENAS DOS ATRIBUTOS WORKCLASS, OCUPATION E NATIVE-COUNTRY?\n",
        "# Substituindo os valores NaN dos atributos workclass, occupation e native-country\n",
        "\n",
        "#divisão das colunas por tipo de atributo e classe/target\n",
        "numeric_features = ['age', 'education-num', 'hours-per-week']\n",
        "categorical_features = ['workclass', 'marital-status', 'occupation', 'relationship', 'race', 'sex', 'native-country']\n",
        "target = ['income']\n",
        "\n",
        "#nova versão usando o https://scikit-learn.org/stable/modules/impute.html#impute\n",
        "ct = ColumnTransformer(transformers=[('numeric-missing-values', SimpleImputer(missing_values=np.nan, strategy='mean'), numeric_features),\n",
        "                                     ('categorical-missing-values', SimpleImputer(missing_values=np.nan, strategy='most_frequent'), categorical_features),\n",
        "                                     ('passthrough', 'passthrough', target)])\n",
        "\n",
        "datasetOK = pd.DataFrame(data=ct.fit_transform(datasetOK), columns=numeric_features + categorical_features + target)\n",
        "\n",
        "# Exibindo visualização matricial para confirmar que todos os missing values foram tratados\n",
        "ms.matrix(datasetOK)\n",
        "'''"
      ],
      "execution_count": null,
      "outputs": [
        {
          "output_type": "execute_result",
          "data": {
            "application/vnd.google.colaboratory.intrinsic+json": {
              "type": "string"
            },
            "text/plain": [
              "\"\\n# OBSERVAÇÃO: APÓS A EXCLUSÃO DE CAPITAL-GAIN E CAPITAL-LOSS, NÃO HÁ ATRIBUTOS NUMÉRICOS COM NAN. POR QUE AQUI NÃO FOI FEITA A TRANSFORMAÇÃO APENAS DOS ATRIBUTOS WORKCLASS, OCUPATION E NATIVE-COUNTRY?\\n# Substituindo os valores NaN dos atributos workclass, occupation e native-country\\n\\n#divisão das colunas por tipo de atributo e classe/target\\nnumeric_features = ['age', 'education-num', 'hours-per-week']\\ncategorical_features = ['workclass', 'marital-status', 'occupation', 'relationship', 'race', 'sex', 'native-country']\\ntarget = ['income']\\n\\n#nova versão usando o https://scikit-learn.org/stable/modules/impute.html#impute\\nct = ColumnTransformer(transformers=[('numeric-missing-values', SimpleImputer(missing_values=np.nan, strategy='mean'), numeric_features),\\n                                     ('categorical-missing-values', SimpleImputer(missing_values=np.nan, strategy='most_frequent'), categorical_features),\\n                                     ('passthrough', 'passthrough', target)])\\n\\ndatasetOK = pd.DataFrame(data=ct.fit_transform(datasetOK), columns=numeric_features + categorical_features + target)\\n\\n# Exibindo visualização matricial para confirmar que todos os missing values foram tratados\\nms.matrix(datasetOK)\\n\""
            ]
          },
          "metadata": {
            "tags": []
          },
          "execution_count": 11
        }
      ]
    },
    {
      "cell_type": "markdown",
      "metadata": {
        "id": "FHj8fROagpHh"
      },
      "source": [
        "### 4.4. Tratamento de linhas duplicadas\n",
        "\n",
        "Verificaremos a existência de linhas duplicadas no dataset e as excluiremos."
      ]
    },
    {
      "cell_type": "code",
      "metadata": {
        "colab": {
          "base_uri": "https://localhost:8080/"
        },
        "id": "Pe3WeWC-hEeZ",
        "outputId": "798bf7b3-292a-4aa3-f9a4-e102e08f689b"
      },
      "source": [
        "# Vericando a existência de linhas duplicadas no dataset\n",
        "print(\"Quantidade de linhas duplicadas: \", datasetOK.duplicated().sum())"
      ],
      "execution_count": null,
      "outputs": [
        {
          "output_type": "stream",
          "text": [
            "Quantidade de linhas duplicadas:  4243\n"
          ],
          "name": "stdout"
        }
      ]
    },
    {
      "cell_type": "code",
      "metadata": {
        "colab": {
          "base_uri": "https://localhost:8080/"
        },
        "id": "WSEQFcwVhnM0",
        "outputId": "87b9df2d-a23f-410b-ef46-d654ce357bcf"
      },
      "source": [
        "# Excluindo as linhas duplicadas\n",
        "datasetOK.drop_duplicates(inplace=True)\n",
        "\n",
        "# Confirmando não haver mais linha duplicadas\n",
        "print(\"Quantidade de linhas duplicadas: \", datasetOK.duplicated().sum())"
      ],
      "execution_count": null,
      "outputs": [
        {
          "output_type": "stream",
          "text": [
            "Quantidade de linhas duplicadas:  0\n"
          ],
          "name": "stdout"
        }
      ]
    },
    {
      "cell_type": "code",
      "metadata": {
        "colab": {
          "base_uri": "https://localhost:8080/"
        },
        "id": "w7MlcawHLSSX",
        "outputId": "8431faf8-8256-4181-a645-5aab27102d3e"
      },
      "source": [
        "# *** Linha que apresenta erro ao fazer o split_train_test com 0,20 e preprocesamento com categórico\n",
        "print('Linha %s' % datasetOK[datasetOK['native-country'] == ' Holand-Netherlands'].index)\n",
        "print(len(datasetOK))\n",
        "datasetOK.drop(datasetOK[datasetOK['native-country'] == ' Holand-Netherlands'].index , inplace=True)\n",
        "print(len(datasetOK))"
      ],
      "execution_count": null,
      "outputs": [
        {
          "output_type": "stream",
          "text": [
            "Linha Int64Index([19609], dtype='int64')\n",
            "28318\n",
            "28317\n"
          ],
          "name": "stdout"
        }
      ]
    },
    {
      "cell_type": "markdown",
      "metadata": {
        "id": "LoLQBjKl9JVD"
      },
      "source": [
        "### 4.5. Separação em conjunto de treino e conjunto de teste\n",
        "\n",
        "É uma boa prática usar um conjunto de teste (na literatura também chamado de conjunto de validação), uma amostra dos dados que não será usada para a construção do modelo, mas somente no fim do projeto para confirmar a precisão do modelo final. É um teste que podemos usar para verificar o quão boa foi a construção do modelo, e para nos dar uma ideia de como o modelo irá performar nas estimativas em dados não vistos. Usaremos 80% do conjunto de dados para modelagem e guardaremos 20% para teste, usando a estratégia train-test-split. Primeiramente, iremos sinalizar quais são as colunas de atributos (X - 0 a 9) e qual é a coluna das classes (Y - 10). Em seguida, especificaremos o tamanho do conjunto de teste desejado e uma semente (para garantir a reprodutibilidade dos resultados). Finalmente, faremos a separação dos conjuntos de treino e teste através do comando train_test_split, que retornará 4 estruturas de dados: os atributos e classes para o conjunto de teste e os atributos e classes para o conjunto de treino."
      ]
    },
    {
      "cell_type": "code",
      "metadata": {
        "id": "fEiAm3LEAfPt"
      },
      "source": [
        "# # Separação em conjuntos de treino e teste\n",
        "# array = datasetOK.values[]\n",
        "# X = array[:,0:10]\n",
        "# y = array[:,10]\n",
        "# test_size = 0.50 # ??? 0.20\n",
        "# X_train, X_test, y_train, y_test = train_test_split(X, y,\n",
        "#     test_size=test_size, random_state=seed)\n",
        "\n",
        "# # Mostra as dimensões do dataset antes do partcionamento\n",
        "# print(datasetOK.shape)\n",
        "\n",
        "# # Mostra as dimensões do dataset de treino (atributos) após o particionamento\n",
        "# print(X_train.shape)\n",
        "\n",
        "# # Mostra as dimensões do dataset de treino (target) após o particionamento\n",
        "# print(Y_train.shape)\n",
        "\n",
        "# # Mostra as dimensões do dataset de teste (atributos) após o particionamento\n",
        "# print(X_test.shape)\n",
        "\n",
        "# # Mostra as dimensões do dataset de teste (target) após o particionamento\n",
        "# print(Y_test.shape)"
      ],
      "execution_count": null,
      "outputs": []
    },
    {
      "cell_type": "code",
      "metadata": {
        "id": "1cwRCzCGFk5o"
      },
      "source": [
        "# Separação em conjuntos de treino e teste\n",
        "y = datasetOK.income\n",
        "X = datasetOK.drop(columns='income')\n",
        "\n",
        "# Tamanho do conjunto de teste\n",
        "test_size = 0.20 # *** por questão de tempo, o ideal seria 0,20\n",
        "\n",
        "X_train, X_test, y_train, y_test = train_test_split(X, y, test_size=test_size, random_state=seed)"
      ],
      "execution_count": null,
      "outputs": []
    },
    {
      "cell_type": "markdown",
      "metadata": {
        "id": "f2OGe0DtAfU4"
      },
      "source": [
        "## 5. Modelos de Classificação"
      ]
    },
    {
      "cell_type": "markdown",
      "metadata": {
        "id": "pwHzQpbX9QQh"
      },
      "source": [
        "### 5.1. Criação e avaliação de modelos: Experimentos com diferentes pré-processamentos, algoritmos e hiperparâmetros\n",
        "\n",
        "Optamos por iniciar o trabalho realizando diferentes experimentos com diversas combinações de pré-processamentos do dataset, algoritmos e hiperparâmetros. Para isso, implementaremos uma função que receberá listas dessas combinações e retornará os melhores scores.\n",
        "\n",
        "Usaremos a validação cruzada 10-fold e avaliaremos os modelos usando a métrica de acurácia.\n",
        "\n"
      ]
    },
    {
      "cell_type": "code",
      "metadata": {
        "id": "LBDVFgkh-lfd"
      },
      "source": [
        "# Definindo a métrica de avaliação dos modelos\n",
        "scoring = 'accuracy'\n",
        "\n",
        "# Definindo número de partições para a validação cruzada\n",
        "num_particoes = 10\n",
        "kfold = KFold(n_splits=num_particoes)\n",
        "\n",
        "# Criando listas com os nomes dos atributos por tipos\n",
        "numeric_features = ['age', 'education-num', 'hours-per-week']\n",
        "categorical_features = ['workclass', 'marital-status', 'occupation', 'relationship', 'race', 'sex', 'native-country']\n",
        "target = ['income']"
      ],
      "execution_count": null,
      "outputs": []
    },
    {
      "cell_type": "markdown",
      "metadata": {
        "id": "5eNcjDGuAvUD"
      },
      "source": [
        "Criando a função de treinamento dos modelos, que combina lista de classificadores com lista de técnicas de preprocessamento, e retorna um dataframe ordenado pelos melhores scores com as seguintes informações: 'classificador' , 'preprocessamento' , 'parametros' , 'modelo' , 'score'.\n",
        "\n",
        "Nela, os modelos são treinados com os dados do conjunto de treino e utilizando a técnica de validação cruzada."
      ]
    },
    {
      "cell_type": "code",
      "metadata": {
        "id": "i8QuLCfwBo7A"
      },
      "source": [
        "# Função para treinamento dos modelos\n",
        "# Retorna uma dataframe com as seguintes informações: 'classificador' , 'preprocessamento' , 'parametros' , 'modelo' , 'score'\n",
        "# Dataframe ordenado por score, do maior para o menor\n",
        "def trainModels (models, preprocessers, X_train, y_train):\n",
        "  results = []\n",
        "\n",
        "  tz = timezone(timedelta(hours=-3))\n",
        "  start_pro = datetime.now(tz)\n",
        "  print(\"Início do processo de treinamento : \", start_pro.strftime(\"%H:%M:%S\"))\n",
        "\n",
        "  for nm_model, model, pg in models:\n",
        "    print('Modelo : %s' % (nm_model) )\n",
        "    for nm_pp, pp in preprocessers:\n",
        "      print('   Dataset.............: %s' % (nm_pp) )\n",
        "      print('   Horário de início...: %s' % (datetime.now(tz).strftime(\"%H:%M:%S\")))\n",
        "      start = time.time()\n",
        "      pipe = Pipeline(steps=[(\"preprocesser\", pp), (nm_model, model)])\n",
        "      grid = GridSearchCV(estimator=pipe, param_grid=pg, scoring=scoring, cv=kfold)\n",
        "      grid.fit(X_train, y_train)\n",
        "      results.append((nm_model, nm_pp, grid.best_params_, grid.best_estimator_, grid.best_score_, grid.cv_results_, grid.n_splits_))\n",
        "      print(f\"   Melhor resultado....: {grid.best_score_}\")\n",
        "      print(f\"   Melhores parâmetros.: {grid.best_params_}\")\n",
        "      end = time.time()\n",
        "      print(f\"   Tempo de execução...: {end - start}\\n\")\n",
        "\n",
        "  end_pro = datetime.now(tz)\n",
        "  print(\"Fim do processo de treinamento : \", end_pro.strftime(\"%H:%M:%S\"))\n",
        "\n",
        "  res_final = pd.DataFrame(data=results, columns=['classificador','preprocessamento','parametros', 'modelo', 'score', 'cv_results', 'n_splits'])\n",
        "  res_final.sort_values(by='score', ascending=False,  inplace=True)\n",
        "  return res_final"
      ],
      "execution_count": null,
      "outputs": []
    },
    {
      "cell_type": "markdown",
      "metadata": {
        "id": "cAfK2Z5WAlK6"
      },
      "source": [
        "Preparando a lista com as principais técnicas de pré-processamento"
      ]
    },
    {
      "cell_type": "code",
      "metadata": {
        "id": "pvhUqD0h_Mdu"
      },
      "source": [
        "preprocessamento = []\n",
        "\n",
        "# Atributos categóricos: Tratamento de missing values e transformação com OneHotEncoder\n",
        "categorical_transformer = Pipeline(steps=[ \n",
        "    ('categorical-missing-values', SimpleImputer(missing_values=np.nan, strategy='most_frequent')),\n",
        "    ('OHE', OneHotEncoder(drop='first', sparse=False)) ])\n",
        "\n",
        "# Mantendo os atributos numéricos originais e tratando categóricos com OneHotEncoder\n",
        "ct_oh = ColumnTransformer(transformers=[('numeric', 'passthrough', numeric_features),\n",
        "                                        ('categorical_transformer', categorical_transformer, categorical_features)])\n",
        "preprocessamento.append(('OHE',ct_oh))\n",
        "\n",
        "# Padronizando os atributos numéricos com StandardScaler e tratando categóricos com OneHotEncoder\n",
        "ct_stsc_oh = ColumnTransformer(transformers=[('StandardScaler', StandardScaler(), numeric_features),\n",
        "                                             ('categorical_transformer', categorical_transformer, categorical_features)])\n",
        "preprocessamento.append(('StandardScaler_OHE',ct_stsc_oh))\n",
        "\n",
        "# Normalizando os atributos numéricos com MinMaxScaler e tratando categóricos com OneHotEncoder\n",
        "ct_norm_oh = ColumnTransformer(transformers=[('MinMaxScaler', MinMaxScaler(), numeric_features),\n",
        "                                             ('categorical_transformer', categorical_transformer, categorical_features)])\n",
        "preprocessamento.append(('MinMaxScaler_OHE',ct_norm_oh))\n",
        "\n",
        "### *** Não estamos usando os tratamentos abaixo porque dá erro com os atributos categóricos\n",
        "\n",
        "# Padronizando StandardScaler\n",
        "#ct_stsc = ColumnTransformer(transformers=[('StandardScaler', StandardScaler(), numeric_features),\n",
        "#                                          ('categorical', 'passthrough', categorical_features)])\n",
        "#preprocessamento.append(('StandardScaler',ct_stsc))\n",
        "\n",
        "# Normalizando MinMaxScaler\n",
        "# ct_norm = ColumnTransformer(transformers=[('MinMaxScaler', MinMaxScaler(), numeric_features),\n",
        "#                                          ('categorical', 'passthrough', categorical_features)])\n",
        "# preprocessamento.append(('MinMaxScaler',ct_norm))\n"
      ],
      "execution_count": null,
      "outputs": []
    },
    {
      "cell_type": "markdown",
      "metadata": {
        "id": "iR3PKLoRt360"
      },
      "source": [
        "Preparando lista ampla de algoritmos a serem explorados, com algumas variações dos hiperarâmetros. Nosso objetivo é explorar o maior número possível de algorítmos mas com baixa variação de hiperparâmetros, para identificarmos os algorítmos mais promissores.\n",
        "\n",
        "Utilizaremos os modelos de K-vizinhos mais próximos (KNN), Máquinas de vetores de suporte (SVM), Árvores de classificação (CART), Naive Bayes (GaussianNB) e Regressão Logística (LogisticRegression).\n",
        "\n",
        "Outra maneira de melhorar o desempenho dos algoritmos é usar métodos de ensemble. Avaliaremos quatro modelos diferentes, sendo três métodos de Bagging e um de Boosting:\n",
        "\n",
        "Métodos de Bagging: Decision Tree, Random Forest e Extra Trees.\n",
        "Método de Boosting: Gradient Boosting.\n"
      ]
    },
    {
      "cell_type": "code",
      "metadata": {
        "id": "IOtyBWcI-h_j"
      },
      "source": [
        "# Lista de modelos a serem explorados\n",
        "models_explorer = []\n",
        "\n",
        "# KNN - hiperparâmetros que serão avaliados\n",
        "k = [1,11,25]\n",
        "distancias = [\"minkowski\"]\n",
        "pgk = {\n",
        "    'KNN__n_neighbors': k,\n",
        "    'KNN__metric': distancias\n",
        "}\n",
        "models_explorer.append(('KNN', KNeighborsClassifier(), pgk))\n",
        "\n",
        "# SVM\n",
        "c_values = [0.1] #c_values = [0.1, 0.3, 0.5, 0.7, 0.9, 1.0, 1.3, 1.5, 1.7, 2.0]\n",
        "kernel_values = ['linear'] #kernel_values = ['linear', 'poly', 'rbf', 'sigmoid']\n",
        "pgs = {\n",
        "    'SVM__C': c_values,\n",
        "    'SVM__kernel': kernel_values\n",
        "}\n",
        "models_explorer.append(('SVM', SVC(gamma='auto'), pgs))\n",
        "\n",
        "# CART\n",
        "criterion = ['gini','entropy']\n",
        "max_depth = [3,7]\n",
        "pgd = {\n",
        "    'CART__criterion': criterion,\n",
        "    'CART__max_depth': max_depth\n",
        "}\n",
        "models_explorer.append(('CART', DecisionTreeClassifier(), pgd))\n",
        "\n",
        "# GaussianNB\n",
        "pgb = {\n",
        "    'NB__var_smoothing': np.logspace(0,-9, num=10)\n",
        "}\n",
        "models_explorer.append(('NB', GaussianNB(), pgb))\n",
        "\n",
        "# LogisticRegression\n",
        "pgl = {}\n",
        "models_explorer.append(('LR', LogisticRegression(solver='liblinear'), pgl))\n",
        "\n",
        "## todos os métodos ensembles que usam árvore de decisão terão 100 árvores\n",
        "num_trees = [100] # *** o ideal seria no mínimo 100\n",
        "\n",
        "# BaggingClassifier - DecisionTreeClassifier , KNeighborsClassifier\n",
        "base = [DecisionTreeClassifier(), KNeighborsClassifier()]\n",
        "\n",
        "pgbag = {\n",
        "    'Bag_DecTree_Knn__base_estimator': base,\n",
        "    'Bag_DecTree_Knn__n_estimators': num_trees\n",
        "}\n",
        "models_explorer.append(('Bag_DecTree_Knn', BaggingClassifier(), pgbag))\n",
        "\n",
        "# RandomForestClassifier\n",
        "max_features = [3]\n",
        "\n",
        "pgrf = {\n",
        "    'RanFor__max_features': max_features,\n",
        "    'RanFor__n_estimators': num_trees\n",
        "}\n",
        "models_explorer.append(('RanFor', RandomForestClassifier(), pgrf))\n",
        "\n",
        "# ExtraTreesClassifier\n",
        "max_features = [3]\n",
        "\n",
        "pget = {\n",
        "    'ExtTree__max_features': max_features,\n",
        "    'ExtTree__n_estimators': num_trees\n",
        "}\n",
        "models_explorer.append(('ExtTree', ExtraTreesClassifier(), pget))\n",
        "\n",
        "# GradientBoostingClassifier\n",
        "pggb = {\n",
        "    'GradBoost__n_estimators': num_trees\n",
        "}\n",
        "models_explorer.append(('GradBoost', GradientBoostingClassifier(), pggb))"
      ],
      "execution_count": null,
      "outputs": []
    },
    {
      "cell_type": "markdown",
      "metadata": {
        "id": "ipTi4jCHD9Jc"
      },
      "source": [
        "Explorando vários modelos e métodos de preprocessamento para tentar buscar os mais promissores."
      ]
    },
    {
      "cell_type": "code",
      "metadata": {
        "colab": {
          "base_uri": "https://localhost:8080/"
        },
        "id": "CfUJMpvREFSs",
        "outputId": "078c1b6b-af05-499b-8017-876d3cf372a4"
      },
      "source": [
        "res_explorer = trainModels(models_explorer, preprocessamento, X_train, y_train)"
      ],
      "execution_count": null,
      "outputs": [
        {
          "output_type": "stream",
          "text": [
            "Início do processo de treinamento :  00:15:49\n",
            "Modelo : KNN\n",
            "   Dataset.............: OHE\n",
            "   Horário de início...: 00:15:49\n",
            "   Melhor resultado....: 0.8091205048621625\n",
            "   Melhores parâmetros.: {'KNN__metric': 'minkowski', 'KNN__n_neighbors': 25}\n",
            "   Tempo de execução...: 45.12581825256348\n",
            "\n",
            "   Dataset.............: StandardScaler_OHE\n",
            "   Horário de início...: 00:16:34\n",
            "   Melhor resultado....: 0.8293826388361205\n",
            "   Melhores parâmetros.: {'KNN__metric': 'minkowski', 'KNN__n_neighbors': 25}\n",
            "   Tempo de execução...: 107.8604040145874\n",
            "\n",
            "   Dataset.............: MinMaxScaler_OHE\n",
            "   Horário de início...: 00:18:22\n",
            "   Melhor resultado....: 0.8240855413259451\n",
            "   Melhores parâmetros.: {'KNN__metric': 'minkowski', 'KNN__n_neighbors': 25}\n",
            "   Tempo de execução...: 129.55743646621704\n",
            "\n",
            "Modelo : SVM\n",
            "   Dataset.............: OHE\n",
            "   Horário de início...: 00:20:32\n",
            "   Melhor resultado....: 0.8283678097765412\n",
            "   Melhores parâmetros.: {'SVM__C': 0.1, 'SVM__kernel': 'linear'}\n",
            "   Tempo de execução...: 492.6021406650543\n",
            "\n",
            "   Dataset.............: StandardScaler_OHE\n",
            "   Horário de início...: 00:28:44\n",
            "   Melhor resultado....: 0.8283236986336068\n",
            "   Melhores parâmetros.: {'SVM__C': 0.1, 'SVM__kernel': 'linear'}\n",
            "   Tempo de execução...: 284.2337214946747\n",
            "\n",
            "   Dataset.............: MinMaxScaler_OHE\n",
            "   Horário de início...: 00:33:29\n",
            "   Melhor resultado....: 0.8285884629098158\n",
            "   Melhores parâmetros.: {'SVM__C': 0.1, 'SVM__kernel': 'linear'}\n",
            "   Tempo de execução...: 274.3370566368103\n",
            "\n",
            "Modelo : CART\n",
            "   Dataset.............: OHE\n",
            "   Horário de início...: 00:38:03\n",
            "   Melhor resultado....: 0.8189205824073695\n",
            "   Melhores parâmetros.: {'CART__criterion': 'entropy', 'CART__max_depth': 7}\n",
            "   Tempo de execução...: 31.025147438049316\n",
            "\n",
            "   Dataset.............: StandardScaler_OHE\n",
            "   Horário de início...: 00:38:34\n",
            "   Melhor resultado....: 0.8191413134755254\n",
            "   Melhores parâmetros.: {'CART__criterion': 'entropy', 'CART__max_depth': 7}\n",
            "   Tempo de execução...: 31.138031005859375\n",
            "\n",
            "   Dataset.............: MinMaxScaler_OHE\n",
            "   Horário de início...: 00:39:05\n",
            "   Melhor resultado....: 0.8190971633651503\n",
            "   Melhores parâmetros.: {'CART__criterion': 'entropy', 'CART__max_depth': 7}\n",
            "   Tempo de execução...: 31.110519647598267\n",
            "\n",
            "Modelo : NB\n",
            "   Dataset.............: OHE\n",
            "   Horário de início...: 00:39:36\n",
            "   Melhor resultado....: 0.811063031783793\n",
            "   Melhores parâmetros.: {'NB__var_smoothing': 0.01}\n",
            "   Tempo de execução...: 72.71740794181824\n",
            "\n",
            "   Dataset.............: StandardScaler_OHE\n",
            "   Horário de início...: 00:40:49\n",
            "   Melhor resultado....: 0.816316544211484\n",
            "   Melhores parâmetros.: {'NB__var_smoothing': 1.0}\n",
            "   Tempo de execução...: 72.89227795600891\n",
            "\n",
            "   Dataset.............: MinMaxScaler_OHE\n",
            "   Horário de início...: 00:42:02\n",
            "   Melhor resultado....: 0.7404323437551754\n",
            "   Melhores parâmetros.: {'NB__var_smoothing': 1.0}\n",
            "   Tempo de execução...: 72.90252780914307\n",
            "\n",
            "Modelo : LR\n",
            "   Dataset.............: OHE\n",
            "   Horário de início...: 00:43:15\n",
            "   Melhor resultado....: 0.8284563632856565\n",
            "   Melhores parâmetros.: {}\n",
            "   Tempo de execução...: 9.856178522109985\n",
            "\n",
            "   Dataset.............: StandardScaler_OHE\n",
            "   Horário de início...: 00:43:25\n",
            "   Melhor resultado....: 0.8280590122922792\n",
            "   Melhores parâmetros.: {}\n",
            "   Tempo de execução...: 9.455925226211548\n",
            "\n",
            "   Dataset.............: MinMaxScaler_OHE\n",
            "   Horário de início...: 00:43:34\n",
            "   Melhor resultado....: 0.8285888136167825\n",
            "   Melhores parâmetros.: {}\n",
            "   Tempo de execução...: 9.40638256072998\n",
            "\n",
            "Modelo : Bag_DecTree_Knn\n",
            "   Dataset.............: OHE\n",
            "   Horário de início...: 00:43:43\n",
            "   Melhor resultado....: 0.8006890807385888\n",
            "   Melhores parâmetros.: {'Bag_DecTree_Knn__base_estimator': KNeighborsClassifier(algorithm='auto', leaf_size=30, metric='minkowski',\n",
            "                     metric_params=None, n_jobs=None, n_neighbors=5, p=2,\n",
            "                     weights='uniform'), 'Bag_DecTree_Knn__n_estimators': 100}\n",
            "   Tempo de execução...: 823.5594577789307\n",
            "\n",
            "   Dataset.............: StandardScaler_OHE\n",
            "   Horário de início...: 00:57:27\n",
            "   Melhor resultado....: 0.8117692387125939\n",
            "   Melhores parâmetros.: {'Bag_DecTree_Knn__base_estimator': KNeighborsClassifier(algorithm='auto', leaf_size=30, metric='minkowski',\n",
            "                     metric_params=None, n_jobs=None, n_neighbors=5, p=2,\n",
            "                     weights='uniform'), 'Bag_DecTree_Knn__n_estimators': 100}\n",
            "   Tempo de execução...: 2504.420925140381\n",
            "\n",
            "   Dataset.............: MinMaxScaler_OHE\n",
            "   Horário de início...: 01:39:11\n",
            "   Melhor resultado....: 0.8092973196245877\n",
            "   Melhores parâmetros.: {'Bag_DecTree_Knn__base_estimator': KNeighborsClassifier(algorithm='auto', leaf_size=30, metric='minkowski',\n",
            "                     metric_params=None, n_jobs=None, n_neighbors=5, p=2,\n",
            "                     weights='uniform'), 'Bag_DecTree_Knn__n_estimators': 100}\n",
            "   Tempo de execução...: 3481.8068857192993\n",
            "\n",
            "Modelo : RanFor\n",
            "   Dataset.............: OHE\n",
            "   Horário de início...: 02:37:13\n",
            "   Melhor resultado....: 0.7953483396947679\n",
            "   Melhores parâmetros.: {'RanFor__max_features': 3, 'RanFor__n_estimators': 100}\n",
            "   Tempo de execução...: 32.06745505332947\n",
            "\n",
            "   Dataset.............: StandardScaler_OHE\n",
            "   Horário de início...: 02:37:45\n",
            "   Melhor resultado....: 0.7957455153346621\n",
            "   Melhores parâmetros.: {'RanFor__max_features': 3, 'RanFor__n_estimators': 100}\n",
            "   Tempo de execução...: 32.1746768951416\n",
            "\n",
            "   Dataset.............: MinMaxScaler_OHE\n",
            "   Horário de início...: 02:38:17\n",
            "   Melhor resultado....: 0.7961869969546946\n",
            "   Melhores parâmetros.: {'RanFor__max_features': 3, 'RanFor__n_estimators': 100}\n",
            "   Tempo de execução...: 32.1677131652832\n",
            "\n",
            "Modelo : ExtTree\n",
            "   Dataset.............: OHE\n",
            "   Horário de início...: 02:38:50\n",
            "   Melhor resultado....: 0.7838706748576227\n",
            "   Melhores parâmetros.: {'ExtTree__max_features': 3, 'ExtTree__n_estimators': 100}\n",
            "   Tempo de execução...: 37.59294605255127\n",
            "\n",
            "   Dataset.............: StandardScaler_OHE\n",
            "   Horário de início...: 02:39:27\n",
            "   Melhor resultado....: 0.783517396039739\n",
            "   Melhores parâmetros.: {'ExtTree__max_features': 3, 'ExtTree__n_estimators': 100}\n",
            "   Tempo de execução...: 37.46249532699585\n",
            "\n",
            "   Dataset.............: MinMaxScaler_OHE\n",
            "   Horário de início...: 02:40:05\n",
            "   Melhor resultado....: 0.7858569037640598\n",
            "   Melhores parâmetros.: {'ExtTree__max_features': 3, 'ExtTree__n_estimators': 100}\n",
            "   Tempo de execução...: 37.471007347106934\n",
            "\n",
            "Modelo : GradBoost\n",
            "   Dataset.............: OHE\n",
            "   Horário de início...: 02:40:42\n",
            "   Melhor resultado....: 0.8357839372312463\n",
            "   Melhores parâmetros.: {'GradBoost__n_estimators': 100}\n",
            "   Tempo de execução...: 55.52311730384827\n",
            "\n",
            "   Dataset.............: StandardScaler_OHE\n",
            "   Horário de início...: 02:41:38\n",
            "   Melhor resultado....: 0.8357839372312463\n",
            "   Melhores parâmetros.: {'GradBoost__n_estimators': 100}\n",
            "   Tempo de execução...: 55.76605725288391\n",
            "\n",
            "   Dataset.............: MinMaxScaler_OHE\n",
            "   Horário de início...: 02:42:33\n",
            "   Melhor resultado....: 0.8357839372312463\n",
            "   Melhores parâmetros.: {'GradBoost__n_estimators': 100}\n",
            "   Tempo de execução...: 55.42383623123169\n",
            "\n",
            "Fim do processo de treinamento :  02:43:29\n"
          ],
          "name": "stdout"
        }
      ]
    },
    {
      "cell_type": "code",
      "metadata": {
        "colab": {
          "base_uri": "https://localhost:8080/",
          "height": 669
        },
        "id": "zQ4YCaDdEMk3",
        "outputId": "e1491f14-908c-4ad2-9639-d4dd2cde5f39"
      },
      "source": [
        "# analisando oa vinte melhores modelos e seus metodos de pré processamento\n",
        "res_explorer.iloc[0:20,:]"
      ],
      "execution_count": null,
      "outputs": [
        {
          "output_type": "execute_result",
          "data": {
            "text/html": [
              "<div>\n",
              "<style scoped>\n",
              "    .dataframe tbody tr th:only-of-type {\n",
              "        vertical-align: middle;\n",
              "    }\n",
              "\n",
              "    .dataframe tbody tr th {\n",
              "        vertical-align: top;\n",
              "    }\n",
              "\n",
              "    .dataframe thead th {\n",
              "        text-align: right;\n",
              "    }\n",
              "</style>\n",
              "<table border=\"1\" class=\"dataframe\">\n",
              "  <thead>\n",
              "    <tr style=\"text-align: right;\">\n",
              "      <th></th>\n",
              "      <th>classificador</th>\n",
              "      <th>preprocessamento</th>\n",
              "      <th>parametros</th>\n",
              "      <th>modelo</th>\n",
              "      <th>score</th>\n",
              "      <th>cv_results</th>\n",
              "      <th>n_splits</th>\n",
              "    </tr>\n",
              "  </thead>\n",
              "  <tbody>\n",
              "    <tr>\n",
              "      <th>26</th>\n",
              "      <td>GradBoost</td>\n",
              "      <td>MinMaxScaler_OHE</td>\n",
              "      <td>{'GradBoost__n_estimators': 100}</td>\n",
              "      <td>(ColumnTransformer(n_jobs=None, remainder='dro...</td>\n",
              "      <td>0.835784</td>\n",
              "      <td>{'mean_fit_time': [4.948054409027099], 'std_fi...</td>\n",
              "      <td>10</td>\n",
              "    </tr>\n",
              "    <tr>\n",
              "      <th>25</th>\n",
              "      <td>GradBoost</td>\n",
              "      <td>StandardScaler_OHE</td>\n",
              "      <td>{'GradBoost__n_estimators': 100}</td>\n",
              "      <td>(ColumnTransformer(n_jobs=None, remainder='dro...</td>\n",
              "      <td>0.835784</td>\n",
              "      <td>{'mean_fit_time': [4.971646308898926], 'std_fi...</td>\n",
              "      <td>10</td>\n",
              "    </tr>\n",
              "    <tr>\n",
              "      <th>24</th>\n",
              "      <td>GradBoost</td>\n",
              "      <td>OHE</td>\n",
              "      <td>{'GradBoost__n_estimators': 100}</td>\n",
              "      <td>(ColumnTransformer(n_jobs=None, remainder='dro...</td>\n",
              "      <td>0.835784</td>\n",
              "      <td>{'mean_fit_time': [4.944121193885803], 'std_fi...</td>\n",
              "      <td>10</td>\n",
              "    </tr>\n",
              "    <tr>\n",
              "      <th>1</th>\n",
              "      <td>KNN</td>\n",
              "      <td>StandardScaler_OHE</td>\n",
              "      <td>{'KNN__metric': 'minkowski', 'KNN__n_neighbors...</td>\n",
              "      <td>(ColumnTransformer(n_jobs=None, remainder='dro...</td>\n",
              "      <td>0.829383</td>\n",
              "      <td>{'mean_fit_time': [0.9947780847549439, 0.96652...</td>\n",
              "      <td>10</td>\n",
              "    </tr>\n",
              "    <tr>\n",
              "      <th>14</th>\n",
              "      <td>LR</td>\n",
              "      <td>MinMaxScaler_OHE</td>\n",
              "      <td>{}</td>\n",
              "      <td>(ColumnTransformer(n_jobs=None, remainder='dro...</td>\n",
              "      <td>0.828589</td>\n",
              "      <td>{'mean_fit_time': [0.8083877086639404], 'std_f...</td>\n",
              "      <td>10</td>\n",
              "    </tr>\n",
              "    <tr>\n",
              "      <th>5</th>\n",
              "      <td>SVM</td>\n",
              "      <td>MinMaxScaler_OHE</td>\n",
              "      <td>{'SVM__C': 0.1, 'SVM__kernel': 'linear'}</td>\n",
              "      <td>(ColumnTransformer(n_jobs=None, remainder='dro...</td>\n",
              "      <td>0.828588</td>\n",
              "      <td>{'mean_fit_time': [22.753339886665344], 'std_f...</td>\n",
              "      <td>10</td>\n",
              "    </tr>\n",
              "    <tr>\n",
              "      <th>12</th>\n",
              "      <td>LR</td>\n",
              "      <td>OHE</td>\n",
              "      <td>{}</td>\n",
              "      <td>(ColumnTransformer(n_jobs=None, remainder='dro...</td>\n",
              "      <td>0.828456</td>\n",
              "      <td>{'mean_fit_time': [0.8516212701797485], 'std_f...</td>\n",
              "      <td>10</td>\n",
              "    </tr>\n",
              "    <tr>\n",
              "      <th>3</th>\n",
              "      <td>SVM</td>\n",
              "      <td>OHE</td>\n",
              "      <td>{'SVM__C': 0.1, 'SVM__kernel': 'linear'}</td>\n",
              "      <td>(ColumnTransformer(n_jobs=None, remainder='dro...</td>\n",
              "      <td>0.828368</td>\n",
              "      <td>{'mean_fit_time': [42.159564638137816], 'std_f...</td>\n",
              "      <td>10</td>\n",
              "    </tr>\n",
              "    <tr>\n",
              "      <th>4</th>\n",
              "      <td>SVM</td>\n",
              "      <td>StandardScaler_OHE</td>\n",
              "      <td>{'SVM__C': 0.1, 'SVM__kernel': 'linear'}</td>\n",
              "      <td>(ColumnTransformer(n_jobs=None, remainder='dro...</td>\n",
              "      <td>0.828324</td>\n",
              "      <td>{'mean_fit_time': [23.86302754878998], 'std_fi...</td>\n",
              "      <td>10</td>\n",
              "    </tr>\n",
              "    <tr>\n",
              "      <th>13</th>\n",
              "      <td>LR</td>\n",
              "      <td>StandardScaler_OHE</td>\n",
              "      <td>{}</td>\n",
              "      <td>(ColumnTransformer(n_jobs=None, remainder='dro...</td>\n",
              "      <td>0.828059</td>\n",
              "      <td>{'mean_fit_time': [0.8104592084884643], 'std_f...</td>\n",
              "      <td>10</td>\n",
              "    </tr>\n",
              "    <tr>\n",
              "      <th>2</th>\n",
              "      <td>KNN</td>\n",
              "      <td>MinMaxScaler_OHE</td>\n",
              "      <td>{'KNN__metric': 'minkowski', 'KNN__n_neighbors...</td>\n",
              "      <td>(ColumnTransformer(n_jobs=None, remainder='dro...</td>\n",
              "      <td>0.824086</td>\n",
              "      <td>{'mean_fit_time': [0.9981179714202881, 0.99114...</td>\n",
              "      <td>10</td>\n",
              "    </tr>\n",
              "    <tr>\n",
              "      <th>7</th>\n",
              "      <td>CART</td>\n",
              "      <td>StandardScaler_OHE</td>\n",
              "      <td>{'CART__criterion': 'entropy', 'CART__max_dept...</td>\n",
              "      <td>(ColumnTransformer(n_jobs=None, remainder='dro...</td>\n",
              "      <td>0.819141</td>\n",
              "      <td>{'mean_fit_time': [0.7181418180465698, 0.75437...</td>\n",
              "      <td>10</td>\n",
              "    </tr>\n",
              "    <tr>\n",
              "      <th>8</th>\n",
              "      <td>CART</td>\n",
              "      <td>MinMaxScaler_OHE</td>\n",
              "      <td>{'CART__criterion': 'entropy', 'CART__max_dept...</td>\n",
              "      <td>(ColumnTransformer(n_jobs=None, remainder='dro...</td>\n",
              "      <td>0.819097</td>\n",
              "      <td>{'mean_fit_time': [0.7197062015533447, 0.75253...</td>\n",
              "      <td>10</td>\n",
              "    </tr>\n",
              "    <tr>\n",
              "      <th>6</th>\n",
              "      <td>CART</td>\n",
              "      <td>OHE</td>\n",
              "      <td>{'CART__criterion': 'entropy', 'CART__max_dept...</td>\n",
              "      <td>(ColumnTransformer(n_jobs=None, remainder='dro...</td>\n",
              "      <td>0.818921</td>\n",
              "      <td>{'mean_fit_time': [0.7184571266174317, 0.75070...</td>\n",
              "      <td>10</td>\n",
              "    </tr>\n",
              "    <tr>\n",
              "      <th>10</th>\n",
              "      <td>NB</td>\n",
              "      <td>StandardScaler_OHE</td>\n",
              "      <td>{'NB__var_smoothing': 1.0}</td>\n",
              "      <td>(ColumnTransformer(n_jobs=None, remainder='dro...</td>\n",
              "      <td>0.816317</td>\n",
              "      <td>{'mean_fit_time': [0.701499056816101, 0.700570...</td>\n",
              "      <td>10</td>\n",
              "    </tr>\n",
              "    <tr>\n",
              "      <th>16</th>\n",
              "      <td>Bag_DecTree_Knn</td>\n",
              "      <td>StandardScaler_OHE</td>\n",
              "      <td>{'Bag_DecTree_Knn__base_estimator': KNeighbors...</td>\n",
              "      <td>(ColumnTransformer(n_jobs=None, remainder='dro...</td>\n",
              "      <td>0.811769</td>\n",
              "      <td>{'mean_fit_time': [11.157034063339234, 30.2681...</td>\n",
              "      <td>10</td>\n",
              "    </tr>\n",
              "    <tr>\n",
              "      <th>9</th>\n",
              "      <td>NB</td>\n",
              "      <td>OHE</td>\n",
              "      <td>{'NB__var_smoothing': 0.01}</td>\n",
              "      <td>(ColumnTransformer(n_jobs=None, remainder='dro...</td>\n",
              "      <td>0.811063</td>\n",
              "      <td>{'mean_fit_time': [0.6994611740112304, 0.69810...</td>\n",
              "      <td>10</td>\n",
              "    </tr>\n",
              "    <tr>\n",
              "      <th>17</th>\n",
              "      <td>Bag_DecTree_Knn</td>\n",
              "      <td>MinMaxScaler_OHE</td>\n",
              "      <td>{'Bag_DecTree_Knn__base_estimator': KNeighbors...</td>\n",
              "      <td>(ColumnTransformer(n_jobs=None, remainder='dro...</td>\n",
              "      <td>0.809297</td>\n",
              "      <td>{'mean_fit_time': [11.841373372077943, 35.8028...</td>\n",
              "      <td>10</td>\n",
              "    </tr>\n",
              "    <tr>\n",
              "      <th>0</th>\n",
              "      <td>KNN</td>\n",
              "      <td>OHE</td>\n",
              "      <td>{'KNN__metric': 'minkowski', 'KNN__n_neighbors...</td>\n",
              "      <td>(ColumnTransformer(n_jobs=None, remainder='dro...</td>\n",
              "      <td>0.809121</td>\n",
              "      <td>{'mean_fit_time': [0.9677993535995484, 0.96313...</td>\n",
              "      <td>10</td>\n",
              "    </tr>\n",
              "    <tr>\n",
              "      <th>15</th>\n",
              "      <td>Bag_DecTree_Knn</td>\n",
              "      <td>OHE</td>\n",
              "      <td>{'Bag_DecTree_Knn__base_estimator': KNeighbors...</td>\n",
              "      <td>(ColumnTransformer(n_jobs=None, remainder='dro...</td>\n",
              "      <td>0.800689</td>\n",
              "      <td>{'mean_fit_time': [11.101184463500976, 30.0807...</td>\n",
              "      <td>10</td>\n",
              "    </tr>\n",
              "  </tbody>\n",
              "</table>\n",
              "</div>"
            ],
            "text/plain": [
              "      classificador  ... n_splits\n",
              "26        GradBoost  ...       10\n",
              "25        GradBoost  ...       10\n",
              "24        GradBoost  ...       10\n",
              "1               KNN  ...       10\n",
              "14               LR  ...       10\n",
              "5               SVM  ...       10\n",
              "12               LR  ...       10\n",
              "3               SVM  ...       10\n",
              "4               SVM  ...       10\n",
              "13               LR  ...       10\n",
              "2               KNN  ...       10\n",
              "7              CART  ...       10\n",
              "8              CART  ...       10\n",
              "6              CART  ...       10\n",
              "10               NB  ...       10\n",
              "16  Bag_DecTree_Knn  ...       10\n",
              "9                NB  ...       10\n",
              "17  Bag_DecTree_Knn  ...       10\n",
              "0               KNN  ...       10\n",
              "15  Bag_DecTree_Knn  ...       10\n",
              "\n",
              "[20 rows x 7 columns]"
            ]
          },
          "metadata": {
            "tags": []
          },
          "execution_count": 26
        }
      ]
    },
    {
      "cell_type": "markdown",
      "metadata": {
        "id": "4hvpoylx1AxQ"
      },
      "source": [
        "Analisando os resultados do cross-validation com o Boxplot."
      ]
    },
    {
      "cell_type": "code",
      "metadata": {
        "id": "oRofNB470_eQ"
      },
      "source": [
        "# gerando o nome dos atributos que armazenam os scores do cross-validation no grid search\n",
        "splits = []\n",
        "for i in range(kfold.n_splits):\n",
        "  splits.append(f\"split{i}_test_score\")\n",
        "\n",
        "# recuperando os valores do cross-validation para o melhor conjunto de parâmetros\n",
        "results = []\n",
        "names = []\n",
        "for model_name, preprocesser, cv_result in zip(res_explorer['classificador'], res_explorer['preprocessamento'], res_explorer['cv_results']):\n",
        "  result = []\n",
        "  for i in range(kfold.n_splits):\n",
        "    result.append(cv_result[splits[i]][cv_result['rank_test_score'][0] - 1])\n",
        "  results.append(result)\n",
        "  names.append(f\"{model_name} - {preprocesser}\")"
      ],
      "execution_count": null,
      "outputs": []
    },
    {
      "cell_type": "code",
      "metadata": {
        "colab": {
          "base_uri": "https://localhost:8080/"
        },
        "id": "_FE106Z9ZFMT",
        "outputId": "6631e8e7-a499-4b41-b765-019b880858bd"
      },
      "source": [
        "# Comparação dos modelos\n",
        "fig = plt.figure(figsize=(30,10)) \n",
        "fig.suptitle('Comparação dos Modelos') \n",
        "ax = fig.add_subplot(111) \n",
        "plt.boxplot(results) \n",
        "ax.set_xticklabels(names, rotation=90) \n",
        "plt.show()"
      ],
      "execution_count": null,
      "outputs": [
        {
          "output_type": "display_data",
          "data": {
            "image/png": "[encoded data removed]",
            "text/plain": [
              "<Figure size 2160x720 with 1 Axes>"
            ]
          },
          "metadata": {
            "tags": [],
            "needs_background": "light"
          }
        }
      ]
    },
    {
      "cell_type": "markdown",
      "metadata": {
        "id": "fUo7IZ82EOBX"
      },
      "source": [
        "Analisando os melhores modelos.\n",
        "\n",
        "Os modelos que melhor performaram foram GradientBoosting, LogistRegression e SVM, que ficaram com score na faixa de 0,83. Além destes, vamos levar para a próxima fase o KNN, que aceita uma ampla variação de parâmetros e também teve um bom resultado."
      ]
    },
    {
      "cell_type": "markdown",
      "metadata": {
        "id": "olo7SPk2BvvW"
      },
      "source": [
        "### 5.2. Criação e avaliação de modelos: trabalhando com os melhores modelos do experimento inicial\n",
        "\n",
        "Após os resultados do experimento inicial, iremos realizar uma maior variação dos hiperparâmetros para os algoritmos de melhor desempenho.\n",
        "\n",
        "TERMINAR:\n",
        "\n",
        "No caso da Regressão Logística, ...\n",
        "\n",
        "No caso do KNN, iremos usar vários valores para k (número de vizinhos mais próximos) e todas as possíveis métricas de distância."
      ]
    },
    {
      "cell_type": "code",
      "metadata": {
        "id": "eLjF_kHgO2jx"
      },
      "source": [
        "# Preparando lista dos melhores modelos da fase exploratória com maior variabilidade de hiperparâmetros\n",
        "\n",
        "models_final = []\n",
        "\n",
        "# LogisticRegression\n",
        "pgl = {}\n",
        "models_final.append(('LR', LogisticRegression(solver='liblinear'), pgl))\n",
        "\n",
        "gboost_num_trees = [100, 250, 500, 750]\n",
        "# GradientBoostingClassifier\n",
        "pggb = {\n",
        "    'GradBoost__n_estimators': gboost_num_trees\n",
        "}\n",
        "models_final.append(('GradBoost', GradientBoostingClassifier(), pggb))\n",
        "\n",
        "# KNN - hiperparâmetros que serão avaliados\n",
        "k = [1,5,9,13,17,21,31,51]\n",
        "distancias = [\"minkowski\", \"euclidean\", \"manhattan\"]\n",
        "pgk = {\n",
        "    'KNN__n_neighbors': k,\n",
        "    'KNN__metric': distancias\n",
        "}\n",
        "models_final.append(('KNN', KNeighborsClassifier(), pgk))\n",
        "\n",
        "# SVM - muito lento\n",
        "c_values = [0.1, 1]  # de acordo com a documentação do scikit-learn, uma boa prática é espaçar os valores de C e gamma exponencialmente\n",
        "#gamma_values = [0.1, 1] #gamma_values = [0.1, 1.0, 10] # de acordo com a documentação do scikit-learn, uma boa prática é espaçar os valores de C e gamma exponencialmente\n",
        "kernel_values = ['linear', 'rbf']\n",
        "pgs = {\n",
        "    'SVM__C': c_values,\n",
        "    #'SVM__gamma': gamma_values,\n",
        "    'SVM__kernel': kernel_values\n",
        "}\n",
        "models_final.append(('SVM', SVC(gamma='auto'), pgs))"
      ],
      "execution_count": null,
      "outputs": []
    },
    {
      "cell_type": "code",
      "metadata": {
        "colab": {
          "base_uri": "https://localhost:8080/"
        },
        "id": "7zU_6P__sek3",
        "outputId": "87bd7d3d-7782-4a73-d765-9a31332c22ac"
      },
      "source": [
        "res_final = trainModels(models_final, preprocessamento, X_train, y_train)"
      ],
      "execution_count": null,
      "outputs": [
        {
          "output_type": "stream",
          "text": [
            "Início do processo de treinamento :  21:23:11\n",
            "Modelo : LR\n",
            "   Dataset.............: OHE\n",
            "   Horário de início...: 21:23:11\n",
            "   Melhor resultado....: 0.8284563632856565\n",
            "   Melhores parâmetros.: {}\n",
            "   Tempo de execução...: 10.851003885269165\n",
            "\n",
            "   Dataset.............: StandardScaler_OHE\n",
            "   Horário de início...: 21:23:22\n",
            "   Melhor resultado....: 0.8280590122922792\n",
            "   Melhores parâmetros.: {}\n",
            "   Tempo de execução...: 11.743170499801636\n",
            "\n",
            "   Dataset.............: MinMaxScaler_OHE\n",
            "   Horário de início...: 21:23:33\n",
            "   Melhor resultado....: 0.8285888136167825\n",
            "   Melhores parâmetros.: {}\n",
            "   Tempo de execução...: 10.142035484313965\n",
            "\n",
            "Modelo : GradBoost\n",
            "   Dataset.............: OHE\n",
            "   Horário de início...: 21:23:43\n",
            "   Melhor resultado....: 0.8359606350913493\n",
            "   Melhores parâmetros.: {'GradBoost__n_estimators': 500}\n",
            "   Tempo de execução...: 729.9494590759277\n",
            "\n",
            "   Dataset.............: StandardScaler_OHE\n",
            "   Horário de início...: 21:35:53\n",
            "   Melhor resultado....: 0.8357839372312463\n",
            "   Melhores parâmetros.: {'GradBoost__n_estimators': 100}\n",
            "   Tempo de execução...: 706.0704486370087\n",
            "\n",
            "   Dataset.............: MinMaxScaler_OHE\n",
            "   Horário de início...: 21:47:39\n",
            "   Melhor resultado....: 0.8357840541335687\n",
            "   Melhores parâmetros.: {'GradBoost__n_estimators': 500}\n",
            "   Tempo de execução...: 709.1374704837799\n",
            "\n",
            "Modelo : KNN\n",
            "   Dataset.............: OHE\n",
            "   Horário de início...: 21:59:29\n",
            "   Melhor resultado....: 0.8177736732073516\n",
            "   Melhores parâmetros.: {'KNN__metric': 'manhattan', 'KNN__n_neighbors': 51}\n",
            "   Tempo de execução...: 394.4139943122864\n",
            "\n",
            "   Dataset.............: StandardScaler_OHE\n",
            "   Horário de início...: 22:06:03\n",
            "   Melhor resultado....: 0.8316781133523884\n",
            "   Melhores parâmetros.: {'KNN__metric': 'manhattan', 'KNN__n_neighbors': 51}\n",
            "   Tempo de execução...: 1031.7383790016174\n",
            "\n",
            "   Dataset.............: MinMaxScaler_OHE\n",
            "   Horário de início...: 22:23:15\n",
            "   Melhor resultado....: 0.8270877488314639\n",
            "   Melhores parâmetros.: {'KNN__metric': 'minkowski', 'KNN__n_neighbors': 51}\n",
            "   Tempo de execução...: 1130.2383704185486\n",
            "\n",
            "Modelo : SVM\n",
            "   Dataset.............: OHE\n",
            "   Horário de início...: 22:42:05\n",
            "   Melhor resultado....: 0.828897533166163\n",
            "   Melhores parâmetros.: {'SVM__C': 1, 'SVM__kernel': 'linear'}\n",
            "   Tempo de execução...: 2421.5507876873016\n",
            "\n",
            "   Dataset.............: StandardScaler_OHE\n",
            "   Horário de início...: 23:22:27\n",
            "   Melhor resultado....: 0.8300014417953079\n",
            "   Melhores parâmetros.: {'SVM__C': 1, 'SVM__kernel': 'rbf'}\n",
            "   Tempo de execução...: 1288.5518822669983\n",
            "\n",
            "   Dataset.............: MinMaxScaler_OHE\n",
            "   Horário de início...: 23:43:55\n",
            "   Melhor resultado....: 0.829074075156503\n",
            "   Melhores parâmetros.: {'SVM__C': 1, 'SVM__kernel': 'linear'}\n",
            "   Tempo de execução...: 1300.0206711292267\n",
            "\n",
            "Fim do processo de treinamento :  00:05:35\n"
          ],
          "name": "stdout"
        }
      ]
    },
    {
      "cell_type": "code",
      "metadata": {
        "id": "nEgPdS7usywI",
        "colab": {
          "base_uri": "https://localhost:8080/",
          "height": 359
        },
        "outputId": "100226e0-17fe-4b2e-85a5-1e1a1330171d"
      },
      "source": [
        "# analisando os dez melhores modelos e seus metodos de pré processamento\n",
        "res_final.iloc[0:10,:]"
      ],
      "execution_count": null,
      "outputs": [
        {
          "output_type": "execute_result",
          "data": {
            "text/html": [
              "<div>\n",
              "<style scoped>\n",
              "    .dataframe tbody tr th:only-of-type {\n",
              "        vertical-align: middle;\n",
              "    }\n",
              "\n",
              "    .dataframe tbody tr th {\n",
              "        vertical-align: top;\n",
              "    }\n",
              "\n",
              "    .dataframe thead th {\n",
              "        text-align: right;\n",
              "    }\n",
              "</style>\n",
              "<table border=\"1\" class=\"dataframe\">\n",
              "  <thead>\n",
              "    <tr style=\"text-align: right;\">\n",
              "      <th></th>\n",
              "      <th>classificador</th>\n",
              "      <th>preprocessamento</th>\n",
              "      <th>parametros</th>\n",
              "      <th>modelo</th>\n",
              "      <th>score</th>\n",
              "      <th>cv_results</th>\n",
              "      <th>n_splits</th>\n",
              "    </tr>\n",
              "  </thead>\n",
              "  <tbody>\n",
              "    <tr>\n",
              "      <th>3</th>\n",
              "      <td>GradBoost</td>\n",
              "      <td>OHE</td>\n",
              "      <td>{'GradBoost__n_estimators': 500}</td>\n",
              "      <td>(ColumnTransformer(n_jobs=None, remainder='dro...</td>\n",
              "      <td>0.835961</td>\n",
              "      <td>{'mean_fit_time': [5.060283827781677, 11.22561...</td>\n",
              "      <td>10</td>\n",
              "    </tr>\n",
              "    <tr>\n",
              "      <th>5</th>\n",
              "      <td>GradBoost</td>\n",
              "      <td>MinMaxScaler_OHE</td>\n",
              "      <td>{'GradBoost__n_estimators': 500}</td>\n",
              "      <td>(ColumnTransformer(n_jobs=None, remainder='dro...</td>\n",
              "      <td>0.835784</td>\n",
              "      <td>{'mean_fit_time': [4.804286336898803, 10.96413...</td>\n",
              "      <td>10</td>\n",
              "    </tr>\n",
              "    <tr>\n",
              "      <th>4</th>\n",
              "      <td>GradBoost</td>\n",
              "      <td>StandardScaler_OHE</td>\n",
              "      <td>{'GradBoost__n_estimators': 100}</td>\n",
              "      <td>(ColumnTransformer(n_jobs=None, remainder='dro...</td>\n",
              "      <td>0.835784</td>\n",
              "      <td>{'mean_fit_time': [4.971692037582398, 11.34521...</td>\n",
              "      <td>10</td>\n",
              "    </tr>\n",
              "    <tr>\n",
              "      <th>7</th>\n",
              "      <td>KNN</td>\n",
              "      <td>StandardScaler_OHE</td>\n",
              "      <td>{'KNN__metric': 'manhattan', 'KNN__n_neighbors...</td>\n",
              "      <td>(ColumnTransformer(n_jobs=None, remainder='dro...</td>\n",
              "      <td>0.831678</td>\n",
              "      <td>{'mean_fit_time': [0.9692543029785157, 0.96974...</td>\n",
              "      <td>10</td>\n",
              "    </tr>\n",
              "    <tr>\n",
              "      <th>10</th>\n",
              "      <td>SVM</td>\n",
              "      <td>StandardScaler_OHE</td>\n",
              "      <td>{'SVM__C': 1, 'SVM__kernel': 'rbf'}</td>\n",
              "      <td>(ColumnTransformer(n_jobs=None, remainder='dro...</td>\n",
              "      <td>0.830001</td>\n",
              "      <td>{'mean_fit_time': [23.063216829299925, 32.9667...</td>\n",
              "      <td>10</td>\n",
              "    </tr>\n",
              "    <tr>\n",
              "      <th>11</th>\n",
              "      <td>SVM</td>\n",
              "      <td>MinMaxScaler_OHE</td>\n",
              "      <td>{'SVM__C': 1, 'SVM__kernel': 'linear'}</td>\n",
              "      <td>(ColumnTransformer(n_jobs=None, remainder='dro...</td>\n",
              "      <td>0.829074</td>\n",
              "      <td>{'mean_fit_time': [23.242392778396606, 35.8766...</td>\n",
              "      <td>10</td>\n",
              "    </tr>\n",
              "    <tr>\n",
              "      <th>9</th>\n",
              "      <td>SVM</td>\n",
              "      <td>OHE</td>\n",
              "      <td>{'SVM__C': 1, 'SVM__kernel': 'linear'}</td>\n",
              "      <td>(ColumnTransformer(n_jobs=None, remainder='dro...</td>\n",
              "      <td>0.828898</td>\n",
              "      <td>{'mean_fit_time': [40.82587456703186, 35.82396...</td>\n",
              "      <td>10</td>\n",
              "    </tr>\n",
              "    <tr>\n",
              "      <th>2</th>\n",
              "      <td>LR</td>\n",
              "      <td>MinMaxScaler_OHE</td>\n",
              "      <td>{}</td>\n",
              "      <td>(ColumnTransformer(n_jobs=None, remainder='dro...</td>\n",
              "      <td>0.828589</td>\n",
              "      <td>{'mean_fit_time': [0.8789040803909302], 'std_f...</td>\n",
              "      <td>10</td>\n",
              "    </tr>\n",
              "    <tr>\n",
              "      <th>0</th>\n",
              "      <td>LR</td>\n",
              "      <td>OHE</td>\n",
              "      <td>{}</td>\n",
              "      <td>(ColumnTransformer(n_jobs=None, remainder='dro...</td>\n",
              "      <td>0.828456</td>\n",
              "      <td>{'mean_fit_time': [0.9498352766036987], 'std_f...</td>\n",
              "      <td>10</td>\n",
              "    </tr>\n",
              "    <tr>\n",
              "      <th>1</th>\n",
              "      <td>LR</td>\n",
              "      <td>StandardScaler_OHE</td>\n",
              "      <td>{}</td>\n",
              "      <td>(ColumnTransformer(n_jobs=None, remainder='dro...</td>\n",
              "      <td>0.828059</td>\n",
              "      <td>{'mean_fit_time': [1.0352850198745727], 'std_f...</td>\n",
              "      <td>10</td>\n",
              "    </tr>\n",
              "  </tbody>\n",
              "</table>\n",
              "</div>"
            ],
            "text/plain": [
              "   classificador  ... n_splits\n",
              "3      GradBoost  ...       10\n",
              "5      GradBoost  ...       10\n",
              "4      GradBoost  ...       10\n",
              "7            KNN  ...       10\n",
              "10           SVM  ...       10\n",
              "11           SVM  ...       10\n",
              "9            SVM  ...       10\n",
              "2             LR  ...       10\n",
              "0             LR  ...       10\n",
              "1             LR  ...       10\n",
              "\n",
              "[10 rows x 7 columns]"
            ]
          },
          "metadata": {
            "tags": []
          },
          "execution_count": 21
        }
      ]
    },
    {
      "cell_type": "markdown",
      "metadata": {
        "id": "7S2bdsmF66QP"
      },
      "source": [
        "Analisando os resultandos com Boxplot"
      ]
    },
    {
      "cell_type": "code",
      "metadata": {
        "id": "_AhEDv_965l3"
      },
      "source": [
        "# gerando o nome dos atributos que armazenam os scores do cross-validation no grid search\n",
        "splits = []\n",
        "for i in range(kfold.n_splits):\n",
        "  splits.append(f\"split{i}_test_score\")\n",
        "\n",
        "# recuperando os valores do cross-validation para o melhor conjunto de parâmetros\n",
        "results = []\n",
        "names = []\n",
        "for model_name, preprocesser, cv_result in zip(res_final['classificador'], res_final['preprocessamento'], res_final['cv_results']):\n",
        "  result = []\n",
        "  for i in range(kfold.n_splits):\n",
        "    result.append(cv_result[splits[i]][cv_result['rank_test_score'][0] - 1])\n",
        "  results.append(result)\n",
        "  names.append(f\"{model_name} - {preprocesser}\")"
      ],
      "execution_count": null,
      "outputs": []
    },
    {
      "cell_type": "code",
      "metadata": {
        "id": "vZ_Zdd6V6_mg",
        "colab": {
          "base_uri": "https://localhost:8080/",
          "height": 819
        },
        "outputId": "b08b29db-57ec-4fc8-a2aa-c429df3d803b"
      },
      "source": [
        "# Comparação dos modelos\n",
        "fig = plt.figure(figsize=(30,10)) \n",
        "fig.suptitle('Comparação dos Modelos') \n",
        "ax = fig.add_subplot(111) \n",
        "plt.boxplot(results) \n",
        "ax.set_xticklabels(names, rotation=90) \n",
        "plt.show()"
      ],
      "execution_count": null,
      "outputs": [
        {
          "output_type": "display_data",
          "data": {
            "image/png": "[encoded data removed]",
            "text/plain": [
              "<Figure size 2160x720 with 1 Axes>"
            ]
          },
          "metadata": {
            "tags": [],
            "needs_background": "light"
          }
        }
      ]
    },
    {
      "cell_type": "code",
      "metadata": {
        "id": "_wHqOxWzspUe"
      },
      "source": [
        "#detalhamento do LogisticRegression\n",
        "lr_models = []\n",
        "\n",
        "pglr_liblinear = {'LR_liblinear__penalty': ['l1', 'l2'],\n",
        "                  'LR_liblinear__max_iter': [100, 500, 1000]}\n",
        "\n",
        "lr_models.append(('LR_liblinear', LogisticRegression(solver='liblinear'), pglr_liblinear))\n",
        "\n",
        "pglr_saga = {'LR_saga__penalty': ['elasticnet'],\n",
        "             'LR_saga__max_iter': [100, 500, 1000],\n",
        "             'LR_saga__l1_ratio': [0,   # igual a l2\n",
        "                                   0.5, # combinação de l1 e l2\n",
        "                                   1]}  # igual a l1}\n",
        "\n",
        "lr_models.append(('LR_saga', LogisticRegression(solver='saga'), pglr_saga))"
      ],
      "execution_count": null,
      "outputs": []
    },
    {
      "cell_type": "code",
      "metadata": {
        "colab": {
          "base_uri": "https://localhost:8080/"
        },
        "id": "2MqBEwHKunQW",
        "outputId": "1e451d12-ed50-4db7-984f-8fd528c466f2"
      },
      "source": [
        "res_lr_models = trainModels(lr_models, preprocessamento, X_train, y_train)"
      ],
      "execution_count": null,
      "outputs": [
        {
          "output_type": "stream",
          "text": [
            "Início do processo de treinamento :  10:35:04\n",
            "Modelo : LR_liblinear\n",
            "   Dataset.............: OHE\n",
            "   Horário de início...: 10:35:04\n",
            "   Melhor resultado....: 0.8284563632856565\n",
            "   Melhores parâmetros.: {'LR_liblinear__max_iter': 100, 'LR_liblinear__penalty': 'l2'}\n",
            "   Tempo de execução...: 75.9683485031128\n",
            "\n",
            "   Dataset.............: StandardScaler_OHE\n",
            "   Horário de início...: 10:36:20\n",
            "   Melhor resultado....: 0.828103298788697\n",
            "   Melhores parâmetros.: {'LR_liblinear__max_iter': 100, 'LR_liblinear__penalty': 'l1'}\n",
            "   Tempo de execução...: 75.38249349594116\n",
            "\n",
            "   Dataset.............: MinMaxScaler_OHE\n",
            "   Horário de início...: 10:37:36\n",
            "   Melhor resultado....: 0.8285888136167825\n",
            "   Melhores parâmetros.: {'LR_liblinear__max_iter': 100, 'LR_liblinear__penalty': 'l2'}\n",
            "   Tempo de execução...: 82.72725200653076\n",
            "\n",
            "Modelo : LR_saga\n",
            "   Dataset.............: OHE\n",
            "   Horário de início...: 10:38:58\n",
            "   Melhor resultado....: 0.8294275098441497\n",
            "   Melhores parâmetros.: {'LR_saga__l1_ratio': 0, 'LR_saga__max_iter': 500, 'LR_saga__penalty': 'elasticnet'}\n",
            "   Tempo de execução...: 1218.4531767368317\n",
            "\n",
            "   Dataset.............: StandardScaler_OHE\n",
            "   Horário de início...: 10:59:17\n",
            "   Melhor resultado....: 0.8281473709641908\n",
            "   Melhores parâmetros.: {'LR_saga__l1_ratio': 0, 'LR_saga__max_iter': 100, 'LR_saga__penalty': 'elasticnet'}\n",
            "   Tempo de execução...: 284.00585746765137\n",
            "\n",
            "   Dataset.............: MinMaxScaler_OHE\n",
            "   Horário de início...: 11:04:01\n",
            "   Melhor resultado....: 0.8285446829901275\n",
            "   Melhores parâmetros.: {'LR_saga__l1_ratio': 0, 'LR_saga__max_iter': 1000, 'LR_saga__penalty': 'elasticnet'}\n",
            "   Tempo de execução...: 129.74189686775208\n",
            "\n",
            "Fim do processo de treinamento :  11:06:11\n"
          ],
          "name": "stdout"
        }
      ]
    },
    {
      "cell_type": "code",
      "metadata": {
        "colab": {
          "base_uri": "https://localhost:8080/",
          "height": 235
        },
        "id": "Phq3Jksr7DDQ",
        "outputId": "f71b39ae-2fcb-4595-c909-55ee6c8d9391"
      },
      "source": [
        "res_lr_models.iloc[0:10,:]"
      ],
      "execution_count": null,
      "outputs": [
        {
          "output_type": "execute_result",
          "data": {
            "text/html": [
              "<div>\n",
              "<style scoped>\n",
              "    .dataframe tbody tr th:only-of-type {\n",
              "        vertical-align: middle;\n",
              "    }\n",
              "\n",
              "    .dataframe tbody tr th {\n",
              "        vertical-align: top;\n",
              "    }\n",
              "\n",
              "    .dataframe thead th {\n",
              "        text-align: right;\n",
              "    }\n",
              "</style>\n",
              "<table border=\"1\" class=\"dataframe\">\n",
              "  <thead>\n",
              "    <tr style=\"text-align: right;\">\n",
              "      <th></th>\n",
              "      <th>classificador</th>\n",
              "      <th>preprocessamento</th>\n",
              "      <th>parametros</th>\n",
              "      <th>modelo</th>\n",
              "      <th>score</th>\n",
              "      <th>cv_results</th>\n",
              "      <th>n_splits</th>\n",
              "    </tr>\n",
              "  </thead>\n",
              "  <tbody>\n",
              "    <tr>\n",
              "      <th>3</th>\n",
              "      <td>LR_saga</td>\n",
              "      <td>OHE</td>\n",
              "      <td>{'LR_saga__l1_ratio': 0, 'LR_saga__max_iter': ...</td>\n",
              "      <td>(ColumnTransformer(n_jobs=None, remainder='dro...</td>\n",
              "      <td>0.829428</td>\n",
              "      <td>{'mean_fit_time': [2.484603476524353, 9.899328...</td>\n",
              "      <td>10</td>\n",
              "    </tr>\n",
              "    <tr>\n",
              "      <th>2</th>\n",
              "      <td>LR_liblinear</td>\n",
              "      <td>MinMaxScaler_OHE</td>\n",
              "      <td>{'LR_liblinear__max_iter': 100, 'LR_liblinear_...</td>\n",
              "      <td>(ColumnTransformer(n_jobs=None, remainder='dro...</td>\n",
              "      <td>0.828589</td>\n",
              "      <td>{'mean_fit_time': [1.8716732501983642, 0.80218...</td>\n",
              "      <td>10</td>\n",
              "    </tr>\n",
              "    <tr>\n",
              "      <th>5</th>\n",
              "      <td>LR_saga</td>\n",
              "      <td>MinMaxScaler_OHE</td>\n",
              "      <td>{'LR_saga__l1_ratio': 0, 'LR_saga__max_iter': ...</td>\n",
              "      <td>(ColumnTransformer(n_jobs=None, remainder='dro...</td>\n",
              "      <td>0.828545</td>\n",
              "      <td>{'mean_fit_time': [1.2373758792877196, 1.22300...</td>\n",
              "      <td>10</td>\n",
              "    </tr>\n",
              "    <tr>\n",
              "      <th>0</th>\n",
              "      <td>LR_liblinear</td>\n",
              "      <td>OHE</td>\n",
              "      <td>{'LR_liblinear__max_iter': 100, 'LR_liblinear_...</td>\n",
              "      <td>(ColumnTransformer(n_jobs=None, remainder='dro...</td>\n",
              "      <td>0.828456</td>\n",
              "      <td>{'mean_fit_time': [1.5513430118560791, 0.82781...</td>\n",
              "      <td>10</td>\n",
              "    </tr>\n",
              "    <tr>\n",
              "      <th>4</th>\n",
              "      <td>LR_saga</td>\n",
              "      <td>StandardScaler_OHE</td>\n",
              "      <td>{'LR_saga__l1_ratio': 0, 'LR_saga__max_iter': ...</td>\n",
              "      <td>(ColumnTransformer(n_jobs=None, remainder='dro...</td>\n",
              "      <td>0.828147</td>\n",
              "      <td>{'mean_fit_time': [2.3461498737335207, 2.35735...</td>\n",
              "      <td>10</td>\n",
              "    </tr>\n",
              "    <tr>\n",
              "      <th>1</th>\n",
              "      <td>LR_liblinear</td>\n",
              "      <td>StandardScaler_OHE</td>\n",
              "      <td>{'LR_liblinear__max_iter': 100, 'LR_liblinear_...</td>\n",
              "      <td>(ColumnTransformer(n_jobs=None, remainder='dro...</td>\n",
              "      <td>0.828103</td>\n",
              "      <td>{'mean_fit_time': [1.624411416053772, 0.804432...</td>\n",
              "      <td>10</td>\n",
              "    </tr>\n",
              "  </tbody>\n",
              "</table>\n",
              "</div>"
            ],
            "text/plain": [
              "  classificador  ... n_splits\n",
              "3       LR_saga  ...       10\n",
              "2  LR_liblinear  ...       10\n",
              "5       LR_saga  ...       10\n",
              "0  LR_liblinear  ...       10\n",
              "4       LR_saga  ...       10\n",
              "1  LR_liblinear  ...       10\n",
              "\n",
              "[6 rows x 7 columns]"
            ]
          },
          "metadata": {
            "tags": []
          },
          "execution_count": 38
        }
      ]
    },
    {
      "cell_type": "code",
      "metadata": {
        "id": "VkwmrhNkuxRF"
      },
      "source": [
        "# gerando o nome dos atributos que armazenam os scores do cross-validation no grid search\n",
        "splits = []\n",
        "for i in range(kfold.n_splits):\n",
        "  splits.append(f\"split{i}_test_score\")\n",
        "\n",
        "# recuperando os valores do cross-validation para o melhor conjunto de parâmetros\n",
        "results = []\n",
        "names = []\n",
        "for model_name, preprocesser, cv_result in zip(res_lr_models['classificador'], res_lr_models['preprocessamento'], res_lr_models['cv_results']):\n",
        "  result = []\n",
        "  for i in range(kfold.n_splits):\n",
        "    result.append(cv_result[splits[i]][cv_result['rank_test_score'][0] - 1])\n",
        "  results.append(result)\n",
        "  names.append(f\"{model_name} - {preprocesser}\")"
      ],
      "execution_count": null,
      "outputs": []
    },
    {
      "cell_type": "code",
      "metadata": {
        "colab": {
          "base_uri": "https://localhost:8080/",
          "height": 824
        },
        "id": "usg2BU95u60w",
        "outputId": "ee9870b2-1d75-4d65-cd34-c5660f0a4f98"
      },
      "source": [
        "# Comparação dos modelos\n",
        "fig = plt.figure(figsize=(30,10)) \n",
        "fig.suptitle('Comparação dos Modelos') \n",
        "ax = fig.add_subplot(111) \n",
        "plt.boxplot(results) \n",
        "ax.set_xticklabels(names, rotation=90) \n",
        "plt.show()"
      ],
      "execution_count": null,
      "outputs": [
        {
          "output_type": "display_data",
          "data": {
            "image/png": "[encoded data removed]",
            "text/plain": [
              "<Figure size 2160x720 with 1 Axes>"
            ]
          },
          "metadata": {
            "tags": [],
            "needs_background": "light"
          }
        }
      ]
    },
    {
      "cell_type": "markdown",
      "metadata": {
        "id": "QHm8TApl4Y2y"
      },
      "source": [
        "Os resultados mostram que:\n",
        "\n",
        "EXEMPLOS:\n",
        "\n",
        "a melhor configuração encontrada utiliza distância de manhattan e k = 17. Isto significa que o algoritmo fará previsões usando as 17 instâncias mais semelhantes.\n",
        "\n",
        "Podemos ver que a configuração que alcançou a maior acurácia foi o modelo que utilizou kernel linear e C = 0,1. Esta acurácia é a mais alta que conseguimos até o momento."
      ]
    },
    {
      "cell_type": "markdown",
      "metadata": {
        "id": "f-f2vCU5CMmp"
      },
      "source": [
        "### 5.3. Ajuste dos Modelos"
      ]
    },
    {
      "cell_type": "markdown",
      "metadata": {
        "id": "EwaWY9UuxNpA"
      },
      "source": [
        "#### Ajuste do KNN"
      ]
    },
    {
      "cell_type": "markdown",
      "metadata": {
        "id": "3vSn0trh9V6E"
      },
      "source": [
        "Vamos começar ajustando parâmetros como o número de vizinhos e as métricas de distância para o KNN. Para tal, tentaremos todos os valores ímpares de k entre 1 a 21 e as métricas de distância euclidiana, manhattan e minkowski. Usando o pipeline, cada valor de k e de distância será avaliado usando a validação cruzada 10-fold no conjunto de dados padronizado, que mostrou melhores resultados do que os dados originais."
      ]
    },
    {
      "cell_type": "code",
      "metadata": {
        "id": "PwI7Cxc-CZdJ"
      },
      "source": [
        "np.random.seed(7) # definindo uma semente global\n",
        "\n",
        "# https://scikit-learn.org/stable/tutorial/statistical_inference/putting_together.html\n",
        "\n",
        "# Tuning do KNN\n",
        "\n",
        "kfold = KFold(n_splits=num_folds)\n",
        "\n",
        "pipeline = Pipeline(steps=[('Scaler', StandardScaler()), ('knn', KNeighborsClassifier())])\n",
        "\n",
        "# Parameters of pipelines can be set using ‘__’ separated parameter names:\n",
        "param_grid = {\n",
        "    'knn__n_neighbors': [1,3,5,7,9,11,13,15,17,19,21],\n",
        "    'knn__metric': [\"euclidean\", \"manhattan\", \"minkowski\"],\n",
        "}\n",
        "\n",
        "grid = GridSearchCV(estimator=pipeline, param_grid=param_grid, scoring=scoring, cv=kfold)\n",
        "\n",
        "grid.fit(X_train, Y_train)\n",
        "\n",
        "print(\"Melhor: %f usando %s\" % (grid.best_score_, grid.best_params_)) \n",
        "\n",
        "means = grid.cv_results_['mean_test_score']\n",
        "stds = grid.cv_results_['std_test_score']\n",
        "params = grid.cv_results_['params']\n",
        "for mean, stdev, param in zip(means, stds, params):\n",
        "    print(\"%f (%f): %r\" % (mean, stdev, param))"
      ],
      "execution_count": null,
      "outputs": []
    },
    {
      "cell_type": "markdown",
      "metadata": {
        "id": "RPXRycKOCikN"
      },
      "source": [
        "Os resultados mostram que a melhor configuração encontrada utiliza distância de manhattan e k = 17. Isto significa que o algoritmo fará previsões usando as 17 instâncias mais semelhantes."
      ]
    },
    {
      "cell_type": "markdown",
      "metadata": {
        "id": "JFhy-staCmo8"
      },
      "source": [
        "#### Ajuste do SVM\n",
        "Iremos ajustar dois dos principais hiperparâmetros do algoritmo SVM: o valor de C (o quanto flexibilizar a margem) e o tipo de kernel utilizado. No Scikit-Learn, o padrão para o algoritmo SVM (implementado pela classe SVC) é usar o kernel da Função Base Radial (RBF) e o valor C definido como 1.0. \n",
        "\n",
        "Iremos testar outros valores para estes hiperparâmetros, e cada combinação de valores será avaliada usando a função GridSearchCV, como fizemos anteriormente para o KNN."
      ]
    },
    {
      "cell_type": "code",
      "metadata": {
        "id": "4YvUNoSECsAP"
      },
      "source": [
        "np.random.seed(7) # definindo uma semente global\n",
        "\n",
        "# Tuning do SVM\n",
        "\n",
        "kfold = KFold(n_splits=num_folds)\n",
        "\n",
        "pipeline = Pipeline(steps=[('Scaler', StandardScaler()), ('svc', SVC(gamma='auto'))])\n",
        "\n",
        "# Parameters of pipelines can be set using ‘__’ separated parameter names:\n",
        "param_grid = {\n",
        "    'svc__C': [0.1, 0.3, 0.5, 0.7, 0.9, 1.0, 1.3, 1.5, 1.7, 2.0],\n",
        "    'svc__kernel': ['linear', 'poly', 'rbf', 'sigmoid']\n",
        "}\n",
        "\n",
        "grid = GridSearchCV(estimator=pipeline, param_grid=param_grid, scoring=scoring, cv=kfold)\n",
        "grid_result = grid.fit(X_train, Y_train)\n",
        "print(\"Melhor: %f usando %s\" % (grid_result.best_score_, grid_result.best_params_)) \n",
        "\n",
        "means = grid_result.cv_results_['mean_test_score']\n",
        "stds = grid_result.cv_results_['std_test_score']\n",
        "params = grid_result.cv_results_['params']\n",
        "for mean, stdev, param in zip(means, stds, params):\n",
        "  print(\"%f (%f): %r\" % (mean, stdev, param))"
      ],
      "execution_count": null,
      "outputs": []
    },
    {
      "cell_type": "markdown",
      "metadata": {
        "id": "ZvxU3-Zb8pPH"
      },
      "source": [
        "Podemos ver que a configuração que alcançou a maior acurácia foi o modelo que utilizou kernel linear e C = 0,1. Esta acurácia é a mais alta que conseguimos até o momento."
      ]
    },
    {
      "cell_type": "markdown",
      "metadata": {
        "id": "yU9iNMzIC2ac"
      },
      "source": [
        "## 6. Métodos Ensemble"
      ]
    },
    {
      "cell_type": "markdown",
      "metadata": {
        "id": "our40Y5t9gms"
      },
      "source": [
        "Outra maneira de melhorar o desempenho dos algoritmos é usar métodos de ensemble. Avaliaremos quatro modelos diferentes, sendo dois métodos de Boosting e dois de Bagging:\n",
        "* Métodos de Boosting: AdaBoost (AB) e Gradient Boosting (GBM).\n",
        "* Métodos de Bagging: Random Forests (RF) e Extra Trees (ET).\n",
        "\n",
        "Usaremos novamente a validação cruzada 10-fold. Nenhuma padronização de dados será usada neste caso porque todos os quatro algoritmos de conjunto são baseados em árvores de decisão, que são modelos menos sensíveis às distribuições de dados."
      ]
    },
    {
      "cell_type": "code",
      "metadata": {
        "id": "83D_EEm7DETB"
      },
      "source": [
        "np.random.seed(7) # definindo uma semente global\n",
        "\n",
        "# Ensembles\n",
        "\n",
        "ensembles = []\n",
        "\n",
        "ensembles.append(('AB', AdaBoostClassifier())) \n",
        "ensembles.append(('GBM', GradientBoostingClassifier())) \n",
        "ensembles.append(('RF', RandomForestClassifier(n_estimators=10))) \n",
        "ensembles.append(('ET', ExtraTreesClassifier(n_estimators=10))) \n",
        "results = []\n",
        "names = []\n",
        "for name, model in ensembles:\n",
        "  kfold = KFold(n_splits=num_folds)\n",
        "  cv_results = cross_val_score(model, X_train, Y_train, cv=kfold, scoring=scoring)\n",
        "  results.append(cv_results)\n",
        "  names.append(name)\n",
        "  msg = \"%s: %f (%f)\" % (name, cv_results.mean(), cv_results.std())\n",
        "  print(msg)"
      ],
      "execution_count": null,
      "outputs": []
    },
    {
      "cell_type": "markdown",
      "metadata": {
        "id": "SqGPumb7DJw3"
      },
      "source": [
        "Vamos comparar os resultados graficamente:"
      ]
    },
    {
      "cell_type": "code",
      "metadata": {
        "id": "n5dsrOLwDJ26"
      },
      "source": [
        "# Comparação de modelos\n",
        "fig = plt.figure()\n",
        "fig.suptitle('Comparação de modelos Ensemble') \n",
        "ax = fig.add_subplot(111) \n",
        "plt.boxplot(results) \n",
        "ax.set_xticklabels(names)\n",
        "plt.show()"
      ],
      "execution_count": null,
      "outputs": []
    },
    {
      "cell_type": "markdown",
      "metadata": {
        "id": "n9hQXKXWDPTG"
      },
      "source": [
        "Os resultados sugerem que o GBM e o ET são provavelmente, os melhores modelos, podendo ser ainda aprimorados com variações de parâmetros. Experimente variar, como exercício, para verificar se é possível encontrar uma configuração de modelo que supere os resultados do SVM.\n",
        "\n",
        "Vamos experimentar os mesmos ensembles, com os dados padronizados, e veremos que o resultado será muito similar aos dados não-padronizados."
      ]
    },
    {
      "cell_type": "code",
      "metadata": {
        "id": "iAPJspZbAiPP"
      },
      "source": [
        "np.random.seed(7) # definindo uma semente global\n",
        "\n",
        "# Padronização do dataset\n",
        "pipelines = []\n",
        "pipelines.append(('ScaledAB', Pipeline([('Scaler', StandardScaler()),('AB', AdaBoostClassifier())]))) \n",
        "pipelines.append(('ScaledGBM', Pipeline([('Scaler', StandardScaler()),('GBM', GradientBoostingClassifier())])))\n",
        "pipelines.append(('ScaledRF', Pipeline([('Scaler', StandardScaler()),('RF', RandomForestClassifier(n_estimators=10))])))\n",
        "pipelines.append(('ScaledET', Pipeline([('Scaler', StandardScaler()),('ET', ExtraTreesClassifier(n_estimators=10))])))\n",
        "results = []\n",
        "names = []\n",
        "for name, model in pipelines:\n",
        "  kfold = KFold(n_splits=num_folds)\n",
        "  cv_results = cross_val_score(model, X_train, Y_train, cv=kfold, scoring=scoring)\n",
        "  results.append(cv_results)\n",
        "  names.append(name)\n",
        "  msg = \"%s: %f (%f)\" % (name, cv_results.mean(), cv_results.std())\n",
        "  print(msg)"
      ],
      "execution_count": null,
      "outputs": []
    },
    {
      "cell_type": "markdown",
      "metadata": {
        "id": "cuUpaYcwDRDt"
      },
      "source": [
        "## 7. Finalização do Modelo"
      ]
    },
    {
      "cell_type": "markdown",
      "metadata": {
        "id": "K-il0uhS84DW"
      },
      "source": [
        "Até aqui, verificamos que o SVM com kernel linear e C = 0,1 foi o modelo que mostrou melhor acurácia para o problema. A seguir, finalizaremos este modelo, treinando-o em todo o conjunto de dados de treinamento (sem validação cruzada) e faremos predições para o conjunto de dados de teste que foi separado logo no início do exemplo, a fim de confirmarmos nossas descobertas.\n",
        "\n",
        "Primeiro, iremos realizar a padronização dos dados de entrada. Depois, exibiremos a acurácia e a matriz de confusão:"
      ]
    },
    {
      "cell_type": "code",
      "metadata": {
        "id": "lbrFxAbSDVIj"
      },
      "source": [
        "# Preparação do modelo\n",
        "scaler = StandardScaler().fit(X_train)\n",
        "rescaledX = scaler.transform(X_train)\n",
        "model = SVC(C=0.1, kernel='linear')\n",
        "model.fit(rescaledX, Y_train)\n",
        "\n",
        "# Estimativa da acurácia no conjunto de teste\n",
        "rescaledTestX = scaler.transform(X_test)\n",
        "predictions = model.predict(rescaledTestX)\n",
        "print(accuracy_score(Y_test, predictions))\n",
        "print(confusion_matrix(Y_test, predictions))\n",
        "print(classification_report(Y_test, predictions))"
      ],
      "execution_count": null,
      "outputs": []
    },
    {
      "cell_type": "markdown",
      "metadata": {
        "id": "7W7I4j7hDZyE"
      },
      "source": [
        "Por meio do conjunto de teste, verificamos que alcançamos uma acurácia de 79,22% em dados não vistos. Este resultado foi ainda melhor do que as nossas expectativas, pois durante o ajuste do SVM obtivemos uma acurácia estimada de 78,00%. Valores semelhantes são esperados quando este modelo estiver executando em produção e fazendo predições para novos dados.\n",
        "\n",
        "Vamos agora preparar o modelo para utilização. Para isso, vamos treiná-lo com todo o dataset, e não apenas o conjunto de treino."
      ]
    },
    {
      "cell_type": "code",
      "metadata": {
        "id": "iGeQHmeg4ziu"
      },
      "source": [
        "# Preparação do modelo com TODO o dataset (e não apenas a base de treino)\n",
        "scaler = StandardScaler().fit(X)\n",
        "rescaledX = scaler.transform(X)\n",
        "model = SVC(C=0.1, kernel='linear')\n",
        "model.fit(rescaledX, Y)"
      ],
      "execution_count": null,
      "outputs": []
    },
    {
      "cell_type": "markdown",
      "metadata": {
        "id": "xZ-FQWZj_OtQ"
      },
      "source": [
        "## 8. Aplicando o modelo em dados não vistos"
      ]
    },
    {
      "cell_type": "markdown",
      "metadata": {
        "id": "3ORA5V8f53l_"
      },
      "source": [
        "Agora imagine que chegaram 3 novas instâncias, mas não sabemos a classe de saída. Podemos então aplicar nosso modelo recém-treinado para estimar as classes! Para tal, será necessário antes padronizar os dados (usando a mesma escala dos dados usados treinamento do modelo!)."
      ]
    },
    {
      "cell_type": "code",
      "metadata": {
        "id": "JAIp6d9w5QG8"
      },
      "source": [
        "# Novos dados - não sabemos a classe!\n",
        "data = {'preg':  [1, 9, 5],\n",
        "        'plas': [90, 100, 110],\n",
        "        'pres': [50, 60, 50],\n",
        "        'skin': [30, 30, 30],\n",
        "        'test': [100, 100, 100],\n",
        "        'mass': [20.0, 30.0, 40.0],\n",
        "        'pedi': [1.0, 2.0, 1.0],\n",
        "        'age': [15, 40, 40],  \n",
        "        }\n",
        "\n",
        "atributos = ['preg', 'plas', 'pres', 'skin', 'test', 'mass', 'pedi', 'age']\n",
        "entrada = pd.DataFrame(data, columns=atributos)\n",
        "\n",
        "array_entrada = entrada.values\n",
        "X_entrada = array_entrada[:,0:8].astype(float)\n",
        "print(X_entrada)"
      ],
      "execution_count": null,
      "outputs": []
    },
    {
      "cell_type": "code",
      "metadata": {
        "id": "hKMSt3P05Qoh"
      },
      "source": [
        "# Padronização nos dados de entrada\n",
        "rescaledEntradaX = scaler.transform(X_entrada)\n",
        "print(rescaledEntradaX)"
      ],
      "execution_count": null,
      "outputs": []
    },
    {
      "cell_type": "code",
      "metadata": {
        "id": "nQf_VFWy5Qsm"
      },
      "source": [
        "# Estimativa de classes dos dados de entrada\n",
        "saidas = model.predict(rescaledEntradaX)\n",
        "print(saidas)"
      ],
      "execution_count": null,
      "outputs": []
    },
    {
      "cell_type": "markdown",
      "metadata": {
        "id": "REo1UJQZLuFV"
      },
      "source": [
        "## 9. Pré-processamento de dados: Tratamento de Missings"
      ]
    },
    {
      "cell_type": "markdown",
      "metadata": {
        "id": "KhAz17RD6YP4"
      },
      "source": [
        "Vamos ver como seria o fluxo se quiséssemos tratar os missings do nosso dataset, o que ocorreria na etapa 4 - Pré-processamento de dados, e continuar o fluxo a partir daí."
      ]
    },
    {
      "cell_type": "code",
      "metadata": {
        "id": "-Utzu_kmLwWi"
      },
      "source": [
        "# verificando nulls no dataset\n",
        "dataset.isnull().sum()"
      ],
      "execution_count": null,
      "outputs": []
    },
    {
      "cell_type": "code",
      "metadata": {
        "id": "iUJ5YgRWLzjf"
      },
      "source": [
        "# salvando um novo dataset para tratamento de missings\n",
        "\n",
        "# recuperando os nomes das colunas\n",
        "col = list(dataset.columns)\n",
        "\n",
        "# o novo dataset irá conter todas as colunas com exceção da última (classe)\n",
        "atributos = dataset[col[0:-1]]\n",
        "\n",
        "# substituindo os zeros por NaN\n",
        "atributos.replace(0, np.nan, inplace=True)\n",
        "\n",
        "# exibindo visualização matricial da nulidade do dataset\n",
        "ms.matrix(atributos)"
      ],
      "execution_count": null,
      "outputs": []
    },
    {
      "cell_type": "code",
      "metadata": {
        "id": "7JdS5PS3MFNo"
      },
      "source": [
        "# removendo as colunas 'skin' e 'test'\n",
        "atributos.drop(['skin', 'test'], axis=1, inplace= True)\n",
        "\n",
        "# exibindo visualização matricial da nulidade do dataset\n",
        "ms.matrix(atributos)"
      ],
      "execution_count": null,
      "outputs": []
    },
    {
      "cell_type": "code",
      "metadata": {
        "id": "HlPUeOrwMJs6"
      },
      "source": [
        "# substituindo os NaN de 'preg' por 0\n",
        "atributos['preg'].fillna(0, inplace=True)\n",
        "\n",
        "# substituindo os NaN de 'plas', 'pres'e 'mass' pela mediana da coluna\n",
        "atributos['plas'].fillna(atributos['plas'].median(), inplace=True)\n",
        "atributos['pres'].fillna(atributos['pres'].median(), inplace=True)\n",
        "atributos['mass'].fillna(atributos['mass'].median(), inplace=True)\n",
        "\n",
        "# exibindo visualização matricial da nulidade do dataset\n",
        "ms.matrix(atributos)"
      ],
      "execution_count": null,
      "outputs": []
    },
    {
      "cell_type": "code",
      "metadata": {
        "id": "rvWWeIrOMdkV"
      },
      "source": [
        "# Guardando o novo dataset para testes futuros\n",
        "datasetSemMissings = atributos\n",
        "\n",
        "# incluindo a coluna 'class' no novo dataset\n",
        "datasetSemMissings['class'] = dataset['class']\n",
        "\n",
        "# exibindo as primeiras linhas\n",
        "datasetSemMissings.head()"
      ],
      "execution_count": null,
      "outputs": []
    },
    {
      "cell_type": "markdown",
      "metadata": {
        "id": "ErmL_j9RfoC9"
      },
      "source": [
        "## 10. Modelagem com Dados Padronizados e Normalizados"
      ]
    },
    {
      "cell_type": "code",
      "metadata": {
        "id": "Y1kZoLjFfY8I"
      },
      "source": [
        "# Separação em conjuntos de treino e teste\n",
        "array = datasetSemMissings.values\n",
        "X = array[:,0:6].astype(float)\n",
        "Y = array[:,6]\n",
        "test_size = 0.20\n",
        "seed = 7\n",
        "X_train, X_test, Y_train, Y_test = train_test_split(X, Y,\n",
        "    test_size=test_size, random_state=seed)"
      ],
      "execution_count": null,
      "outputs": []
    },
    {
      "cell_type": "code",
      "metadata": {
        "id": "JvR7P9_8fq2H"
      },
      "source": [
        "# Parâmetros\n",
        "num_folds = 10\n",
        "scoring = 'accuracy'"
      ],
      "execution_count": null,
      "outputs": []
    },
    {
      "cell_type": "code",
      "metadata": {
        "id": "h9_Va6XHfq6K"
      },
      "source": [
        "# Criação dos modelos\n",
        "models = []\n",
        "models.append(('LR', LogisticRegression(solver='liblinear'))) \n",
        "models.append(('KNN', KNeighborsClassifier())) \n",
        "models.append(('CART', DecisionTreeClassifier())) \n",
        "models.append(('NB', GaussianNB()))\n",
        "models.append(('SVM', SVC(gamma='auto')))"
      ],
      "execution_count": null,
      "outputs": []
    },
    {
      "cell_type": "code",
      "metadata": {
        "id": "YEQJ_CXnfzwy"
      },
      "source": [
        "# Avaliação dos modelos\n",
        "results = []\n",
        "names = []\n",
        "for name, model in models:\n",
        "  kfold = KFold(n_splits=num_folds)\n",
        "  cv_results = cross_val_score(model, X_train, Y_train, cv=kfold, scoring=scoring)\n",
        "  results.append(cv_results)\n",
        "  names.append(name)\n",
        "  msg = \"%s: %f (%f)\" % (name, cv_results.mean(), cv_results.std())\n",
        "  print(msg)"
      ],
      "execution_count": null,
      "outputs": []
    },
    {
      "cell_type": "code",
      "metadata": {
        "id": "XrDLQvCyg5r7"
      },
      "source": [
        "# Padronização do dataset\n",
        "pipelines = []\n",
        "pipelines.append(('ScaledLR', Pipeline([('Scaler', StandardScaler()),('LR', LogisticRegression(solver='liblinear'))]))) \n",
        "pipelines.append(('ScaledKNN', Pipeline([('Scaler', StandardScaler()),('KNN', KNeighborsClassifier())])))\n",
        "pipelines.append(('ScaledCART', Pipeline([('Scaler', StandardScaler()),('CART', DecisionTreeClassifier())])))\n",
        "pipelines.append(('ScaledNB', Pipeline([('Scaler', StandardScaler()),('NB', GaussianNB())])))\n",
        "pipelines.append(('ScaledSVM', Pipeline([('Scaler', StandardScaler()),('SVM', SVC(gamma='auto'))])))\n",
        "results = []\n",
        "names = []\n",
        "for name, model in pipelines:\n",
        "  kfold = KFold(n_splits=num_folds)\n",
        "  cv_results = cross_val_score(model, X_train, Y_train, cv=kfold, scoring=scoring)\n",
        "  results.append(cv_results)\n",
        "  names.append(name)\n",
        "  msg = \"%s: %f (%f)\" % (name, cv_results.mean(), cv_results.std())\n",
        "  print(msg)"
      ],
      "execution_count": null,
      "outputs": []
    },
    {
      "cell_type": "code",
      "metadata": {
        "id": "3QN5ZhAVg5vE"
      },
      "source": [
        "# Normalização do dataset\n",
        "pipelines = []\n",
        "pipelines.append(('ScaledMinMaxLR', Pipeline([('Scaler', MinMaxScaler()),('LR', LogisticRegression(solver='liblinear'))]))) \n",
        "pipelines.append(('ScaledMinMaxKNN', Pipeline([('Scaler', MinMaxScaler()),('KNN', KNeighborsClassifier())])))\n",
        "pipelines.append(('ScaledMinMaxCART', Pipeline([('Scaler', MinMaxScaler()),('CART', DecisionTreeClassifier())])))\n",
        "pipelines.append(('ScaledMinMaxNB', Pipeline([('Scaler', MinMaxScaler()),('NB', GaussianNB())])))\n",
        "pipelines.append(('ScaledMinMaxSVM', Pipeline([('Scaler', MinMaxScaler()),('SVM', SVC(gamma='auto'))])))\n",
        "results = []\n",
        "names = []\n",
        "for name, model in pipelines:\n",
        "  kfold = KFold(n_splits=num_folds)\n",
        "  cv_results = cross_val_score(model, X_train, Y_train, cv=kfold, scoring=scoring)\n",
        "  results.append(cv_results)\n",
        "  names.append(name)\n",
        "  msg = \"%s: %f (%f)\" % (name, cv_results.mean(), cv_results.std())\n",
        "  print(msg)"
      ],
      "execution_count": null,
      "outputs": []
    },
    {
      "cell_type": "code",
      "metadata": {
        "id": "8Abue5oj9csN"
      },
      "source": [
        "np.random.seed(7) # definindo uma semente global\n",
        "\n",
        "# Tuning do SVM\n",
        "\n",
        "kfold = KFold(n_splits=num_folds)\n",
        "\n",
        "pipeline = Pipeline(steps=[('Scaler', StandardScaler()), ('svc', SVC(gamma='auto'))])\n",
        "\n",
        "# Parameters of pipelines can be set using ‘__’ separated parameter names:\n",
        "param_grid = {\n",
        "    'svc__C': [0.1, 0.3, 0.5, 0.7, 0.9, 1.0, 1.3, 1.5, 1.7, 2.0],\n",
        "    'svc__kernel': ['linear', 'poly', 'rbf', 'sigmoid']\n",
        "}\n",
        "\n",
        "grid = GridSearchCV(estimator=pipeline, param_grid=param_grid, scoring=scoring, cv=kfold)\n",
        "grid_result = grid.fit(X_train, Y_train)\n",
        "print(\"Melhor: %f usando %s\" % (grid_result.best_score_, grid_result.best_params_)) \n",
        "\n",
        "means = grid_result.cv_results_['mean_test_score']\n",
        "stds = grid_result.cv_results_['std_test_score']\n",
        "params = grid_result.cv_results_['params']\n",
        "for mean, stdev, param in zip(means, stds, params):\n",
        "  print(\"%f (%f): %r\" % (mean, stdev, param))"
      ],
      "execution_count": null,
      "outputs": []
    },
    {
      "cell_type": "markdown",
      "metadata": {
        "id": "wpopPk1x9mTY"
      },
      "source": [
        "O SVM com kernel sigmoid e C = 0,1 até o momento foi o modelo que mostrou melhor acurácia para o problema, mas ainda assim, verificamos que o tratamento de missings não melhorou a acurácia anterior. Sendo assim, o fluxo será interrompido, sendo melhor utilizar o dataset completo para treinamento, neste caso."
      ]
    },
    {
      "cell_type": "markdown",
      "metadata": {
        "id": "ajCN3RywDdi9"
      },
      "source": [
        "## Resumo\n",
        "\n",
        "Resumidamente, neste exemplo trabalhamos com um problema de classificação binária de ponta a ponta. As etapas abordadas foram:\n",
        "* Definição do problema (Pima Indians Diabetes).\n",
        "* Carga dos dados\n",
        "* Análise dos dados (verificamos que estavam na mesma escala, mas com diferentes distribuições de dados).\n",
        "* Avaliação de modelos de linha base (até aqui, o KNN era o melhor).\n",
        "* Avaliação de modelos com padronização dos dados (até aqui, KNN e SVM eram os melhores).\n",
        "* Ajuste dos modelos (a melhor configuração do KNN foi com k = 1 e métrica de distância euclidiana e a melhor configuração do SVM foi com kernel linear e C = 0.1).\n",
        "* Métodos de ensemble (não performaram tão bem quanto SVM)\n",
        "* Finalização do modelo (use todos os dados de treinamento e valide usando o conjunto de dados de teste).\n",
        "\n",
        "Depois, experimentamos fazer o tratamento de missings no dataset, mas como os resultados alcançados foram piores em termos de acurácia, interrompemos o fluxo.\n",
        "\n",
        "É importante ressaltar que este exemplo não buscou ser exaustivo, apresentando apenas uma parte dos muitos recursos disponíveis na biblioteca Scikit-Learn para que você compreenda em linhas gerais o seu funcionamento. Por exemplo, poderíamos ter testado outras operações de pré-processamento de dados, outros valores de hiperparâmetros e ainda, outros modelos de classificação, como os ensembles. Recomendamos que você explore a documentação disponível e incremente este exemplo com novas possibilidades."
      ]
    }
  ]
}